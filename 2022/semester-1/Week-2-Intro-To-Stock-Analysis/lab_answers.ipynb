{
  "cells": [
    {
      "cell_type": "markdown",
      "metadata": {
        "id": "vVCCCnvtr7AY"
      },
      "source": [
        "# Initialization"
      ]
    },
    {
      "cell_type": "markdown",
      "metadata": {
        "id": "gBUxubjesIO_"
      },
      "source": [
        "### install necessary libraries"
      ]
    },
    {
      "cell_type": "code",
      "execution_count": null,
      "metadata": {
        "id": "mG3AvZbjrtHw"
      },
      "outputs": [],
      "source": [
        "# Install essential Python packages\n",
        "# every line start with \"!\" is executed in terminal"
      ]
    },
    {
      "cell_type": "markdown",
      "metadata": {
        "id": "4kAzMOkCsRR4"
      },
      "source": [
        "### upgrade basic libraries"
      ]
    },
    {
      "cell_type": "code",
      "execution_count": null,
      "metadata": {
        "colab": {
          "background_save": true,
          "base_uri": "https://localhost:8080/"
        },
        "id": "jXrCyoOosT5n",
        "outputId": "04e9a2a3-245f-4cee-fa9d-800806ccbc6f"
      },
      "outputs": [
        {
          "name": "stdout",
          "output_type": "stream",
          "text": [
            "Looking in indexes: https://pypi.org/simple, https://us-python.pkg.dev/colab-wheels/public/simple/\n",
            "Requirement already satisfied: pandas in /usr/local/lib/python3.7/dist-packages (1.3.5)\n",
            "Requirement already satisfied: python-dateutil>=2.7.3 in /usr/local/lib/python3.7/dist-packages (from pandas) (2.8.2)\n",
            "Requirement already satisfied: numpy>=1.17.3 in /usr/local/lib/python3.7/dist-packages (from pandas) (1.21.6)\n",
            "Requirement already satisfied: pytz>=2017.3 in /usr/local/lib/python3.7/dist-packages (from pandas) (2022.4)\n",
            "Requirement already satisfied: six>=1.5 in /usr/local/lib/python3.7/dist-packages (from python-dateutil>=2.7.3->pandas) (1.15.0)\n",
            "Looking in indexes: https://pypi.org/simple, https://us-python.pkg.dev/colab-wheels/public/simple/\n",
            "Requirement already satisfied: pandas_datareader in /usr/local/lib/python3.7/dist-packages (0.9.0)\n",
            "Collecting pandas_datareader\n",
            "  Downloading pandas_datareader-0.10.0-py3-none-any.whl (109 kB)\n",
            "\u001b[K     |████████████████████████████████| 109 kB 5.5 MB/s \n",
            "\u001b[?25hRequirement already satisfied: lxml in /usr/local/lib/python3.7/dist-packages (from pandas_datareader) (4.9.1)\n",
            "Requirement already satisfied: requests>=2.19.0 in /usr/local/lib/python3.7/dist-packages (from pandas_datareader) (2.23.0)\n",
            "Requirement already satisfied: pandas>=0.23 in /usr/local/lib/python3.7/dist-packages (from pandas_datareader) (1.3.5)\n",
            "Requirement already satisfied: pytz>=2017.3 in /usr/local/lib/python3.7/dist-packages (from pandas>=0.23->pandas_datareader) (2022.4)\n",
            "Requirement already satisfied: numpy>=1.17.3 in /usr/local/lib/python3.7/dist-packages (from pandas>=0.23->pandas_datareader) (1.21.6)\n",
            "Requirement already satisfied: python-dateutil>=2.7.3 in /usr/local/lib/python3.7/dist-packages (from pandas>=0.23->pandas_datareader) (2.8.2)\n",
            "Requirement already satisfied: six>=1.5 in /usr/local/lib/python3.7/dist-packages (from python-dateutil>=2.7.3->pandas>=0.23->pandas_datareader) (1.15.0)\n",
            "Requirement already satisfied: chardet<4,>=3.0.2 in /usr/local/lib/python3.7/dist-packages (from requests>=2.19.0->pandas_datareader) (3.0.4)\n",
            "Requirement already satisfied: urllib3!=1.25.0,!=1.25.1,<1.26,>=1.21.1 in /usr/local/lib/python3.7/dist-packages (from requests>=2.19.0->pandas_datareader) (1.24.3)\n",
            "Requirement already satisfied: certifi>=2017.4.17 in /usr/local/lib/python3.7/dist-packages (from requests>=2.19.0->pandas_datareader) (2022.9.24)\n",
            "Requirement already satisfied: idna<3,>=2.5 in /usr/local/lib/python3.7/dist-packages (from requests>=2.19.0->pandas_datareader) (2.10)\n",
            "Installing collected packages: pandas-datareader\n",
            "  Attempting uninstall: pandas-datareader\n",
            "    Found existing installation: pandas-datareader 0.9.0\n",
            "    Uninstalling pandas-datareader-0.9.0:\n",
            "      Successfully uninstalled pandas-datareader-0.9.0\n",
            "Successfully installed pandas-datareader-0.10.0\n",
            "Looking in indexes: https://pypi.org/simple, https://us-python.pkg.dev/colab-wheels/public/simple/\n",
            "Requirement already satisfied: matplotlib in /usr/local/lib/python3.7/dist-packages (3.2.2)\n",
            "Collecting matplotlib\n",
            "  Downloading matplotlib-3.5.3-cp37-cp37m-manylinux_2_5_x86_64.manylinux1_x86_64.whl (11.2 MB)\n",
            "\u001b[K     |████████████████████████████████| 11.2 MB 5.0 MB/s \n",
            "\u001b[?25hRequirement already satisfied: python-dateutil>=2.7 in /usr/local/lib/python3.7/dist-packages (from matplotlib) (2.8.2)\n",
            "Requirement already satisfied: pyparsing>=2.2.1 in /usr/local/lib/python3.7/dist-packages (from matplotlib) (3.0.9)\n",
            "Requirement already satisfied: numpy>=1.17 in /usr/local/lib/python3.7/dist-packages (from matplotlib) (1.21.6)\n",
            "Requirement already satisfied: kiwisolver>=1.0.1 in /usr/local/lib/python3.7/dist-packages (from matplotlib) (1.4.4)\n",
            "Collecting fonttools>=4.22.0\n",
            "  Downloading fonttools-4.37.4-py3-none-any.whl (960 kB)\n",
            "\u001b[K     |████████████████████████████████| 960 kB 44.2 MB/s \n",
            "\u001b[?25hRequirement already satisfied: cycler>=0.10 in /usr/local/lib/python3.7/dist-packages (from matplotlib) (0.11.0)\n",
            "Requirement already satisfied: packaging>=20.0 in /usr/local/lib/python3.7/dist-packages (from matplotlib) (21.3)\n",
            "Requirement already satisfied: pillow>=6.2.0 in /usr/local/lib/python3.7/dist-packages (from matplotlib) (7.1.2)\n",
            "Requirement already satisfied: typing-extensions in /usr/local/lib/python3.7/dist-packages (from kiwisolver>=1.0.1->matplotlib) (4.1.1)\n",
            "Requirement already satisfied: six>=1.5 in /usr/local/lib/python3.7/dist-packages (from python-dateutil>=2.7->matplotlib) (1.15.0)\n",
            "Installing collected packages: fonttools, matplotlib\n",
            "  Attempting uninstall: matplotlib\n",
            "    Found existing installation: matplotlib 3.2.2\n",
            "    Uninstalling matplotlib-3.2.2:\n",
            "      Successfully uninstalled matplotlib-3.2.2\n",
            "Successfully installed fonttools-4.37.4 matplotlib-3.5.3\n"
          ]
        },
        {
          "data": {
            "application/vnd.colab-display-data+json": {
              "pip_warning": {
                "packages": [
                  "matplotlib",
                  "mpl_toolkits"
                ]
              }
            }
          },
          "metadata": {},
          "output_type": "display_data"
        }
      ],
      "source": [
        "# libraries included in the colab usually are old and may affect our results\n",
        "!pip install --upgrade pandas\n",
        "!pip install --upgrade pandas_datareader\n",
        "!pip install --upgrade matplotlib"
      ]
    },
    {
      "cell_type": "markdown",
      "metadata": {
        "id": "hLnrzAWyRM73"
      },
      "source": [
        "## import libraries"
      ]
    },
    {
      "cell_type": "code",
      "execution_count": null,
      "metadata": {
        "id": "DvtoAS0TQu92"
      },
      "outputs": [],
      "source": [
        "# pandas: for data processing support\n",
        "import pandas as pd\n",
        "from pandas import Series, DataFrame\n",
        "\n",
        "# pandas_dataloader: for web data reading-in support\n",
        "import pandas_datareader.data as web\n",
        "\n",
        "# matplotlib: for visualising data\n",
        "import matplotlib as mpl\n",
        "\n",
        "# we can also use import matplotlib.pyplot as plt which is simpler\n",
        "from matplotlib import pyplot as plt\n",
        "\n",
        "# yfinance: an open-source tool that uses Yahoo's publicly available APIs\n",
        "import yfinance as yf"
      ]
    },
    {
      "cell_type": "markdown",
      "metadata": {
        "id": "-H8MXTgPs8Rw"
      },
      "source": [
        "# Basic stocks analysis"
      ]
    },
    {
      "cell_type": "markdown",
      "metadata": {
        "id": "01hcn4ZCwOhE"
      },
      "source": [
        "### exploratory data analysis \n"
      ]
    },
    {
      "cell_type": "code",
      "execution_count": null,
      "metadata": {
        "id": "CPxVlwedtQCU"
      },
      "outputs": [],
      "source": [
        "# declare start and end time\n",
        "import datetime\n",
        "start = datetime.datetime(2010,1,1)\n",
        "end = datetime.datetime(2017,1,11) "
      ]
    },
    {
      "cell_type": "code",
      "execution_count": null,
      "metadata": {
        "colab": {
          "base_uri": "https://localhost:8080/",
          "height": 238
        },
        "id": "C4WUmpiwtUr_",
        "outputId": "7786955b-3c1b-42d8-9851-a115cb486a3b"
      },
      "outputs": [
        {
          "data": {
            "text/html": [
              "\n",
              "  <div id=\"df-330dbe00-0991-406f-a0ac-805757fa85dd\">\n",
              "    <div class=\"colab-df-container\">\n",
              "      <div>\n",
              "<style scoped>\n",
              "    .dataframe tbody tr th:only-of-type {\n",
              "        vertical-align: middle;\n",
              "    }\n",
              "\n",
              "    .dataframe tbody tr th {\n",
              "        vertical-align: top;\n",
              "    }\n",
              "\n",
              "    .dataframe thead th {\n",
              "        text-align: right;\n",
              "    }\n",
              "</style>\n",
              "<table border=\"1\" class=\"dataframe\">\n",
              "  <thead>\n",
              "    <tr style=\"text-align: right;\">\n",
              "      <th></th>\n",
              "      <th>High</th>\n",
              "      <th>Low</th>\n",
              "      <th>Open</th>\n",
              "      <th>Close</th>\n",
              "      <th>Volume</th>\n",
              "      <th>Adj Close</th>\n",
              "    </tr>\n",
              "    <tr>\n",
              "      <th>Date</th>\n",
              "      <th></th>\n",
              "      <th></th>\n",
              "      <th></th>\n",
              "      <th></th>\n",
              "      <th></th>\n",
              "      <th></th>\n",
              "    </tr>\n",
              "  </thead>\n",
              "  <tbody>\n",
              "    <tr>\n",
              "      <th>2010-01-04</th>\n",
              "      <td>7.660714</td>\n",
              "      <td>7.585000</td>\n",
              "      <td>7.622500</td>\n",
              "      <td>7.643214</td>\n",
              "      <td>493729600.0</td>\n",
              "      <td>6.526020</td>\n",
              "    </tr>\n",
              "    <tr>\n",
              "      <th>2010-01-05</th>\n",
              "      <td>7.699643</td>\n",
              "      <td>7.616071</td>\n",
              "      <td>7.664286</td>\n",
              "      <td>7.656429</td>\n",
              "      <td>601904800.0</td>\n",
              "      <td>6.537304</td>\n",
              "    </tr>\n",
              "    <tr>\n",
              "      <th>2010-01-06</th>\n",
              "      <td>7.686786</td>\n",
              "      <td>7.526786</td>\n",
              "      <td>7.656429</td>\n",
              "      <td>7.534643</td>\n",
              "      <td>552160000.0</td>\n",
              "      <td>6.433320</td>\n",
              "    </tr>\n",
              "    <tr>\n",
              "      <th>2010-01-07</th>\n",
              "      <td>7.571429</td>\n",
              "      <td>7.466071</td>\n",
              "      <td>7.562500</td>\n",
              "      <td>7.520714</td>\n",
              "      <td>477131200.0</td>\n",
              "      <td>6.421425</td>\n",
              "    </tr>\n",
              "    <tr>\n",
              "      <th>2010-01-08</th>\n",
              "      <td>7.571429</td>\n",
              "      <td>7.466429</td>\n",
              "      <td>7.510714</td>\n",
              "      <td>7.570714</td>\n",
              "      <td>447610800.0</td>\n",
              "      <td>6.464119</td>\n",
              "    </tr>\n",
              "  </tbody>\n",
              "</table>\n",
              "</div>\n",
              "      <button class=\"colab-df-convert\" onclick=\"convertToInteractive('df-330dbe00-0991-406f-a0ac-805757fa85dd')\"\n",
              "              title=\"Convert this dataframe to an interactive table.\"\n",
              "              style=\"display:none;\">\n",
              "        \n",
              "  <svg xmlns=\"http://www.w3.org/2000/svg\" height=\"24px\"viewBox=\"0 0 24 24\"\n",
              "       width=\"24px\">\n",
              "    <path d=\"M0 0h24v24H0V0z\" fill=\"none\"/>\n",
              "    <path d=\"M18.56 5.44l.94 2.06.94-2.06 2.06-.94-2.06-.94-.94-2.06-.94 2.06-2.06.94zm-11 1L8.5 8.5l.94-2.06 2.06-.94-2.06-.94L8.5 2.5l-.94 2.06-2.06.94zm10 10l.94 2.06.94-2.06 2.06-.94-2.06-.94-.94-2.06-.94 2.06-2.06.94z\"/><path d=\"M17.41 7.96l-1.37-1.37c-.4-.4-.92-.59-1.43-.59-.52 0-1.04.2-1.43.59L10.3 9.45l-7.72 7.72c-.78.78-.78 2.05 0 2.83L4 21.41c.39.39.9.59 1.41.59.51 0 1.02-.2 1.41-.59l7.78-7.78 2.81-2.81c.8-.78.8-2.07 0-2.86zM5.41 20L4 18.59l7.72-7.72 1.47 1.35L5.41 20z\"/>\n",
              "  </svg>\n",
              "      </button>\n",
              "      \n",
              "  <style>\n",
              "    .colab-df-container {\n",
              "      display:flex;\n",
              "      flex-wrap:wrap;\n",
              "      gap: 12px;\n",
              "    }\n",
              "\n",
              "    .colab-df-convert {\n",
              "      background-color: #E8F0FE;\n",
              "      border: none;\n",
              "      border-radius: 50%;\n",
              "      cursor: pointer;\n",
              "      display: none;\n",
              "      fill: #1967D2;\n",
              "      height: 32px;\n",
              "      padding: 0 0 0 0;\n",
              "      width: 32px;\n",
              "    }\n",
              "\n",
              "    .colab-df-convert:hover {\n",
              "      background-color: #E2EBFA;\n",
              "      box-shadow: 0px 1px 2px rgba(60, 64, 67, 0.3), 0px 1px 3px 1px rgba(60, 64, 67, 0.15);\n",
              "      fill: #174EA6;\n",
              "    }\n",
              "\n",
              "    [theme=dark] .colab-df-convert {\n",
              "      background-color: #3B4455;\n",
              "      fill: #D2E3FC;\n",
              "    }\n",
              "\n",
              "    [theme=dark] .colab-df-convert:hover {\n",
              "      background-color: #434B5C;\n",
              "      box-shadow: 0px 1px 3px 1px rgba(0, 0, 0, 0.15);\n",
              "      filter: drop-shadow(0px 1px 2px rgba(0, 0, 0, 0.3));\n",
              "      fill: #FFFFFF;\n",
              "    }\n",
              "  </style>\n",
              "\n",
              "      <script>\n",
              "        const buttonEl =\n",
              "          document.querySelector('#df-330dbe00-0991-406f-a0ac-805757fa85dd button.colab-df-convert');\n",
              "        buttonEl.style.display =\n",
              "          google.colab.kernel.accessAllowed ? 'block' : 'none';\n",
              "\n",
              "        async function convertToInteractive(key) {\n",
              "          const element = document.querySelector('#df-330dbe00-0991-406f-a0ac-805757fa85dd');\n",
              "          const dataTable =\n",
              "            await google.colab.kernel.invokeFunction('convertToInteractive',\n",
              "                                                     [key], {});\n",
              "          if (!dataTable) return;\n",
              "\n",
              "          const docLinkHtml = 'Like what you see? Visit the ' +\n",
              "            '<a target=\"_blank\" href=https://colab.research.google.com/notebooks/data_table.ipynb>data table notebook</a>'\n",
              "            + ' to learn more about interactive tables.';\n",
              "          element.innerHTML = '';\n",
              "          dataTable['output_type'] = 'display_data';\n",
              "          await google.colab.output.renderOutput(dataTable, element);\n",
              "          const docLink = document.createElement('div');\n",
              "          docLink.innerHTML = docLinkHtml;\n",
              "          element.appendChild(docLink);\n",
              "        }\n",
              "      </script>\n",
              "    </div>\n",
              "  </div>\n",
              "  "
            ],
            "text/plain": [
              "                High       Low      Open     Close       Volume  Adj Close\n",
              "Date                                                                      \n",
              "2010-01-04  7.660714  7.585000  7.622500  7.643214  493729600.0   6.526020\n",
              "2010-01-05  7.699643  7.616071  7.664286  7.656429  601904800.0   6.537304\n",
              "2010-01-06  7.686786  7.526786  7.656429  7.534643  552160000.0   6.433320\n",
              "2010-01-07  7.571429  7.466071  7.562500  7.520714  477131200.0   6.421425\n",
              "2010-01-08  7.571429  7.466429  7.510714  7.570714  447610800.0   6.464119"
            ]
          },
          "execution_count": 5,
          "metadata": {},
          "output_type": "execute_result"
        }
      ],
      "source": [
        "# import the stock data of aapl from yahoo finance with the range of time stated\n",
        "df = web.DataReader(\"AAPL\", 'yahoo', start, end)\n",
        "\n",
        "# inspect first 5 rows\n",
        "df.head()"
      ]
    },
    {
      "cell_type": "code",
      "execution_count": null,
      "metadata": {
        "colab": {
          "base_uri": "https://localhost:8080/",
          "height": 300
        },
        "id": "KNw9XMnX7DsT",
        "outputId": "6418038b-113f-4cb0-ce1c-9deed359df30"
      },
      "outputs": [
        {
          "data": {
            "text/html": [
              "\n",
              "  <div id=\"df-2c3343d0-5f26-42ec-bc75-e7968668ffe6\">\n",
              "    <div class=\"colab-df-container\">\n",
              "      <div>\n",
              "<style scoped>\n",
              "    .dataframe tbody tr th:only-of-type {\n",
              "        vertical-align: middle;\n",
              "    }\n",
              "\n",
              "    .dataframe tbody tr th {\n",
              "        vertical-align: top;\n",
              "    }\n",
              "\n",
              "    .dataframe thead th {\n",
              "        text-align: right;\n",
              "    }\n",
              "</style>\n",
              "<table border=\"1\" class=\"dataframe\">\n",
              "  <thead>\n",
              "    <tr style=\"text-align: right;\">\n",
              "      <th></th>\n",
              "      <th>High</th>\n",
              "      <th>Low</th>\n",
              "      <th>Open</th>\n",
              "      <th>Close</th>\n",
              "      <th>Volume</th>\n",
              "      <th>Adj Close</th>\n",
              "    </tr>\n",
              "    <tr>\n",
              "      <th>Date</th>\n",
              "      <th></th>\n",
              "      <th></th>\n",
              "      <th></th>\n",
              "      <th></th>\n",
              "      <th></th>\n",
              "      <th></th>\n",
              "    </tr>\n",
              "  </thead>\n",
              "  <tbody>\n",
              "    <tr>\n",
              "      <th>2017-01-03</th>\n",
              "      <td>29.082500</td>\n",
              "      <td>28.690001</td>\n",
              "      <td>28.950001</td>\n",
              "      <td>29.037500</td>\n",
              "      <td>115127600.0</td>\n",
              "      <td>27.219835</td>\n",
              "    </tr>\n",
              "    <tr>\n",
              "      <th>2017-01-04</th>\n",
              "      <td>29.127501</td>\n",
              "      <td>28.937500</td>\n",
              "      <td>28.962500</td>\n",
              "      <td>29.004999</td>\n",
              "      <td>84472400.0</td>\n",
              "      <td>27.189369</td>\n",
              "    </tr>\n",
              "    <tr>\n",
              "      <th>2017-01-05</th>\n",
              "      <td>29.215000</td>\n",
              "      <td>28.952499</td>\n",
              "      <td>28.980000</td>\n",
              "      <td>29.152500</td>\n",
              "      <td>88774400.0</td>\n",
              "      <td>27.327635</td>\n",
              "    </tr>\n",
              "    <tr>\n",
              "      <th>2017-01-06</th>\n",
              "      <td>29.540001</td>\n",
              "      <td>29.117500</td>\n",
              "      <td>29.195000</td>\n",
              "      <td>29.477501</td>\n",
              "      <td>127007600.0</td>\n",
              "      <td>27.632290</td>\n",
              "    </tr>\n",
              "    <tr>\n",
              "      <th>2017-01-09</th>\n",
              "      <td>29.857500</td>\n",
              "      <td>29.485001</td>\n",
              "      <td>29.487499</td>\n",
              "      <td>29.747499</td>\n",
              "      <td>134247600.0</td>\n",
              "      <td>27.885384</td>\n",
              "    </tr>\n",
              "    <tr>\n",
              "      <th>2017-01-10</th>\n",
              "      <td>29.844999</td>\n",
              "      <td>29.575001</td>\n",
              "      <td>29.692499</td>\n",
              "      <td>29.777500</td>\n",
              "      <td>97848400.0</td>\n",
              "      <td>27.913513</td>\n",
              "    </tr>\n",
              "    <tr>\n",
              "      <th>2017-01-11</th>\n",
              "      <td>29.982500</td>\n",
              "      <td>29.650000</td>\n",
              "      <td>29.684999</td>\n",
              "      <td>29.937500</td>\n",
              "      <td>110354400.0</td>\n",
              "      <td>28.063499</td>\n",
              "    </tr>\n",
              "  </tbody>\n",
              "</table>\n",
              "</div>\n",
              "      <button class=\"colab-df-convert\" onclick=\"convertToInteractive('df-2c3343d0-5f26-42ec-bc75-e7968668ffe6')\"\n",
              "              title=\"Convert this dataframe to an interactive table.\"\n",
              "              style=\"display:none;\">\n",
              "        \n",
              "  <svg xmlns=\"http://www.w3.org/2000/svg\" height=\"24px\"viewBox=\"0 0 24 24\"\n",
              "       width=\"24px\">\n",
              "    <path d=\"M0 0h24v24H0V0z\" fill=\"none\"/>\n",
              "    <path d=\"M18.56 5.44l.94 2.06.94-2.06 2.06-.94-2.06-.94-.94-2.06-.94 2.06-2.06.94zm-11 1L8.5 8.5l.94-2.06 2.06-.94-2.06-.94L8.5 2.5l-.94 2.06-2.06.94zm10 10l.94 2.06.94-2.06 2.06-.94-2.06-.94-.94-2.06-.94 2.06-2.06.94z\"/><path d=\"M17.41 7.96l-1.37-1.37c-.4-.4-.92-.59-1.43-.59-.52 0-1.04.2-1.43.59L10.3 9.45l-7.72 7.72c-.78.78-.78 2.05 0 2.83L4 21.41c.39.39.9.59 1.41.59.51 0 1.02-.2 1.41-.59l7.78-7.78 2.81-2.81c.8-.78.8-2.07 0-2.86zM5.41 20L4 18.59l7.72-7.72 1.47 1.35L5.41 20z\"/>\n",
              "  </svg>\n",
              "      </button>\n",
              "      \n",
              "  <style>\n",
              "    .colab-df-container {\n",
              "      display:flex;\n",
              "      flex-wrap:wrap;\n",
              "      gap: 12px;\n",
              "    }\n",
              "\n",
              "    .colab-df-convert {\n",
              "      background-color: #E8F0FE;\n",
              "      border: none;\n",
              "      border-radius: 50%;\n",
              "      cursor: pointer;\n",
              "      display: none;\n",
              "      fill: #1967D2;\n",
              "      height: 32px;\n",
              "      padding: 0 0 0 0;\n",
              "      width: 32px;\n",
              "    }\n",
              "\n",
              "    .colab-df-convert:hover {\n",
              "      background-color: #E2EBFA;\n",
              "      box-shadow: 0px 1px 2px rgba(60, 64, 67, 0.3), 0px 1px 3px 1px rgba(60, 64, 67, 0.15);\n",
              "      fill: #174EA6;\n",
              "    }\n",
              "\n",
              "    [theme=dark] .colab-df-convert {\n",
              "      background-color: #3B4455;\n",
              "      fill: #D2E3FC;\n",
              "    }\n",
              "\n",
              "    [theme=dark] .colab-df-convert:hover {\n",
              "      background-color: #434B5C;\n",
              "      box-shadow: 0px 1px 3px 1px rgba(0, 0, 0, 0.15);\n",
              "      filter: drop-shadow(0px 1px 2px rgba(0, 0, 0, 0.3));\n",
              "      fill: #FFFFFF;\n",
              "    }\n",
              "  </style>\n",
              "\n",
              "      <script>\n",
              "        const buttonEl =\n",
              "          document.querySelector('#df-2c3343d0-5f26-42ec-bc75-e7968668ffe6 button.colab-df-convert');\n",
              "        buttonEl.style.display =\n",
              "          google.colab.kernel.accessAllowed ? 'block' : 'none';\n",
              "\n",
              "        async function convertToInteractive(key) {\n",
              "          const element = document.querySelector('#df-2c3343d0-5f26-42ec-bc75-e7968668ffe6');\n",
              "          const dataTable =\n",
              "            await google.colab.kernel.invokeFunction('convertToInteractive',\n",
              "                                                     [key], {});\n",
              "          if (!dataTable) return;\n",
              "\n",
              "          const docLinkHtml = 'Like what you see? Visit the ' +\n",
              "            '<a target=\"_blank\" href=https://colab.research.google.com/notebooks/data_table.ipynb>data table notebook</a>'\n",
              "            + ' to learn more about interactive tables.';\n",
              "          element.innerHTML = '';\n",
              "          dataTable['output_type'] = 'display_data';\n",
              "          await google.colab.output.renderOutput(dataTable, element);\n",
              "          const docLink = document.createElement('div');\n",
              "          docLink.innerHTML = docLinkHtml;\n",
              "          element.appendChild(docLink);\n",
              "        }\n",
              "      </script>\n",
              "    </div>\n",
              "  </div>\n",
              "  "
            ],
            "text/plain": [
              "                 High        Low       Open      Close       Volume  Adj Close\n",
              "Date                                                                          \n",
              "2017-01-03  29.082500  28.690001  28.950001  29.037500  115127600.0  27.219835\n",
              "2017-01-04  29.127501  28.937500  28.962500  29.004999   84472400.0  27.189369\n",
              "2017-01-05  29.215000  28.952499  28.980000  29.152500   88774400.0  27.327635\n",
              "2017-01-06  29.540001  29.117500  29.195000  29.477501  127007600.0  27.632290\n",
              "2017-01-09  29.857500  29.485001  29.487499  29.747499  134247600.0  27.885384\n",
              "2017-01-10  29.844999  29.575001  29.692499  29.777500   97848400.0  27.913513\n",
              "2017-01-11  29.982500  29.650000  29.684999  29.937500  110354400.0  28.063499"
            ]
          },
          "execution_count": 6,
          "metadata": {},
          "output_type": "execute_result"
        }
      ],
      "source": [
        "# inspect last 7 rows\n",
        "df.tail(7)"
      ]
    },
    {
      "cell_type": "code",
      "execution_count": null,
      "metadata": {
        "colab": {
          "base_uri": "https://localhost:8080/",
          "height": 300
        },
        "id": "Dni2BMjZ7PMM",
        "outputId": "eb23d818-a3ef-4e1f-835e-e8ef2ea13c2c"
      },
      "outputs": [
        {
          "data": {
            "text/html": [
              "\n",
              "  <div id=\"df-7299fd66-c4c6-4dfd-baaa-3cb8cd6f7e9a\">\n",
              "    <div class=\"colab-df-container\">\n",
              "      <div>\n",
              "<style scoped>\n",
              "    .dataframe tbody tr th:only-of-type {\n",
              "        vertical-align: middle;\n",
              "    }\n",
              "\n",
              "    .dataframe tbody tr th {\n",
              "        vertical-align: top;\n",
              "    }\n",
              "\n",
              "    .dataframe thead th {\n",
              "        text-align: right;\n",
              "    }\n",
              "</style>\n",
              "<table border=\"1\" class=\"dataframe\">\n",
              "  <thead>\n",
              "    <tr style=\"text-align: right;\">\n",
              "      <th></th>\n",
              "      <th>High</th>\n",
              "      <th>Low</th>\n",
              "      <th>Open</th>\n",
              "      <th>Close</th>\n",
              "      <th>Volume</th>\n",
              "      <th>Adj Close</th>\n",
              "    </tr>\n",
              "  </thead>\n",
              "  <tbody>\n",
              "    <tr>\n",
              "      <th>count</th>\n",
              "      <td>1769.000000</td>\n",
              "      <td>1769.000000</td>\n",
              "      <td>1769.000000</td>\n",
              "      <td>1769.000000</td>\n",
              "      <td>1.769000e+03</td>\n",
              "      <td>1769.000000</td>\n",
              "    </tr>\n",
              "    <tr>\n",
              "      <th>mean</th>\n",
              "      <td>20.072649</td>\n",
              "      <td>19.697763</td>\n",
              "      <td>19.894219</td>\n",
              "      <td>19.888647</td>\n",
              "      <td>3.758507e+08</td>\n",
              "      <td>17.692292</td>\n",
              "    </tr>\n",
              "    <tr>\n",
              "      <th>std</th>\n",
              "      <td>7.150999</td>\n",
              "      <td>7.038787</td>\n",
              "      <td>7.095451</td>\n",
              "      <td>7.094345</td>\n",
              "      <td>2.409303e+08</td>\n",
              "      <td>6.741325</td>\n",
              "    </tr>\n",
              "    <tr>\n",
              "      <th>min</th>\n",
              "      <td>7.000000</td>\n",
              "      <td>6.794643</td>\n",
              "      <td>6.870357</td>\n",
              "      <td>6.858929</td>\n",
              "      <td>4.590360e+07</td>\n",
              "      <td>5.856374</td>\n",
              "    </tr>\n",
              "    <tr>\n",
              "      <th>25%</th>\n",
              "      <td>13.994286</td>\n",
              "      <td>13.714286</td>\n",
              "      <td>13.863571</td>\n",
              "      <td>13.886071</td>\n",
              "      <td>1.958040e+08</td>\n",
              "      <td>11.856372</td>\n",
              "    </tr>\n",
              "    <tr>\n",
              "      <th>50%</th>\n",
              "      <td>19.888929</td>\n",
              "      <td>19.457857</td>\n",
              "      <td>19.768572</td>\n",
              "      <td>19.686787</td>\n",
              "      <td>3.218404e+08</td>\n",
              "      <td>17.218292</td>\n",
              "    </tr>\n",
              "    <tr>\n",
              "      <th>75%</th>\n",
              "      <td>26.342501</td>\n",
              "      <td>25.782499</td>\n",
              "      <td>26.020000</td>\n",
              "      <td>26.084999</td>\n",
              "      <td>4.837532e+08</td>\n",
              "      <td>23.873835</td>\n",
              "    </tr>\n",
              "    <tr>\n",
              "      <th>max</th>\n",
              "      <td>33.634998</td>\n",
              "      <td>32.849998</td>\n",
              "      <td>33.615002</td>\n",
              "      <td>33.250000</td>\n",
              "      <td>1.880998e+09</td>\n",
              "      <td>30.118956</td>\n",
              "    </tr>\n",
              "  </tbody>\n",
              "</table>\n",
              "</div>\n",
              "      <button class=\"colab-df-convert\" onclick=\"convertToInteractive('df-7299fd66-c4c6-4dfd-baaa-3cb8cd6f7e9a')\"\n",
              "              title=\"Convert this dataframe to an interactive table.\"\n",
              "              style=\"display:none;\">\n",
              "        \n",
              "  <svg xmlns=\"http://www.w3.org/2000/svg\" height=\"24px\"viewBox=\"0 0 24 24\"\n",
              "       width=\"24px\">\n",
              "    <path d=\"M0 0h24v24H0V0z\" fill=\"none\"/>\n",
              "    <path d=\"M18.56 5.44l.94 2.06.94-2.06 2.06-.94-2.06-.94-.94-2.06-.94 2.06-2.06.94zm-11 1L8.5 8.5l.94-2.06 2.06-.94-2.06-.94L8.5 2.5l-.94 2.06-2.06.94zm10 10l.94 2.06.94-2.06 2.06-.94-2.06-.94-.94-2.06-.94 2.06-2.06.94z\"/><path d=\"M17.41 7.96l-1.37-1.37c-.4-.4-.92-.59-1.43-.59-.52 0-1.04.2-1.43.59L10.3 9.45l-7.72 7.72c-.78.78-.78 2.05 0 2.83L4 21.41c.39.39.9.59 1.41.59.51 0 1.02-.2 1.41-.59l7.78-7.78 2.81-2.81c.8-.78.8-2.07 0-2.86zM5.41 20L4 18.59l7.72-7.72 1.47 1.35L5.41 20z\"/>\n",
              "  </svg>\n",
              "      </button>\n",
              "      \n",
              "  <style>\n",
              "    .colab-df-container {\n",
              "      display:flex;\n",
              "      flex-wrap:wrap;\n",
              "      gap: 12px;\n",
              "    }\n",
              "\n",
              "    .colab-df-convert {\n",
              "      background-color: #E8F0FE;\n",
              "      border: none;\n",
              "      border-radius: 50%;\n",
              "      cursor: pointer;\n",
              "      display: none;\n",
              "      fill: #1967D2;\n",
              "      height: 32px;\n",
              "      padding: 0 0 0 0;\n",
              "      width: 32px;\n",
              "    }\n",
              "\n",
              "    .colab-df-convert:hover {\n",
              "      background-color: #E2EBFA;\n",
              "      box-shadow: 0px 1px 2px rgba(60, 64, 67, 0.3), 0px 1px 3px 1px rgba(60, 64, 67, 0.15);\n",
              "      fill: #174EA6;\n",
              "    }\n",
              "\n",
              "    [theme=dark] .colab-df-convert {\n",
              "      background-color: #3B4455;\n",
              "      fill: #D2E3FC;\n",
              "    }\n",
              "\n",
              "    [theme=dark] .colab-df-convert:hover {\n",
              "      background-color: #434B5C;\n",
              "      box-shadow: 0px 1px 3px 1px rgba(0, 0, 0, 0.15);\n",
              "      filter: drop-shadow(0px 1px 2px rgba(0, 0, 0, 0.3));\n",
              "      fill: #FFFFFF;\n",
              "    }\n",
              "  </style>\n",
              "\n",
              "      <script>\n",
              "        const buttonEl =\n",
              "          document.querySelector('#df-7299fd66-c4c6-4dfd-baaa-3cb8cd6f7e9a button.colab-df-convert');\n",
              "        buttonEl.style.display =\n",
              "          google.colab.kernel.accessAllowed ? 'block' : 'none';\n",
              "\n",
              "        async function convertToInteractive(key) {\n",
              "          const element = document.querySelector('#df-7299fd66-c4c6-4dfd-baaa-3cb8cd6f7e9a');\n",
              "          const dataTable =\n",
              "            await google.colab.kernel.invokeFunction('convertToInteractive',\n",
              "                                                     [key], {});\n",
              "          if (!dataTable) return;\n",
              "\n",
              "          const docLinkHtml = 'Like what you see? Visit the ' +\n",
              "            '<a target=\"_blank\" href=https://colab.research.google.com/notebooks/data_table.ipynb>data table notebook</a>'\n",
              "            + ' to learn more about interactive tables.';\n",
              "          element.innerHTML = '';\n",
              "          dataTable['output_type'] = 'display_data';\n",
              "          await google.colab.output.renderOutput(dataTable, element);\n",
              "          const docLink = document.createElement('div');\n",
              "          docLink.innerHTML = docLinkHtml;\n",
              "          element.appendChild(docLink);\n",
              "        }\n",
              "      </script>\n",
              "    </div>\n",
              "  </div>\n",
              "  "
            ],
            "text/plain": [
              "              High          Low         Open        Close        Volume  \\\n",
              "count  1769.000000  1769.000000  1769.000000  1769.000000  1.769000e+03   \n",
              "mean     20.072649    19.697763    19.894219    19.888647  3.758507e+08   \n",
              "std       7.150999     7.038787     7.095451     7.094345  2.409303e+08   \n",
              "min       7.000000     6.794643     6.870357     6.858929  4.590360e+07   \n",
              "25%      13.994286    13.714286    13.863571    13.886071  1.958040e+08   \n",
              "50%      19.888929    19.457857    19.768572    19.686787  3.218404e+08   \n",
              "75%      26.342501    25.782499    26.020000    26.084999  4.837532e+08   \n",
              "max      33.634998    32.849998    33.615002    33.250000  1.880998e+09   \n",
              "\n",
              "         Adj Close  \n",
              "count  1769.000000  \n",
              "mean     17.692292  \n",
              "std       6.741325  \n",
              "min       5.856374  \n",
              "25%      11.856372  \n",
              "50%      17.218292  \n",
              "75%      23.873835  \n",
              "max      30.118956  "
            ]
          },
          "execution_count": 7,
          "metadata": {},
          "output_type": "execute_result"
        }
      ],
      "source": [
        "# generate descriptive statistics (e.g. central tendency and dispersion of the dataset)\n",
        "df.describe()"
      ]
    },
    {
      "cell_type": "code",
      "execution_count": null,
      "metadata": {
        "colab": {
          "base_uri": "https://localhost:8080/"
        },
        "id": "H2VARclW8B11",
        "outputId": "3e255679-bf7b-4d44-bcb9-0997414da2d1"
      },
      "outputs": [
        {
          "name": "stdout",
          "output_type": "stream",
          "text": [
            "<class 'pandas.core.frame.DataFrame'>\n",
            "DatetimeIndex: 1769 entries, 2010-01-04 to 2017-01-11\n",
            "Data columns (total 6 columns):\n",
            " #   Column     Non-Null Count  Dtype  \n",
            "---  ------     --------------  -----  \n",
            " 0   High       1769 non-null   float64\n",
            " 1   Low        1769 non-null   float64\n",
            " 2   Open       1769 non-null   float64\n",
            " 3   Close      1769 non-null   float64\n",
            " 4   Volume     1769 non-null   float64\n",
            " 5   Adj Close  1769 non-null   float64\n",
            "dtypes: float64(6)\n",
            "memory usage: 96.7 KB\n"
          ]
        }
      ],
      "source": [
        "# prints a summary of the dataframe e.g. dtype, non-null values\n",
        "df.info()"
      ]
    },
    {
      "cell_type": "markdown",
      "metadata": {
        "id": "OwJVuU8Gtm4R"
      },
      "source": [
        "### moving windows"
      ]
    },
    {
      "cell_type": "code",
      "execution_count": null,
      "metadata": {
        "colab": {
          "base_uri": "https://localhost:8080/"
        },
        "id": "3J1Nai4ct7_z",
        "outputId": "e7bf3c79-d333-4a61-94db-37bf18eaf68c"
      },
      "outputs": [
        {
          "data": {
            "text/plain": [
              "Date\n",
              "2017-01-05    26.232371\n",
              "2017-01-06    26.253438\n",
              "2017-01-09    26.277268\n",
              "2017-01-10    26.301753\n",
              "2017-01-11    26.328064\n",
              "Name: Adj Close, dtype: float64"
            ]
          },
          "execution_count": 9,
          "metadata": {},
          "output_type": "execute_result"
        }
      ],
      "source": [
        "# Isolate the closing prices\n",
        "close_px = df['Adj Close']\n",
        "\n",
        "# Calculate the moving average\n",
        "mavg = close_px.rolling(window=100).mean()\n",
        "\n",
        "# inspect the results\n",
        "mavg.tail()"
      ]
    },
    {
      "cell_type": "markdown",
      "metadata": {
        "id": "Yfvyhgt_8332"
      },
      "source": [
        "### visualisation by using matplotlib"
      ]
    },
    {
      "cell_type": "code",
      "execution_count": null,
      "metadata": {
        "colab": {
          "base_uri": "https://localhost:8080/",
          "height": 437
        },
        "id": "yQwU9_YQvaBJ",
        "outputId": "17c7c135-dcfa-4e75-98ab-3f8e066a8b27"
      },
      "outputs": [
        {
          "data": {
            "text/plain": [
              "<matplotlib.legend.Legend at 0x7f1ae1042950>"
            ]
          },
          "execution_count": 10,
          "metadata": {},
          "output_type": "execute_result"
        },
        {
          "data": {
            "image/png": "[encoded data removed]",
            "text/plain": [
              "<Figure size 576x504 with 1 Axes>"
            ]
          },
          "metadata": {},
          "output_type": "display_data"
        }
      ],
      "source": [
        "%matplotlib inline\n",
        "plt.style.use('ggplot')\n",
        "mpl.rc('figure', figsize=(8,7))\n",
        "close_px.plot(label='AAPL'), mavg.plot(label='mavg')\n",
        "plt.legend()"
      ]
    },
    {
      "cell_type": "code",
      "execution_count": null,
      "metadata": {
        "colab": {
          "base_uri": "https://localhost:8080/",
          "height": 437
        },
        "id": "CAKR7dVP9IlG",
        "outputId": "16c0935d-07db-4e12-829c-b544079c409c"
      },
      "outputs": [
        {
          "data": {
            "text/plain": [
              "<matplotlib.legend.Legend at 0x7f1adf4e9910>"
            ]
          },
          "execution_count": 11,
          "metadata": {},
          "output_type": "execute_result"
        },
        {
          "data": {
            "image/png": "[encoded data removed]",
            "text/plain": [
              "<Figure size 576x504 with 1 Axes>"
            ]
          },
          "metadata": {},
          "output_type": "display_data"
        }
      ],
      "source": [
        "# changing the default colors\n",
        "close_px.plot(label='AAPL', color='#660099'), mavg.plot(label='mavg', color='#FFCC33')\n",
        "plt.legend()"
      ]
    },
    {
      "cell_type": "markdown",
      "metadata": {
        "id": "MGddW89X9oBm"
      },
      "source": [
        "### return deviation (the 1st method)"
      ]
    },
    {
      "cell_type": "code",
      "execution_count": null,
      "metadata": {
        "colab": {
          "base_uri": "https://localhost:8080/",
          "height": 437
        },
        "id": "wd5z2-Zm9Uac",
        "outputId": "b39c43fd-2642-4109-87c7-804600a10428"
      },
      "outputs": [
        {
          "data": {
            "text/plain": [
              "<matplotlib.legend.Legend at 0x7f1adf3f1a90>"
            ]
          },
          "execution_count": 12,
          "metadata": {},
          "output_type": "execute_result"
        },
        {
          "data": {
            "image/png": "[encoded data removed]",
            "text/plain": [
              "<Figure size 576x504 with 1 Axes>"
            ]
          },
          "metadata": {},
          "output_type": "display_data"
        }
      ],
      "source": [
        "# formula for returns\n",
        "rets = close_px / close_px.shift(1) - 1\n",
        "\n",
        "# plot the return graph\n",
        "rets.plot(label='return', color='#660099')\n",
        "plt.legend()"
      ]
    },
    {
      "cell_type": "markdown",
      "metadata": {
        "id": "YWcdCrD7-gPC"
      },
      "source": [
        "### return deviation (the 2nd method; the one we used in the slides)"
      ]
    },
    {
      "cell_type": "code",
      "execution_count": null,
      "metadata": {
        "colab": {
          "base_uri": "https://localhost:8080/",
          "height": 255
        },
        "id": "QMtjjWrd99dB",
        "outputId": "411b8b65-8860-4b2a-c4b9-8bc6bbcb58c0"
      },
      "outputs": [
        {
          "name": "stdout",
          "output_type": "stream",
          "text": [
            "\r[*********************100%***********************]  1 of 1 completed\n"
          ]
        },
        {
          "data": {
            "text/html": [
              "\n",
              "  <div id=\"df-f86f48f8-7219-45b8-81a7-3acd0a1147fd\">\n",
              "    <div class=\"colab-df-container\">\n",
              "      <div>\n",
              "<style scoped>\n",
              "    .dataframe tbody tr th:only-of-type {\n",
              "        vertical-align: middle;\n",
              "    }\n",
              "\n",
              "    .dataframe tbody tr th {\n",
              "        vertical-align: top;\n",
              "    }\n",
              "\n",
              "    .dataframe thead th {\n",
              "        text-align: right;\n",
              "    }\n",
              "</style>\n",
              "<table border=\"1\" class=\"dataframe\">\n",
              "  <thead>\n",
              "    <tr style=\"text-align: right;\">\n",
              "      <th></th>\n",
              "      <th>Open</th>\n",
              "      <th>High</th>\n",
              "      <th>Low</th>\n",
              "      <th>Close</th>\n",
              "      <th>Adj Close</th>\n",
              "      <th>Volume</th>\n",
              "    </tr>\n",
              "    <tr>\n",
              "      <th>Date</th>\n",
              "      <th></th>\n",
              "      <th></th>\n",
              "      <th></th>\n",
              "      <th></th>\n",
              "      <th></th>\n",
              "      <th></th>\n",
              "    </tr>\n",
              "  </thead>\n",
              "  <tbody>\n",
              "    <tr>\n",
              "      <th>2017-01-04</th>\n",
              "      <td>28.962500</td>\n",
              "      <td>29.127501</td>\n",
              "      <td>28.937500</td>\n",
              "      <td>29.004999</td>\n",
              "      <td>27.189369</td>\n",
              "      <td>84472400</td>\n",
              "    </tr>\n",
              "    <tr>\n",
              "      <th>2017-01-05</th>\n",
              "      <td>28.980000</td>\n",
              "      <td>29.215000</td>\n",
              "      <td>28.952499</td>\n",
              "      <td>29.152500</td>\n",
              "      <td>27.327635</td>\n",
              "      <td>88774400</td>\n",
              "    </tr>\n",
              "    <tr>\n",
              "      <th>2017-01-06</th>\n",
              "      <td>29.195000</td>\n",
              "      <td>29.540001</td>\n",
              "      <td>29.117500</td>\n",
              "      <td>29.477501</td>\n",
              "      <td>27.632288</td>\n",
              "      <td>127007600</td>\n",
              "    </tr>\n",
              "    <tr>\n",
              "      <th>2017-01-09</th>\n",
              "      <td>29.487499</td>\n",
              "      <td>29.857500</td>\n",
              "      <td>29.485001</td>\n",
              "      <td>29.747499</td>\n",
              "      <td>27.885387</td>\n",
              "      <td>134247600</td>\n",
              "    </tr>\n",
              "    <tr>\n",
              "      <th>2017-01-10</th>\n",
              "      <td>29.692499</td>\n",
              "      <td>29.844999</td>\n",
              "      <td>29.575001</td>\n",
              "      <td>29.777500</td>\n",
              "      <td>27.913513</td>\n",
              "      <td>97848400</td>\n",
              "    </tr>\n",
              "  </tbody>\n",
              "</table>\n",
              "</div>\n",
              "      <button class=\"colab-df-convert\" onclick=\"convertToInteractive('df-f86f48f8-7219-45b8-81a7-3acd0a1147fd')\"\n",
              "              title=\"Convert this dataframe to an interactive table.\"\n",
              "              style=\"display:none;\">\n",
              "        \n",
              "  <svg xmlns=\"http://www.w3.org/2000/svg\" height=\"24px\"viewBox=\"0 0 24 24\"\n",
              "       width=\"24px\">\n",
              "    <path d=\"M0 0h24v24H0V0z\" fill=\"none\"/>\n",
              "    <path d=\"M18.56 5.44l.94 2.06.94-2.06 2.06-.94-2.06-.94-.94-2.06-.94 2.06-2.06.94zm-11 1L8.5 8.5l.94-2.06 2.06-.94-2.06-.94L8.5 2.5l-.94 2.06-2.06.94zm10 10l.94 2.06.94-2.06 2.06-.94-2.06-.94-.94-2.06-.94 2.06-2.06.94z\"/><path d=\"M17.41 7.96l-1.37-1.37c-.4-.4-.92-.59-1.43-.59-.52 0-1.04.2-1.43.59L10.3 9.45l-7.72 7.72c-.78.78-.78 2.05 0 2.83L4 21.41c.39.39.9.59 1.41.59.51 0 1.02-.2 1.41-.59l7.78-7.78 2.81-2.81c.8-.78.8-2.07 0-2.86zM5.41 20L4 18.59l7.72-7.72 1.47 1.35L5.41 20z\"/>\n",
              "  </svg>\n",
              "      </button>\n",
              "      \n",
              "  <style>\n",
              "    .colab-df-container {\n",
              "      display:flex;\n",
              "      flex-wrap:wrap;\n",
              "      gap: 12px;\n",
              "    }\n",
              "\n",
              "    .colab-df-convert {\n",
              "      background-color: #E8F0FE;\n",
              "      border: none;\n",
              "      border-radius: 50%;\n",
              "      cursor: pointer;\n",
              "      display: none;\n",
              "      fill: #1967D2;\n",
              "      height: 32px;\n",
              "      padding: 0 0 0 0;\n",
              "      width: 32px;\n",
              "    }\n",
              "\n",
              "    .colab-df-convert:hover {\n",
              "      background-color: #E2EBFA;\n",
              "      box-shadow: 0px 1px 2px rgba(60, 64, 67, 0.3), 0px 1px 3px 1px rgba(60, 64, 67, 0.15);\n",
              "      fill: #174EA6;\n",
              "    }\n",
              "\n",
              "    [theme=dark] .colab-df-convert {\n",
              "      background-color: #3B4455;\n",
              "      fill: #D2E3FC;\n",
              "    }\n",
              "\n",
              "    [theme=dark] .colab-df-convert:hover {\n",
              "      background-color: #434B5C;\n",
              "      box-shadow: 0px 1px 3px 1px rgba(0, 0, 0, 0.15);\n",
              "      filter: drop-shadow(0px 1px 2px rgba(0, 0, 0, 0.3));\n",
              "      fill: #FFFFFF;\n",
              "    }\n",
              "  </style>\n",
              "\n",
              "      <script>\n",
              "        const buttonEl =\n",
              "          document.querySelector('#df-f86f48f8-7219-45b8-81a7-3acd0a1147fd button.colab-df-convert');\n",
              "        buttonEl.style.display =\n",
              "          google.colab.kernel.accessAllowed ? 'block' : 'none';\n",
              "\n",
              "        async function convertToInteractive(key) {\n",
              "          const element = document.querySelector('#df-f86f48f8-7219-45b8-81a7-3acd0a1147fd');\n",
              "          const dataTable =\n",
              "            await google.colab.kernel.invokeFunction('convertToInteractive',\n",
              "                                                     [key], {});\n",
              "          if (!dataTable) return;\n",
              "\n",
              "          const docLinkHtml = 'Like what you see? Visit the ' +\n",
              "            '<a target=\"_blank\" href=https://colab.research.google.com/notebooks/data_table.ipynb>data table notebook</a>'\n",
              "            + ' to learn more about interactive tables.';\n",
              "          element.innerHTML = '';\n",
              "          dataTable['output_type'] = 'display_data';\n",
              "          await google.colab.output.renderOutput(dataTable, element);\n",
              "          const docLink = document.createElement('div');\n",
              "          docLink.innerHTML = docLinkHtml;\n",
              "          element.appendChild(docLink);\n",
              "        }\n",
              "      </script>\n",
              "    </div>\n",
              "  </div>\n",
              "  "
            ],
            "text/plain": [
              "                 Open       High        Low      Close  Adj Close     Volume\n",
              "Date                                                                        \n",
              "2017-01-04  28.962500  29.127501  28.937500  29.004999  27.189369   84472400\n",
              "2017-01-05  28.980000  29.215000  28.952499  29.152500  27.327635   88774400\n",
              "2017-01-06  29.195000  29.540001  29.117500  29.477501  27.632288  127007600\n",
              "2017-01-09  29.487499  29.857500  29.485001  29.747499  27.885387  134247600\n",
              "2017-01-10  29.692499  29.844999  29.575001  29.777500  27.913513   97848400"
            ]
          },
          "execution_count": 13,
          "metadata": {},
          "output_type": "execute_result"
        }
      ],
      "source": [
        "# set a ticker symbol and download the required stock data\n",
        "ticker = 'AAPL'\n",
        "\n",
        "# download stock data by using yfinance module\n",
        "stock_data = yf.download(ticker, start, end)\n",
        "\n",
        "# this method is the same as by using pandas datareader, so you would expect to get an exactly same table\n",
        "stock_data.tail()"
      ]
    },
    {
      "cell_type": "code",
      "execution_count": null,
      "metadata": {
        "colab": {
          "base_uri": "https://localhost:8080/",
          "height": 437
        },
        "id": "qYp8HG3h-abe",
        "outputId": "45837c34-9c00-415c-dde6-0b21a10ae908"
      },
      "outputs": [
        {
          "data": {
            "text/plain": [
              "<matplotlib.legend.Legend at 0x7f1adc9744d0>"
            ]
          },
          "execution_count": 14,
          "metadata": {},
          "output_type": "execute_result"
        },
        {
          "data": {
            "image/png": "[encoded data removed]",
            "text/plain": [
              "<Figure size 576x504 with 1 Axes>"
            ]
          },
          "metadata": {},
          "output_type": "display_data"
        }
      ],
      "source": [
        "# stock investment return can be calculated as the percentage change\n",
        "stock_data['Returns'] = stock_data['Adj Close'].pct_change()\n",
        "stock_data['Returns'].plot(color='#660099')\n",
        "plt.legend()"
      ]
    },
    {
      "cell_type": "markdown",
      "metadata": {
        "id": "XZcvkecD-znH"
      },
      "source": [
        "### histograms"
      ]
    },
    {
      "cell_type": "code",
      "execution_count": null,
      "metadata": {
        "colab": {
          "base_uri": "https://localhost:8080/",
          "height": 945
        },
        "id": "euzbCH85-oNK",
        "outputId": "fa2524aa-9787-46ba-cb7b-926f3a3942c6"
      },
      "outputs": [
        {
          "data": {
            "text/plain": [
              "((array([  1.,   0.,   0.,   0.,   0.,   0.,   0.,   0.,   0.,   0.,   0.,\n",
              "           0.,   0.,   0.,   0.,   1.,   0.,   0.,   0.,   0.,   2.,   1.,\n",
              "           1.,   1.,   3.,   1.,   1.,   3.,   7.,   2.,   9.,   7.,  10.,\n",
              "          16.,  35.,  27.,  36.,  41.,  60.,  79.,  95., 145., 158., 149.,\n",
              "         148., 143., 120.,  97.,  94.,  79.,  55.,  24.,  28.,  21.,  20.,\n",
              "           8.,   6.,   9.,   4.,   2.,   2.,   4.,   1.,   2.,   3.,   1.,\n",
              "           1.,   0.,   0.,   1.,   1.,   0.,   1.,   0.,   1.]),\n",
              "  array([-12.35580151, -12.07273638, -11.78967124, -11.50660611,\n",
              "         -11.22354098, -10.94047584, -10.65741071, -10.37434557,\n",
              "         -10.09128044,  -9.80821531,  -9.52515017,  -9.24208504,\n",
              "          -8.95901991,  -8.67595477,  -8.39288964,  -8.10982451,\n",
              "          -7.82675937,  -7.54369424,  -7.2606291 ,  -6.97756397,\n",
              "          -6.69449884,  -6.4114337 ,  -6.12836857,  -5.84530344,\n",
              "          -5.5622383 ,  -5.27917317,  -4.99610804,  -4.7130429 ,\n",
              "          -4.42997777,  -4.14691264,  -3.8638475 ,  -3.58078237,\n",
              "          -3.29771723,  -3.0146521 ,  -2.73158697,  -2.44852183,\n",
              "          -2.1654567 ,  -1.88239157,  -1.59932643,  -1.3162613 ,\n",
              "          -1.03319617,  -0.75013103,  -0.4670659 ,  -0.18400076,\n",
              "           0.09906437,   0.3821295 ,   0.66519464,   0.94825977,\n",
              "           1.2313249 ,   1.51439004,   1.79745517,   2.0805203 ,\n",
              "           2.36358544,   2.64665057,   2.92971571,   3.21278084,\n",
              "           3.49584597,   3.77891111,   4.06197624,   4.34504137,\n",
              "           4.62810651,   4.91117164,   5.19423677,   5.47730191,\n",
              "           5.76036704,   6.04343218,   6.32649731,   6.60956244,\n",
              "           6.89262758,   7.17569271,   7.45875784,   7.74182298,\n",
              "           8.02488811,   8.30795324,   8.59101838,   8.87408351]),\n",
              "  <BarContainer object of 75 artists>),\n",
              " Text(0.5, 0, 'Percentage of Returns'))"
            ]
          },
          "execution_count": 15,
          "metadata": {},
          "output_type": "execute_result"
        },
        {
          "data": {
            "image/png": "[encoded data removed]",
            "text/plain": [
              "<Figure size 576x504 with 1 Axes>"
            ]
          },
          "metadata": {},
          "output_type": "display_data"
        }
      ],
      "source": [
        "#this calculates the histogram which shows the distribution of returns\n",
        "returns_percent = stock_data['Returns'] * 100\n",
        "returns_percent.dropna(inplace=True)\n",
        "plt.hist(returns_percent, bins=75, color='#7100a0'), plt.xlabel(\"Percentage of Returns\")"
      ]
    },
    {
      "cell_type": "markdown",
      "metadata": {
        "id": "LOmHviEF-4Bn"
      },
      "source": [
        "# First three moments in statistics"
      ]
    },
    {
      "cell_type": "markdown",
      "metadata": {
        "id": "JUz77ZUb_Deu"
      },
      "source": [
        "### first moment"
      ]
    },
    {
      "cell_type": "code",
      "execution_count": null,
      "metadata": {
        "colab": {
          "base_uri": "https://localhost:8080/"
        },
        "id": "ByichHAS-rvN",
        "outputId": "9746a97f-f542-4204-d1d7-825edd7a2f4c"
      },
      "outputs": [
        {
          "name": "stdout",
          "output_type": "stream",
          "text": [
            "Daily Mean Returns: 0.0009587516149071444\n",
            "Annual Mean Returns: 0.27314429199481416\n"
          ]
        }
      ],
      "source": [
        "# numpy: performs numerical calculations\n",
        "import numpy as np\n",
        "\n",
        "# the mean of daily and annual returns(first moment)\n",
        "daily_mean_returns = np.mean(stock_data['Returns'])\n",
        "print(\"Daily Mean Returns: \" + str(daily_mean_returns))\n",
        "\n",
        "annual_mean_returns = ((1+ daily_mean_returns)**252)-1\n",
        "print(\"Annual Mean Returns: \" + str(annual_mean_returns))"
      ]
    },
    {
      "cell_type": "markdown",
      "metadata": {
        "id": "lxvI_V_X_GzN"
      },
      "source": [
        "### second moment"
      ]
    },
    {
      "cell_type": "code",
      "execution_count": null,
      "metadata": {
        "colab": {
          "base_uri": "https://localhost:8080/"
        },
        "id": "IcYUQu0g_LOz",
        "outputId": "1e8a188d-a993-4b98-c31b-8f02a2ad9f1c"
      },
      "outputs": [
        {
          "name": "stdout",
          "output_type": "stream",
          "text": [
            "Daily Standard Deviation 0.016477808640348025\n",
            "Annual Standard Deviation 0.26157710288203334\n",
            "\n",
            "\n",
            "Daily Variance 0.00027151817758792803\n",
            "Annual Variance 0.06842258075215786\n"
          ]
        }
      ],
      "source": [
        "# find the daily and annual std first\n",
        "daily_std = np.std(stock_data['Returns'])\n",
        "print(\"Daily Standard Deviation \" + str(daily_std))\n",
        "annual_std = daily_std*np.sqrt(252)\n",
        "print(\"Annual Standard Deviation \" + str(annual_std ))\n",
        "\n",
        "# backslash n stands for a new line\n",
        "print('\\n')\n",
        "\n",
        "# this finds the daily and annual variance\n",
        "daily_var= daily_std**2\n",
        "print(\"Daily Variance \" + str(daily_var))\n",
        "annual_var = annual_std**2\n",
        "print(\"Annual Variance \" + str(annual_var))"
      ]
    },
    {
      "cell_type": "markdown",
      "metadata": {
        "id": "Hc0qBUA__NfG"
      },
      "source": [
        "### third moment"
      ]
    },
    {
      "cell_type": "code",
      "execution_count": null,
      "metadata": {
        "colab": {
          "base_uri": "https://localhost:8080/"
        },
        "id": "2fYHBmw7_Q0J",
        "outputId": "4065de78-82a9-4e27-da48-ee7ee5c3d6fc"
      },
      "outputs": [
        {
          "name": "stdout",
          "output_type": "stream",
          "text": [
            "Skewness: -0.12197940476152884\n"
          ]
        }
      ],
      "source": [
        "# scipy: performs more stats, utility functions for optimization and signal processing\n",
        "import scipy \n",
        "from scipy.stats import skew\n",
        "\n",
        "#skewness is the third moment\n",
        "returns = stock_data['Returns'].dropna()\n",
        "skewness = skew(returns)\n",
        "print(\"Skewness: \" + str(skewness))"
      ]
    },
    {
      "cell_type": "markdown",
      "metadata": {
        "id": "U6KZ6HxcRvz5"
      },
      "source": [
        "# Risk assessment taking"
      ]
    },
    {
      "cell_type": "markdown",
      "metadata": {
        "id": "cKclkST7R_Tj"
      },
      "source": [
        "## increasing stock model"
      ]
    },
    {
      "cell_type": "code",
      "execution_count": null,
      "metadata": {
        "colab": {
          "base_uri": "https://localhost:8080/",
          "height": 255
        },
        "id": "B-02R1WRSKy6",
        "outputId": "704823f4-b3f8-4135-9d7a-d217a808c604"
      },
      "outputs": [
        {
          "name": "stdout",
          "output_type": "stream",
          "text": [
            "\r[*********************100%***********************]  1 of 1 completed\n"
          ]
        },
        {
          "data": {
            "text/html": [
              "\n",
              "  <div id=\"df-a35e7bc1-1139-4eaf-9e1f-1cf74b937b2c\">\n",
              "    <div class=\"colab-df-container\">\n",
              "      <div>\n",
              "<style scoped>\n",
              "    .dataframe tbody tr th:only-of-type {\n",
              "        vertical-align: middle;\n",
              "    }\n",
              "\n",
              "    .dataframe tbody tr th {\n",
              "        vertical-align: top;\n",
              "    }\n",
              "\n",
              "    .dataframe thead th {\n",
              "        text-align: right;\n",
              "    }\n",
              "</style>\n",
              "<table border=\"1\" class=\"dataframe\">\n",
              "  <thead>\n",
              "    <tr style=\"text-align: right;\">\n",
              "      <th></th>\n",
              "      <th>Open</th>\n",
              "      <th>High</th>\n",
              "      <th>Low</th>\n",
              "      <th>Close</th>\n",
              "      <th>Adj Close</th>\n",
              "      <th>Volume</th>\n",
              "    </tr>\n",
              "    <tr>\n",
              "      <th>Date</th>\n",
              "      <th></th>\n",
              "      <th></th>\n",
              "      <th></th>\n",
              "      <th></th>\n",
              "      <th></th>\n",
              "      <th></th>\n",
              "    </tr>\n",
              "  </thead>\n",
              "  <tbody>\n",
              "    <tr>\n",
              "      <th>2014-04-30</th>\n",
              "      <td>21.165714</td>\n",
              "      <td>21.408215</td>\n",
              "      <td>21.064285</td>\n",
              "      <td>21.074642</td>\n",
              "      <td>18.721453</td>\n",
              "      <td>456640800</td>\n",
              "    </tr>\n",
              "    <tr>\n",
              "      <th>2014-05-01</th>\n",
              "      <td>21.142857</td>\n",
              "      <td>21.242857</td>\n",
              "      <td>20.941429</td>\n",
              "      <td>21.124287</td>\n",
              "      <td>18.765558</td>\n",
              "      <td>244048000</td>\n",
              "    </tr>\n",
              "    <tr>\n",
              "      <th>2014-05-02</th>\n",
              "      <td>21.155001</td>\n",
              "      <td>21.221430</td>\n",
              "      <td>21.061071</td>\n",
              "      <td>21.163570</td>\n",
              "      <td>18.800444</td>\n",
              "      <td>191514400</td>\n",
              "    </tr>\n",
              "    <tr>\n",
              "      <th>2014-05-05</th>\n",
              "      <td>21.076429</td>\n",
              "      <td>21.464287</td>\n",
              "      <td>21.071428</td>\n",
              "      <td>21.462856</td>\n",
              "      <td>19.066317</td>\n",
              "      <td>287067200</td>\n",
              "    </tr>\n",
              "    <tr>\n",
              "      <th>2014-05-06</th>\n",
              "      <td>21.492857</td>\n",
              "      <td>21.586071</td>\n",
              "      <td>21.228930</td>\n",
              "      <td>21.228930</td>\n",
              "      <td>18.858509</td>\n",
              "      <td>374564400</td>\n",
              "    </tr>\n",
              "  </tbody>\n",
              "</table>\n",
              "</div>\n",
              "      <button class=\"colab-df-convert\" onclick=\"convertToInteractive('df-a35e7bc1-1139-4eaf-9e1f-1cf74b937b2c')\"\n",
              "              title=\"Convert this dataframe to an interactive table.\"\n",
              "              style=\"display:none;\">\n",
              "        \n",
              "  <svg xmlns=\"http://www.w3.org/2000/svg\" height=\"24px\"viewBox=\"0 0 24 24\"\n",
              "       width=\"24px\">\n",
              "    <path d=\"M0 0h24v24H0V0z\" fill=\"none\"/>\n",
              "    <path d=\"M18.56 5.44l.94 2.06.94-2.06 2.06-.94-2.06-.94-.94-2.06-.94 2.06-2.06.94zm-11 1L8.5 8.5l.94-2.06 2.06-.94-2.06-.94L8.5 2.5l-.94 2.06-2.06.94zm10 10l.94 2.06.94-2.06 2.06-.94-2.06-.94-.94-2.06-.94 2.06-2.06.94z\"/><path d=\"M17.41 7.96l-1.37-1.37c-.4-.4-.92-.59-1.43-.59-.52 0-1.04.2-1.43.59L10.3 9.45l-7.72 7.72c-.78.78-.78 2.05 0 2.83L4 21.41c.39.39.9.59 1.41.59.51 0 1.02-.2 1.41-.59l7.78-7.78 2.81-2.81c.8-.78.8-2.07 0-2.86zM5.41 20L4 18.59l7.72-7.72 1.47 1.35L5.41 20z\"/>\n",
              "  </svg>\n",
              "      </button>\n",
              "      \n",
              "  <style>\n",
              "    .colab-df-container {\n",
              "      display:flex;\n",
              "      flex-wrap:wrap;\n",
              "      gap: 12px;\n",
              "    }\n",
              "\n",
              "    .colab-df-convert {\n",
              "      background-color: #E8F0FE;\n",
              "      border: none;\n",
              "      border-radius: 50%;\n",
              "      cursor: pointer;\n",
              "      display: none;\n",
              "      fill: #1967D2;\n",
              "      height: 32px;\n",
              "      padding: 0 0 0 0;\n",
              "      width: 32px;\n",
              "    }\n",
              "\n",
              "    .colab-df-convert:hover {\n",
              "      background-color: #E2EBFA;\n",
              "      box-shadow: 0px 1px 2px rgba(60, 64, 67, 0.3), 0px 1px 3px 1px rgba(60, 64, 67, 0.15);\n",
              "      fill: #174EA6;\n",
              "    }\n",
              "\n",
              "    [theme=dark] .colab-df-convert {\n",
              "      background-color: #3B4455;\n",
              "      fill: #D2E3FC;\n",
              "    }\n",
              "\n",
              "    [theme=dark] .colab-df-convert:hover {\n",
              "      background-color: #434B5C;\n",
              "      box-shadow: 0px 1px 3px 1px rgba(0, 0, 0, 0.15);\n",
              "      filter: drop-shadow(0px 1px 2px rgba(0, 0, 0, 0.3));\n",
              "      fill: #FFFFFF;\n",
              "    }\n",
              "  </style>\n",
              "\n",
              "      <script>\n",
              "        const buttonEl =\n",
              "          document.querySelector('#df-a35e7bc1-1139-4eaf-9e1f-1cf74b937b2c button.colab-df-convert');\n",
              "        buttonEl.style.display =\n",
              "          google.colab.kernel.accessAllowed ? 'block' : 'none';\n",
              "\n",
              "        async function convertToInteractive(key) {\n",
              "          const element = document.querySelector('#df-a35e7bc1-1139-4eaf-9e1f-1cf74b937b2c');\n",
              "          const dataTable =\n",
              "            await google.colab.kernel.invokeFunction('convertToInteractive',\n",
              "                                                     [key], {});\n",
              "          if (!dataTable) return;\n",
              "\n",
              "          const docLinkHtml = 'Like what you see? Visit the ' +\n",
              "            '<a target=\"_blank\" href=https://colab.research.google.com/notebooks/data_table.ipynb>data table notebook</a>'\n",
              "            + ' to learn more about interactive tables.';\n",
              "          element.innerHTML = '';\n",
              "          dataTable['output_type'] = 'display_data';\n",
              "          await google.colab.output.renderOutput(dataTable, element);\n",
              "          const docLink = document.createElement('div');\n",
              "          docLink.innerHTML = docLinkHtml;\n",
              "          element.appendChild(docLink);\n",
              "        }\n",
              "      </script>\n",
              "    </div>\n",
              "  </div>\n",
              "  "
            ],
            "text/plain": [
              "                 Open       High        Low      Close  Adj Close     Volume\n",
              "Date                                                                        \n",
              "2014-04-30  21.165714  21.408215  21.064285  21.074642  18.721453  456640800\n",
              "2014-05-01  21.142857  21.242857  20.941429  21.124287  18.765558  244048000\n",
              "2014-05-02  21.155001  21.221430  21.061071  21.163570  18.800444  191514400\n",
              "2014-05-05  21.076429  21.464287  21.071428  21.462856  19.066317  287067200\n",
              "2014-05-06  21.492857  21.586071  21.228930  21.228930  18.858509  374564400"
            ]
          },
          "execution_count": 19,
          "metadata": {},
          "output_type": "execute_result"
        }
      ],
      "source": [
        "# redefine the time range\n",
        "start = datetime.datetime(2014,4,22)\n",
        "end = datetime.datetime(2014,5,7)\n",
        "\n",
        "# repeating the method when finding the returns\n",
        "stock_data = yf.download(ticker, start, end)\n",
        "stock_data.tail()"
      ]
    },
    {
      "cell_type": "code",
      "execution_count": null,
      "metadata": {
        "colab": {
          "base_uri": "https://localhost:8080/",
          "height": 487
        },
        "id": "KFAcsjGvScm2",
        "outputId": "d98376ba-4078-4055-ec65-c2f97d6544cf"
      },
      "outputs": [
        {
          "data": {
            "text/plain": [
              "<matplotlib.legend.Legend at 0x7f1ad053ad90>"
            ]
          },
          "execution_count": 22,
          "metadata": {},
          "output_type": "execute_result"
        },
        {
          "data": {
            "image/png": "[encoded data removed]",
            "text/plain": [
              "<Figure size 576x504 with 1 Axes>"
            ]
          },
          "metadata": {},
          "output_type": "display_data"
        }
      ],
      "source": [
        "# plot the graph of returns\n",
        "stock_data['Returns'] = stock_data['Adj Close'].pct_change()\n",
        "stock_data['Returns'].plot(color='#660099')\n",
        "plt.legend()"
      ]
    },
    {
      "cell_type": "code",
      "execution_count": null,
      "metadata": {
        "colab": {
          "base_uri": "https://localhost:8080/",
          "height": 856
        },
        "id": "QQ2MfyLbShvO",
        "outputId": "00d236c4-0a1c-4093-dd0f-0ced29ec8d5c"
      },
      "outputs": [
        {
          "data": {
            "text/plain": [
              "((array([1., 1., 0., 0., 0., 0., 0., 2., 0., 0., 0., 1., 1., 0., 0., 0., 1.,\n",
              "         0., 0., 0., 0., 1., 0., 0., 0., 0., 0., 0., 0., 0., 0., 0., 0., 0.,\n",
              "         0., 0., 0., 0., 0., 0., 1., 0., 0., 0., 0., 0., 0., 0., 0., 0., 0.,\n",
              "         0., 0., 0., 0., 0., 0., 0., 0., 0., 0., 0., 0., 0., 0., 0., 0., 0.,\n",
              "         0., 0., 0., 0., 0., 0., 1.]),\n",
              "  array([-1.30711875, -1.18038155, -1.05364435, -0.92690715, -0.80016996,\n",
              "         -0.67343276, -0.54669556, -0.41995837, -0.29322117, -0.16648397,\n",
              "         -0.03974677,  0.08699042,  0.21372762,  0.34046482,  0.46720202,\n",
              "          0.59393921,  0.72067641,  0.84741361,  0.9741508 ,  1.100888  ,\n",
              "          1.2276252 ,  1.3543624 ,  1.48109959,  1.60783679,  1.73457399,\n",
              "          1.86131118,  1.98804838,  2.11478558,  2.24152278,  2.36825997,\n",
              "          2.49499717,  2.62173437,  2.74847156,  2.87520876,  3.00194596,\n",
              "          3.12868316,  3.25542035,  3.38215755,  3.50889475,  3.63563194,\n",
              "          3.76236914,  3.88910634,  4.01584354,  4.14258073,  4.26931793,\n",
              "          4.39605513,  4.52279232,  4.64952952,  4.77626672,  4.90300392,\n",
              "          5.02974111,  5.15647831,  5.28321551,  5.40995271,  5.5366899 ,\n",
              "          5.6634271 ,  5.7901643 ,  5.91690149,  6.04363869,  6.17037589,\n",
              "          6.29711309,  6.42385028,  6.55058748,  6.67732468,  6.80406187,\n",
              "          6.93079907,  7.05753627,  7.18427347,  7.31101066,  7.43774786,\n",
              "          7.56448506,  7.69122225,  7.81795945,  7.94469665,  8.07143385,\n",
              "          8.19817104]),\n",
              "  <BarContainer object of 75 artists>),\n",
              " Text(0.5, 0, 'Percentage of Returns'))"
            ]
          },
          "execution_count": 23,
          "metadata": {},
          "output_type": "execute_result"
        },
        {
          "data": {
            "image/png": "[encoded data removed]",
            "text/plain": [
              "<Figure size 576x504 with 1 Axes>"
            ]
          },
          "metadata": {},
          "output_type": "display_data"
        }
      ],
      "source": [
        "# find the histogram\n",
        "returns_percent = stock_data['Returns'] * 100\n",
        "returns_percent.dropna(inplace=True)\n",
        "plt.hist(returns_percent, bins=75, color='#7100a0'), plt.xlabel(\"Percentage of Returns\")"
      ]
    },
    {
      "cell_type": "code",
      "execution_count": null,
      "metadata": {
        "colab": {
          "base_uri": "https://localhost:8080/"
        },
        "id": "CODdTe5wSqOE",
        "outputId": "0f8e76b7-91bd-43d3-85fe-ff49029c09f7"
      },
      "outputs": [
        {
          "name": "stdout",
          "output_type": "stream",
          "text": [
            "Daily Mean Returns: -0.007838372450657919\n",
            "Annual Mean Returns: -0.862351507739535\n"
          ]
        }
      ],
      "source": [
        "# repeating the methods when finding the three statistical moments\n",
        "import numpy as np\n",
        "\n",
        "# first moment - annual mean returns\n",
        "daily_mean_returns = np.mean(stock_data['Returns'])\n",
        "print(\"Daily Mean Returns: \" + str(daily_mean_returns))\n",
        "\n",
        "annual_mean_returns = ((1+ daily_mean_returns)**252)-1\n",
        "print(\"Annual Mean Returns: \" + str(annual_mean_returns))"
      ]
    },
    {
      "cell_type": "code",
      "execution_count": null,
      "metadata": {
        "colab": {
          "base_uri": "https://localhost:8080/"
        },
        "id": "IDsJEUIkSztv",
        "outputId": "a2d97d85-eb9c-4155-85a6-8687e66bf581"
      },
      "outputs": [
        {
          "name": "stdout",
          "output_type": "stream",
          "text": [
            "Daily Standard Deviation 0.00784033158995686\n",
            "Annual Standard Deviation 0.12446140549985694\n",
            "\n",
            "\n",
            "Daily Variance 6.147079944047547e-05\n",
            "Annual Variance 0.01549064145899982\n"
          ]
        }
      ],
      "source": [
        "# second moment - annual variance\n",
        "daily_std = np.std(stock_data['Returns'])\n",
        "print(\"Daily Standard Deviation \" + str(daily_std))\n",
        "annual_std = daily_std*np.sqrt(252)\n",
        "print(\"Annual Standard Deviation \" + str(annual_std ))\n",
        "\n",
        "print('\\n')\n",
        "\n",
        "daily_var= daily_std**2\n",
        "print(\"Daily Variance \" + str(daily_var))\n",
        "annual_var = annual_std**2\n",
        "print(\"Annual Variance \" + str(annual_var))"
      ]
    },
    {
      "cell_type": "code",
      "execution_count": null,
      "metadata": {
        "colab": {
          "base_uri": "https://localhost:8080/"
        },
        "id": "fkqqNywcS6Os",
        "outputId": "b32e029c-3306-418a-c1c1-afefb0c32631"
      },
      "outputs": [
        {
          "name": "stdout",
          "output_type": "stream",
          "text": [
            "Skewness: -0.6300764473326651\n"
          ]
        }
      ],
      "source": [
        "import scipy\n",
        "from scipy.stats import skew\n",
        "\n",
        "# third moment - skewness\n",
        "returns = stock_data['Returns'].dropna()\n",
        "skewness = skew(returns)\n",
        "print(\"Skewness: \" + str(skewness))"
      ]
    },
    {
      "cell_type": "markdown",
      "metadata": {
        "id": "F46TL6AdS_rj"
      },
      "source": [
        "## decreasing stock model"
      ]
    },
    {
      "cell_type": "code",
      "execution_count": null,
      "metadata": {
        "colab": {
          "base_uri": "https://localhost:8080/",
          "height": 255
        },
        "id": "ekEcrPAuTB2f",
        "outputId": "c9a815ee-5bbd-4001-9b24-4df400bbfae3"
      },
      "outputs": [
        {
          "name": "stdout",
          "output_type": "stream",
          "text": [
            "\r[*********************100%***********************]  1 of 1 completed\n"
          ]
        },
        {
          "data": {
            "text/html": [
              "\n",
              "  <div id=\"df-520878dc-69f5-4794-aa55-62fcbdcdd76a\">\n",
              "    <div class=\"colab-df-container\">\n",
              "      <div>\n",
              "<style scoped>\n",
              "    .dataframe tbody tr th:only-of-type {\n",
              "        vertical-align: middle;\n",
              "    }\n",
              "\n",
              "    .dataframe tbody tr th {\n",
              "        vertical-align: top;\n",
              "    }\n",
              "\n",
              "    .dataframe thead th {\n",
              "        text-align: right;\n",
              "    }\n",
              "</style>\n",
              "<table border=\"1\" class=\"dataframe\">\n",
              "  <thead>\n",
              "    <tr style=\"text-align: right;\">\n",
              "      <th></th>\n",
              "      <th>Open</th>\n",
              "      <th>High</th>\n",
              "      <th>Low</th>\n",
              "      <th>Close</th>\n",
              "      <th>Adj Close</th>\n",
              "      <th>Volume</th>\n",
              "    </tr>\n",
              "    <tr>\n",
              "      <th>Date</th>\n",
              "      <th></th>\n",
              "      <th></th>\n",
              "      <th></th>\n",
              "      <th></th>\n",
              "      <th></th>\n",
              "      <th></th>\n",
              "    </tr>\n",
              "  </thead>\n",
              "  <tbody>\n",
              "    <tr>\n",
              "      <th>2016-04-20</th>\n",
              "      <td>26.660000</td>\n",
              "      <td>27.022499</td>\n",
              "      <td>26.514999</td>\n",
              "      <td>26.782499</td>\n",
              "      <td>24.692822</td>\n",
              "      <td>122444000</td>\n",
              "    </tr>\n",
              "    <tr>\n",
              "      <th>2016-04-21</th>\n",
              "      <td>26.732500</td>\n",
              "      <td>26.732500</td>\n",
              "      <td>26.379999</td>\n",
              "      <td>26.492500</td>\n",
              "      <td>24.425455</td>\n",
              "      <td>126210000</td>\n",
              "    </tr>\n",
              "    <tr>\n",
              "      <th>2016-04-22</th>\n",
              "      <td>26.252501</td>\n",
              "      <td>26.620001</td>\n",
              "      <td>26.155001</td>\n",
              "      <td>26.420000</td>\n",
              "      <td>24.358618</td>\n",
              "      <td>134732400</td>\n",
              "    </tr>\n",
              "    <tr>\n",
              "      <th>2016-04-25</th>\n",
              "      <td>26.250000</td>\n",
              "      <td>26.412500</td>\n",
              "      <td>26.127501</td>\n",
              "      <td>26.270000</td>\n",
              "      <td>24.220318</td>\n",
              "      <td>112126400</td>\n",
              "    </tr>\n",
              "    <tr>\n",
              "      <th>2016-04-26</th>\n",
              "      <td>25.977501</td>\n",
              "      <td>26.325001</td>\n",
              "      <td>25.977501</td>\n",
              "      <td>26.087500</td>\n",
              "      <td>24.052057</td>\n",
              "      <td>224064800</td>\n",
              "    </tr>\n",
              "  </tbody>\n",
              "</table>\n",
              "</div>\n",
              "      <button class=\"colab-df-convert\" onclick=\"convertToInteractive('df-520878dc-69f5-4794-aa55-62fcbdcdd76a')\"\n",
              "              title=\"Convert this dataframe to an interactive table.\"\n",
              "              style=\"display:none;\">\n",
              "        \n",
              "  <svg xmlns=\"http://www.w3.org/2000/svg\" height=\"24px\"viewBox=\"0 0 24 24\"\n",
              "       width=\"24px\">\n",
              "    <path d=\"M0 0h24v24H0V0z\" fill=\"none\"/>\n",
              "    <path d=\"M18.56 5.44l.94 2.06.94-2.06 2.06-.94-2.06-.94-.94-2.06-.94 2.06-2.06.94zm-11 1L8.5 8.5l.94-2.06 2.06-.94-2.06-.94L8.5 2.5l-.94 2.06-2.06.94zm10 10l.94 2.06.94-2.06 2.06-.94-2.06-.94-.94-2.06-.94 2.06-2.06.94z\"/><path d=\"M17.41 7.96l-1.37-1.37c-.4-.4-.92-.59-1.43-.59-.52 0-1.04.2-1.43.59L10.3 9.45l-7.72 7.72c-.78.78-.78 2.05 0 2.83L4 21.41c.39.39.9.59 1.41.59.51 0 1.02-.2 1.41-.59l7.78-7.78 2.81-2.81c.8-.78.8-2.07 0-2.86zM5.41 20L4 18.59l7.72-7.72 1.47 1.35L5.41 20z\"/>\n",
              "  </svg>\n",
              "      </button>\n",
              "      \n",
              "  <style>\n",
              "    .colab-df-container {\n",
              "      display:flex;\n",
              "      flex-wrap:wrap;\n",
              "      gap: 12px;\n",
              "    }\n",
              "\n",
              "    .colab-df-convert {\n",
              "      background-color: #E8F0FE;\n",
              "      border: none;\n",
              "      border-radius: 50%;\n",
              "      cursor: pointer;\n",
              "      display: none;\n",
              "      fill: #1967D2;\n",
              "      height: 32px;\n",
              "      padding: 0 0 0 0;\n",
              "      width: 32px;\n",
              "    }\n",
              "\n",
              "    .colab-df-convert:hover {\n",
              "      background-color: #E2EBFA;\n",
              "      box-shadow: 0px 1px 2px rgba(60, 64, 67, 0.3), 0px 1px 3px 1px rgba(60, 64, 67, 0.15);\n",
              "      fill: #174EA6;\n",
              "    }\n",
              "\n",
              "    [theme=dark] .colab-df-convert {\n",
              "      background-color: #3B4455;\n",
              "      fill: #D2E3FC;\n",
              "    }\n",
              "\n",
              "    [theme=dark] .colab-df-convert:hover {\n",
              "      background-color: #434B5C;\n",
              "      box-shadow: 0px 1px 3px 1px rgba(0, 0, 0, 0.15);\n",
              "      filter: drop-shadow(0px 1px 2px rgba(0, 0, 0, 0.3));\n",
              "      fill: #FFFFFF;\n",
              "    }\n",
              "  </style>\n",
              "\n",
              "      <script>\n",
              "        const buttonEl =\n",
              "          document.querySelector('#df-520878dc-69f5-4794-aa55-62fcbdcdd76a button.colab-df-convert');\n",
              "        buttonEl.style.display =\n",
              "          google.colab.kernel.accessAllowed ? 'block' : 'none';\n",
              "\n",
              "        async function convertToInteractive(key) {\n",
              "          const element = document.querySelector('#df-520878dc-69f5-4794-aa55-62fcbdcdd76a');\n",
              "          const dataTable =\n",
              "            await google.colab.kernel.invokeFunction('convertToInteractive',\n",
              "                                                     [key], {});\n",
              "          if (!dataTable) return;\n",
              "\n",
              "          const docLinkHtml = 'Like what you see? Visit the ' +\n",
              "            '<a target=\"_blank\" href=https://colab.research.google.com/notebooks/data_table.ipynb>data table notebook</a>'\n",
              "            + ' to learn more about interactive tables.';\n",
              "          element.innerHTML = '';\n",
              "          dataTable['output_type'] = 'display_data';\n",
              "          await google.colab.output.renderOutput(dataTable, element);\n",
              "          const docLink = document.createElement('div');\n",
              "          docLink.innerHTML = docLinkHtml;\n",
              "          element.appendChild(docLink);\n",
              "        }\n",
              "      </script>\n",
              "    </div>\n",
              "  </div>\n",
              "  "
            ],
            "text/plain": [
              "                 Open       High        Low      Close  Adj Close     Volume\n",
              "Date                                                                        \n",
              "2016-04-20  26.660000  27.022499  26.514999  26.782499  24.692822  122444000\n",
              "2016-04-21  26.732500  26.732500  26.379999  26.492500  24.425455  126210000\n",
              "2016-04-22  26.252501  26.620001  26.155001  26.420000  24.358618  134732400\n",
              "2016-04-25  26.250000  26.412500  26.127501  26.270000  24.220318  112126400\n",
              "2016-04-26  25.977501  26.325001  25.977501  26.087500  24.052057  224064800"
            ]
          },
          "execution_count": 46,
          "metadata": {},
          "output_type": "execute_result"
        }
      ],
      "source": [
        "# get the data for returns\n",
        "start = datetime.datetime(2016,4,13)\n",
        "end = datetime.datetime(2016,4,27)\n",
        "stock_data = yf.download(ticker, start, end)\n",
        "stock_data.tail()"
      ]
    },
    {
      "cell_type": "code",
      "execution_count": null,
      "metadata": {
        "colab": {
          "base_uri": "https://localhost:8080/",
          "height": 487
        },
        "id": "esmkbayCTI5x",
        "outputId": "d16e3be6-6180-4b8e-d745-91af3b5dea52"
      },
      "outputs": [
        {
          "data": {
            "text/plain": [
              "<matplotlib.legend.Legend at 0x7f1ad00cc1d0>"
            ]
          },
          "execution_count": 31,
          "metadata": {},
          "output_type": "execute_result"
        },
        {
          "data": {
            "image/png": "[encoded data removed]",
            "text/plain": [
              "<Figure size 576x504 with 1 Axes>"
            ]
          },
          "metadata": {},
          "output_type": "display_data"
        }
      ],
      "source": [
        "# plot the return graph\n",
        "stock_data['Returns'] = stock_data['Adj Close'].pct_change()\n",
        "stock_data['Returns'].plot(color='#660099')\n",
        "plt.legend()"
      ]
    },
    {
      "cell_type": "code",
      "execution_count": null,
      "metadata": {
        "colab": {
          "base_uri": "https://localhost:8080/",
          "height": 856
        },
        "id": "nLkVkEPJTVAR",
        "outputId": "0386745f-293c-4dd9-eb64-18e75a96133b"
      },
      "outputs": [
        {
          "data": {
            "text/plain": [
              "((array([1., 0., 0., 0., 1., 0., 0., 0., 0., 0., 0., 0., 0., 0., 0., 0., 0.,\n",
              "         0., 0., 0., 0., 0., 0., 0., 0., 0., 0., 0., 0., 0., 0., 0., 0., 0.,\n",
              "         1., 0., 0., 0., 0., 0., 0., 0., 0., 0., 0., 0., 1., 0., 0., 0., 1.,\n",
              "         1., 0., 0., 0., 0., 0., 0., 0., 1., 0., 0., 0., 0., 0., 0., 0., 0.,\n",
              "         0., 0., 1., 0., 0., 0., 1.]),\n",
              "  array([-2.15747038, -2.12596078, -2.09445117, -2.06294157, -2.03143197,\n",
              "         -1.99992236, -1.96841276, -1.93690315, -1.90539355, -1.87388395,\n",
              "         -1.84237434, -1.81086474, -1.77935514, -1.74784553, -1.71633593,\n",
              "         -1.68482633, -1.65331672, -1.62180712, -1.59029751, -1.55878791,\n",
              "         -1.52727831, -1.4957687 , -1.4642591 , -1.4327495 , -1.40123989,\n",
              "         -1.36973029, -1.33822068, -1.30671108, -1.27520148, -1.24369187,\n",
              "         -1.21218227, -1.18067267, -1.14916306, -1.11765346, -1.08614385,\n",
              "         -1.05463425, -1.02312465, -0.99161504, -0.96010544, -0.92859584,\n",
              "         -0.89708623, -0.86557663, -0.83406702, -0.80255742, -0.77104782,\n",
              "         -0.73953821, -0.70802861, -0.67651901, -0.6450094 , -0.6134998 ,\n",
              "         -0.5819902 , -0.55048059, -0.51897099, -0.48746138, -0.45595178,\n",
              "         -0.42444218, -0.39293257, -0.36142297, -0.32991337, -0.29840376,\n",
              "         -0.26689416, -0.23538455, -0.20387495, -0.17236535, -0.14085574,\n",
              "         -0.10934614, -0.07783654, -0.04632693, -0.01481733,  0.01669228,\n",
              "          0.04820188,  0.07971148,  0.11122109,  0.14273069,  0.17424029,\n",
              "          0.2057499 ]),\n",
              "  <BarContainer object of 75 artists>),\n",
              " Text(0.5, 0, 'Percentage of Returns'))"
            ]
          },
          "execution_count": 32,
          "metadata": {},
          "output_type": "execute_result"
        },
        {
          "data": {
            "image/png": "[encoded data removed]",
            "text/plain": [
              "<Figure size 576x504 with 1 Axes>"
            ]
          },
          "metadata": {},
          "output_type": "display_data"
        }
      ],
      "source": [
        "# histogram\n",
        "returns_percent = stock_data['Returns'] * 100\n",
        "returns_percent.dropna(inplace=True)\n",
        "plt.hist(returns_percent, bins=75, color='#7100a0'), plt.xlabel(\"Percentage of Returns\")"
      ]
    },
    {
      "cell_type": "code",
      "execution_count": null,
      "metadata": {
        "colab": {
          "base_uri": "https://localhost:8080/"
        },
        "id": "zxBYWowvTZhB",
        "outputId": "f4626fa3-9689-474e-d05e-c4c1a62dcda2"
      },
      "outputs": [
        {
          "name": "stdout",
          "output_type": "stream",
          "text": [
            "Daily Mean Returns: -0.007838372450657919\n",
            "Annual Mean Returns: -0.862351507739535\n"
          ]
        }
      ],
      "source": [
        "# first moment\n",
        "import numpy as np\n",
        "\n",
        "daily_mean_returns = np.mean(stock_data['Returns'])\n",
        "print(\"Daily Mean Returns: \" + str(daily_mean_returns))\n",
        "\n",
        "annual_mean_returns = ((1+ daily_mean_returns)**252)-1\n",
        "print(\"Annual Mean Returns: \" + str(annual_mean_returns))"
      ]
    },
    {
      "cell_type": "code",
      "execution_count": null,
      "metadata": {
        "colab": {
          "base_uri": "https://localhost:8080/"
        },
        "id": "PmuQGSPRTnqT",
        "outputId": "9d33bd2a-7c6c-41c5-f26b-98f7eb911e8b"
      },
      "outputs": [
        {
          "name": "stdout",
          "output_type": "stream",
          "text": [
            "Daily Standard Deviation 0.00784033158995686\n",
            "Annual Standard Deviation 0.12446140549985694\n",
            "\n",
            "\n",
            "Daily Variance 6.147079944047547e-05\n",
            "Annual Variance 0.01549064145899982\n"
          ]
        }
      ],
      "source": [
        "# second moment\n",
        "daily_std = np.std(stock_data['Returns'])\n",
        "print(\"Daily Standard Deviation \" + str(daily_std))\n",
        "annual_std = daily_std*np.sqrt(252)\n",
        "print(\"Annual Standard Deviation \" + str(annual_std ))\n",
        "\n",
        "print('\\n')\n",
        "\n",
        "daily_var= daily_std**2\n",
        "print(\"Daily Variance \" + str(daily_var))\n",
        "annual_var = annual_std**2\n",
        "print(\"Annual Variance \" + str(annual_var))"
      ]
    },
    {
      "cell_type": "code",
      "execution_count": null,
      "metadata": {
        "colab": {
          "base_uri": "https://localhost:8080/"
        },
        "id": "18vP4GSLTtiy",
        "outputId": "853da04d-1de9-44d1-a154-d42664a32595"
      },
      "outputs": [
        {
          "name": "stdout",
          "output_type": "stream",
          "text": [
            "Skewness: -0.6300764473326651\n"
          ]
        }
      ],
      "source": [
        "# third moment\n",
        "import scipy\n",
        "from scipy.stats import skew\n",
        "\n",
        "returns = stock_data['Returns'].dropna()\n",
        "skewness = skew(returns)\n",
        "print(\"Skewness: \" + str(skewness))"
      ]
    },
    {
      "cell_type": "markdown",
      "metadata": {
        "id": "0faO-E0RTx1l"
      },
      "source": [
        "## relatively unchanged stock model"
      ]
    },
    {
      "cell_type": "code",
      "execution_count": null,
      "metadata": {
        "colab": {
          "base_uri": "https://localhost:8080/",
          "height": 255
        },
        "id": "2MrhcLAJT1NN",
        "outputId": "f41d7641-1939-4c9c-8ffd-6ef97c1be465"
      },
      "outputs": [
        {
          "name": "stdout",
          "output_type": "stream",
          "text": [
            "\r[*********************100%***********************]  1 of 1 completed\n"
          ]
        },
        {
          "data": {
            "text/html": [
              "\n",
              "  <div id=\"df-8053b6ef-a4f1-47bf-ac48-89b48706e496\">\n",
              "    <div class=\"colab-df-container\">\n",
              "      <div>\n",
              "<style scoped>\n",
              "    .dataframe tbody tr th:only-of-type {\n",
              "        vertical-align: middle;\n",
              "    }\n",
              "\n",
              "    .dataframe tbody tr th {\n",
              "        vertical-align: top;\n",
              "    }\n",
              "\n",
              "    .dataframe thead th {\n",
              "        text-align: right;\n",
              "    }\n",
              "</style>\n",
              "<table border=\"1\" class=\"dataframe\">\n",
              "  <thead>\n",
              "    <tr style=\"text-align: right;\">\n",
              "      <th></th>\n",
              "      <th>Open</th>\n",
              "      <th>High</th>\n",
              "      <th>Low</th>\n",
              "      <th>Close</th>\n",
              "      <th>Adj Close</th>\n",
              "      <th>Volume</th>\n",
              "    </tr>\n",
              "    <tr>\n",
              "      <th>Date</th>\n",
              "      <th></th>\n",
              "      <th></th>\n",
              "      <th></th>\n",
              "      <th></th>\n",
              "      <th></th>\n",
              "      <th></th>\n",
              "    </tr>\n",
              "  </thead>\n",
              "  <tbody>\n",
              "    <tr>\n",
              "      <th>2014-02-10</th>\n",
              "      <td>18.523571</td>\n",
              "      <td>18.999643</td>\n",
              "      <td>18.500000</td>\n",
              "      <td>18.892500</td>\n",
              "      <td>16.782961</td>\n",
              "      <td>345559200</td>\n",
              "    </tr>\n",
              "    <tr>\n",
              "      <th>2014-02-11</th>\n",
              "      <td>18.950357</td>\n",
              "      <td>19.205357</td>\n",
              "      <td>18.910713</td>\n",
              "      <td>19.141430</td>\n",
              "      <td>17.004099</td>\n",
              "      <td>282256800</td>\n",
              "    </tr>\n",
              "    <tr>\n",
              "      <th>2014-02-12</th>\n",
              "      <td>19.176786</td>\n",
              "      <td>19.270000</td>\n",
              "      <td>19.044287</td>\n",
              "      <td>19.139999</td>\n",
              "      <td>17.002825</td>\n",
              "      <td>308100800</td>\n",
              "    </tr>\n",
              "    <tr>\n",
              "      <th>2014-02-13</th>\n",
              "      <td>19.094999</td>\n",
              "      <td>19.458929</td>\n",
              "      <td>19.078571</td>\n",
              "      <td>19.443930</td>\n",
              "      <td>17.272818</td>\n",
              "      <td>307398000</td>\n",
              "    </tr>\n",
              "    <tr>\n",
              "      <th>2014-02-14</th>\n",
              "      <td>19.373928</td>\n",
              "      <td>19.499287</td>\n",
              "      <td>19.328930</td>\n",
              "      <td>19.428213</td>\n",
              "      <td>17.258856</td>\n",
              "      <td>272924400</td>\n",
              "    </tr>\n",
              "  </tbody>\n",
              "</table>\n",
              "</div>\n",
              "      <button class=\"colab-df-convert\" onclick=\"convertToInteractive('df-8053b6ef-a4f1-47bf-ac48-89b48706e496')\"\n",
              "              title=\"Convert this dataframe to an interactive table.\"\n",
              "              style=\"display:none;\">\n",
              "        \n",
              "  <svg xmlns=\"http://www.w3.org/2000/svg\" height=\"24px\"viewBox=\"0 0 24 24\"\n",
              "       width=\"24px\">\n",
              "    <path d=\"M0 0h24v24H0V0z\" fill=\"none\"/>\n",
              "    <path d=\"M18.56 5.44l.94 2.06.94-2.06 2.06-.94-2.06-.94-.94-2.06-.94 2.06-2.06.94zm-11 1L8.5 8.5l.94-2.06 2.06-.94-2.06-.94L8.5 2.5l-.94 2.06-2.06.94zm10 10l.94 2.06.94-2.06 2.06-.94-2.06-.94-.94-2.06-.94 2.06-2.06.94z\"/><path d=\"M17.41 7.96l-1.37-1.37c-.4-.4-.92-.59-1.43-.59-.52 0-1.04.2-1.43.59L10.3 9.45l-7.72 7.72c-.78.78-.78 2.05 0 2.83L4 21.41c.39.39.9.59 1.41.59.51 0 1.02-.2 1.41-.59l7.78-7.78 2.81-2.81c.8-.78.8-2.07 0-2.86zM5.41 20L4 18.59l7.72-7.72 1.47 1.35L5.41 20z\"/>\n",
              "  </svg>\n",
              "      </button>\n",
              "      \n",
              "  <style>\n",
              "    .colab-df-container {\n",
              "      display:flex;\n",
              "      flex-wrap:wrap;\n",
              "      gap: 12px;\n",
              "    }\n",
              "\n",
              "    .colab-df-convert {\n",
              "      background-color: #E8F0FE;\n",
              "      border: none;\n",
              "      border-radius: 50%;\n",
              "      cursor: pointer;\n",
              "      display: none;\n",
              "      fill: #1967D2;\n",
              "      height: 32px;\n",
              "      padding: 0 0 0 0;\n",
              "      width: 32px;\n",
              "    }\n",
              "\n",
              "    .colab-df-convert:hover {\n",
              "      background-color: #E2EBFA;\n",
              "      box-shadow: 0px 1px 2px rgba(60, 64, 67, 0.3), 0px 1px 3px 1px rgba(60, 64, 67, 0.15);\n",
              "      fill: #174EA6;\n",
              "    }\n",
              "\n",
              "    [theme=dark] .colab-df-convert {\n",
              "      background-color: #3B4455;\n",
              "      fill: #D2E3FC;\n",
              "    }\n",
              "\n",
              "    [theme=dark] .colab-df-convert:hover {\n",
              "      background-color: #434B5C;\n",
              "      box-shadow: 0px 1px 3px 1px rgba(0, 0, 0, 0.15);\n",
              "      filter: drop-shadow(0px 1px 2px rgba(0, 0, 0, 0.3));\n",
              "      fill: #FFFFFF;\n",
              "    }\n",
              "  </style>\n",
              "\n",
              "      <script>\n",
              "        const buttonEl =\n",
              "          document.querySelector('#df-8053b6ef-a4f1-47bf-ac48-89b48706e496 button.colab-df-convert');\n",
              "        buttonEl.style.display =\n",
              "          google.colab.kernel.accessAllowed ? 'block' : 'none';\n",
              "\n",
              "        async function convertToInteractive(key) {\n",
              "          const element = document.querySelector('#df-8053b6ef-a4f1-47bf-ac48-89b48706e496');\n",
              "          const dataTable =\n",
              "            await google.colab.kernel.invokeFunction('convertToInteractive',\n",
              "                                                     [key], {});\n",
              "          if (!dataTable) return;\n",
              "\n",
              "          const docLinkHtml = 'Like what you see? Visit the ' +\n",
              "            '<a target=\"_blank\" href=https://colab.research.google.com/notebooks/data_table.ipynb>data table notebook</a>'\n",
              "            + ' to learn more about interactive tables.';\n",
              "          element.innerHTML = '';\n",
              "          dataTable['output_type'] = 'display_data';\n",
              "          await google.colab.output.renderOutput(dataTable, element);\n",
              "          const docLink = document.createElement('div');\n",
              "          docLink.innerHTML = docLinkHtml;\n",
              "          element.appendChild(docLink);\n",
              "        }\n",
              "      </script>\n",
              "    </div>\n",
              "  </div>\n",
              "  "
            ],
            "text/plain": [
              "                 Open       High        Low      Close  Adj Close     Volume\n",
              "Date                                                                        \n",
              "2014-02-10  18.523571  18.999643  18.500000  18.892500  16.782961  345559200\n",
              "2014-02-11  18.950357  19.205357  18.910713  19.141430  17.004099  282256800\n",
              "2014-02-12  19.176786  19.270000  19.044287  19.139999  17.002825  308100800\n",
              "2014-02-13  19.094999  19.458929  19.078571  19.443930  17.272818  307398000\n",
              "2014-02-14  19.373928  19.499287  19.328930  19.428213  17.258856  272924400"
            ]
          },
          "execution_count": 40,
          "metadata": {},
          "output_type": "execute_result"
        }
      ],
      "source": [
        "# get the data for returns\n",
        "start = datetime.datetime(2014,1,29)\n",
        "end = datetime.datetime(2014,2,15)\n",
        "stock_data = yf.download(ticker, start, end)\n",
        "stock_data.tail()"
      ]
    },
    {
      "cell_type": "code",
      "execution_count": null,
      "metadata": {
        "colab": {
          "base_uri": "https://localhost:8080/",
          "height": 487
        },
        "id": "cTatzKnuT6K4",
        "outputId": "ac6d29ad-00e9-43e4-a735-cf51766f4ac6"
      },
      "outputs": [
        {
          "data": {
            "text/plain": [
              "<matplotlib.legend.Legend at 0x7f1acff5f190>"
            ]
          },
          "execution_count": 41,
          "metadata": {},
          "output_type": "execute_result"
        },
        {
          "data": {
            "image/png": "[encoded data removed]",
            "text/plain": [
              "<Figure size 576x504 with 1 Axes>"
            ]
          },
          "metadata": {},
          "output_type": "display_data"
        }
      ],
      "source": [
        "# plot the return graph\n",
        "stock_data['Returns'] = stock_data['Adj Close'].pct_change()\n",
        "stock_data['Returns'].plot(color='#660099')\n",
        "plt.legend()"
      ]
    },
    {
      "cell_type": "code",
      "execution_count": null,
      "metadata": {
        "colab": {
          "base_uri": "https://localhost:8080/",
          "height": 856
        },
        "id": "jM58OlMrT_b5",
        "outputId": "601fd30b-d481-4901-ac21-2633d4b4262c"
      },
      "outputs": [
        {
          "data": {
            "text/plain": [
              "((array([1., 0., 0., 0., 1., 0., 0., 1., 0., 0., 0., 0., 0., 1., 1., 0., 0.,\n",
              "         0., 0., 0., 0., 0., 0., 0., 0., 0., 0., 0., 0., 1., 0., 0., 0., 0.,\n",
              "         0., 1., 0., 0., 0., 0., 0., 0., 0., 0., 0., 0., 0., 0., 0., 0., 0.,\n",
              "         0., 0., 0., 0., 0., 0., 1., 0., 0., 1., 0., 1., 0., 0., 0., 0., 1.,\n",
              "         0., 0., 0., 0., 0., 0., 1.]),\n",
              "  array([-0.19374238, -0.16727305, -0.14080372, -0.11433439, -0.08786506,\n",
              "         -0.06139573, -0.0349264 , -0.00845707,  0.01801226,  0.04448159,\n",
              "          0.07095092,  0.09742025,  0.12388958,  0.15035891,  0.17682824,\n",
              "          0.20329757,  0.2297669 ,  0.25623623,  0.28270556,  0.30917489,\n",
              "          0.33564422,  0.36211355,  0.38858288,  0.41505221,  0.44152154,\n",
              "          0.46799087,  0.4944602 ,  0.52092953,  0.54739886,  0.57386819,\n",
              "          0.60033752,  0.62680685,  0.65327618,  0.67974551,  0.70621484,\n",
              "          0.73268417,  0.7591535 ,  0.78562283,  0.81209216,  0.83856149,\n",
              "          0.86503082,  0.89150015,  0.91796948,  0.94443881,  0.97090814,\n",
              "          0.99737747,  1.0238468 ,  1.05031613,  1.07678546,  1.10325479,\n",
              "          1.12972412,  1.15619345,  1.18266278,  1.20913211,  1.23560144,\n",
              "          1.26207077,  1.2885401 ,  1.31500943,  1.34147876,  1.36794809,\n",
              "          1.39441742,  1.42088675,  1.44735608,  1.47382541,  1.50029474,\n",
              "          1.52676407,  1.5532334 ,  1.57970273,  1.60617206,  1.63264139,\n",
              "          1.65911072,  1.68558005,  1.71204938,  1.73851871,  1.76498804,\n",
              "          1.79145737]),\n",
              "  <BarContainer object of 75 artists>),\n",
              " Text(0.5, 0, 'Percentage of Returns'))"
            ]
          },
          "execution_count": 42,
          "metadata": {},
          "output_type": "execute_result"
        },
        {
          "data": {
            "image/png": "[encoded data removed]",
            "text/plain": [
              "<Figure size 576x504 with 1 Axes>"
            ]
          },
          "metadata": {},
          "output_type": "display_data"
        }
      ],
      "source": [
        "# histogram\n",
        "returns_percent = stock_data['Returns'] * 100\n",
        "returns_percent.dropna(inplace=True)\n",
        "plt.hist(returns_percent, bins=75, color='#7100a0'), plt.xlabel(\"Percentage of Returns\")"
      ]
    },
    {
      "cell_type": "code",
      "execution_count": null,
      "metadata": {
        "colab": {
          "base_uri": "https://localhost:8080/"
        },
        "id": "Tf6PThoyUDpq",
        "outputId": "53c51fda-e418-4539-99bf-e415ded50066"
      },
      "outputs": [
        {
          "name": "stdout",
          "output_type": "stream",
          "text": [
            "Daily Mean Returns: 0.007450947590830537\n",
            "Annual Mean Returns: 5.492698595058941\n"
          ]
        }
      ],
      "source": [
        "# first moment\n",
        "import numpy as np\n",
        "\n",
        "daily_mean_returns = np.mean(stock_data['Returns'])\n",
        "print(\"Daily Mean Returns: \" + str(daily_mean_returns))\n",
        "\n",
        "annual_mean_returns = ((1+ daily_mean_returns)**252)-1\n",
        "print(\"Annual Mean Returns: \" + str(annual_mean_returns))"
      ]
    },
    {
      "cell_type": "code",
      "execution_count": null,
      "metadata": {
        "colab": {
          "base_uri": "https://localhost:8080/"
        },
        "id": "7m2yAF0vUF1z",
        "outputId": "e8ed96d0-7ddb-45f8-f71d-9ee283757aee"
      },
      "outputs": [
        {
          "name": "stdout",
          "output_type": "stream",
          "text": [
            "Daily Standard Deviation 0.006988567319468565\n",
            "Annual Standard Deviation 0.11094006688768264\n",
            "\n",
            "\n",
            "Daily Variance 4.8840073178744036e-05\n",
            "Annual Variance 0.012307698441043497\n"
          ]
        }
      ],
      "source": [
        "# second moment\n",
        "daily_std = np.std(stock_data['Returns'])\n",
        "print(\"Daily Standard Deviation \" + str(daily_std))\n",
        "annual_std = daily_std*np.sqrt(252)\n",
        "print(\"Annual Standard Deviation \" + str(annual_std ))\n",
        "\n",
        "print('\\n')\n",
        "\n",
        "daily_var= daily_std**2\n",
        "print(\"Daily Variance \" + str(daily_var))\n",
        "annual_var = annual_std**2\n",
        "print(\"Annual Variance \" + str(annual_var))"
      ]
    },
    {
      "cell_type": "code",
      "execution_count": null,
      "metadata": {
        "colab": {
          "base_uri": "https://localhost:8080/"
        },
        "id": "DOc7LVZ9UKgd",
        "outputId": "b880fd2e-d9fb-4587-bc6d-1d48d320eca7"
      },
      "outputs": [
        {
          "name": "stdout",
          "output_type": "stream",
          "text": [
            "Skewness: 0.08929911974720783\n"
          ]
        }
      ],
      "source": [
        "# third moment\n",
        "import scipy\n",
        "from scipy.stats import skew\n",
        "\n",
        "returns = stock_data['Returns'].dropna()\n",
        "skewness = skew(returns)\n",
        "print(\"Skewness: \" + str(skewness))"
      ]
    }
  ],
  "metadata": {
    "colab": {
      "collapsed_sections": [],
      "provenance": []
    },
    "kernelspec": {
      "display_name": "Python 3",
      "name": "python3"
    },
    "language_info": {
      "name": "python"
    }
  },
  "nbformat": 4,
  "nbformat_minor": 0
}