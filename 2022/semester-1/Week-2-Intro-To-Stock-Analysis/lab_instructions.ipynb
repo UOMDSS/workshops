{
  "nbformat": 4,
  "nbformat_minor": 0,
  "metadata": {
    "colab": {
      "provenance": [],
      "collapsed_sections": []
    },
    "kernelspec": {
      "name": "python3",
      "display_name": "Python 3"
    },
    "language_info": {
      "name": "python"
    }
  },
  "cells": [
    {
      "cell_type": "markdown",
      "source": [
        "# 1. Environment Initialization"
      ],
      "metadata": {
        "id": "EemSN8kLsnPo"
      }
    },
    {
      "cell_type": "markdown",
      "source": [
        "## Install/upgrade libraries\n",
        "\n",
        "Google Colab provides us with a pre-configured environment, but some packages are either outdated or have incompatiable issues. \n",
        "\n",
        "Therefore we need to upgrade them or reinstall them before."
      ],
      "metadata": {
        "id": "XRNIkQZyjGmQ"
      }
    },
    {
      "cell_type": "code",
      "execution_count": null,
      "metadata": {
        "id": "_YKHDBswf7wN",
        "colab": {
          "base_uri": "https://localhost:8080/",
          "height": 1000
        },
        "outputId": "030d4bb8-4952-4b6f-bf06-f1e641a71b2a"
      },
      "outputs": [
        {
          "output_type": "stream",
          "name": "stdout",
          "text": [
            "Looking in indexes: https://pypi.org/simple, https://us-python.pkg.dev/colab-wheels/public/simple/\n",
            "Requirement already satisfied: pandas in /usr/local/lib/python3.7/dist-packages (1.3.5)\n",
            "Requirement already satisfied: numpy>=1.17.3 in /usr/local/lib/python3.7/dist-packages (from pandas) (1.21.6)\n",
            "Requirement already satisfied: pytz>=2017.3 in /usr/local/lib/python3.7/dist-packages (from pandas) (2022.2.1)\n",
            "Requirement already satisfied: python-dateutil>=2.7.3 in /usr/local/lib/python3.7/dist-packages (from pandas) (2.8.2)\n",
            "Requirement already satisfied: six>=1.5 in /usr/local/lib/python3.7/dist-packages (from python-dateutil>=2.7.3->pandas) (1.15.0)\n",
            "Looking in indexes: https://pypi.org/simple, https://us-python.pkg.dev/colab-wheels/public/simple/\n",
            "Requirement already satisfied: pandas_datareader in /usr/local/lib/python3.7/dist-packages (0.9.0)\n",
            "Collecting pandas_datareader\n",
            "  Downloading pandas_datareader-0.10.0-py3-none-any.whl (109 kB)\n",
            "\u001b[K     |████████████████████████████████| 109 kB 2.1 MB/s \n",
            "\u001b[?25hRequirement already satisfied: lxml in /usr/local/lib/python3.7/dist-packages (from pandas_datareader) (4.9.1)\n",
            "Requirement already satisfied: requests>=2.19.0 in /usr/local/lib/python3.7/dist-packages (from pandas_datareader) (2.23.0)\n",
            "Requirement already satisfied: pandas>=0.23 in /usr/local/lib/python3.7/dist-packages (from pandas_datareader) (1.3.5)\n",
            "Requirement already satisfied: python-dateutil>=2.7.3 in /usr/local/lib/python3.7/dist-packages (from pandas>=0.23->pandas_datareader) (2.8.2)\n",
            "Requirement already satisfied: numpy>=1.17.3 in /usr/local/lib/python3.7/dist-packages (from pandas>=0.23->pandas_datareader) (1.21.6)\n",
            "Requirement already satisfied: pytz>=2017.3 in /usr/local/lib/python3.7/dist-packages (from pandas>=0.23->pandas_datareader) (2022.2.1)\n",
            "Requirement already satisfied: six>=1.5 in /usr/local/lib/python3.7/dist-packages (from python-dateutil>=2.7.3->pandas>=0.23->pandas_datareader) (1.15.0)\n",
            "Requirement already satisfied: chardet<4,>=3.0.2 in /usr/local/lib/python3.7/dist-packages (from requests>=2.19.0->pandas_datareader) (3.0.4)\n",
            "Requirement already satisfied: urllib3!=1.25.0,!=1.25.1,<1.26,>=1.21.1 in /usr/local/lib/python3.7/dist-packages (from requests>=2.19.0->pandas_datareader) (1.24.3)\n",
            "Requirement already satisfied: certifi>=2017.4.17 in /usr/local/lib/python3.7/dist-packages (from requests>=2.19.0->pandas_datareader) (2022.6.15)\n",
            "Requirement already satisfied: idna<3,>=2.5 in /usr/local/lib/python3.7/dist-packages (from requests>=2.19.0->pandas_datareader) (2.10)\n",
            "Installing collected packages: pandas-datareader\n",
            "  Attempting uninstall: pandas-datareader\n",
            "    Found existing installation: pandas-datareader 0.9.0\n",
            "    Uninstalling pandas-datareader-0.9.0:\n",
            "      Successfully uninstalled pandas-datareader-0.9.0\n",
            "Successfully installed pandas-datareader-0.10.0\n",
            "Looking in indexes: https://pypi.org/simple, https://us-python.pkg.dev/colab-wheels/public/simple/\n",
            "Requirement already satisfied: matplotlib in /usr/local/lib/python3.7/dist-packages (3.2.2)\n",
            "Collecting matplotlib\n",
            "  Downloading matplotlib-3.5.3-cp37-cp37m-manylinux_2_5_x86_64.manylinux1_x86_64.whl (11.2 MB)\n",
            "\u001b[K     |████████████████████████████████| 11.2 MB 2.1 MB/s \n",
            "\u001b[?25hRequirement already satisfied: cycler>=0.10 in /usr/local/lib/python3.7/dist-packages (from matplotlib) (0.11.0)\n",
            "Requirement already satisfied: python-dateutil>=2.7 in /usr/local/lib/python3.7/dist-packages (from matplotlib) (2.8.2)\n",
            "Requirement already satisfied: numpy>=1.17 in /usr/local/lib/python3.7/dist-packages (from matplotlib) (1.21.6)\n",
            "Requirement already satisfied: packaging>=20.0 in /usr/local/lib/python3.7/dist-packages (from matplotlib) (21.3)\n",
            "Collecting fonttools>=4.22.0\n",
            "  Downloading fonttools-4.37.4-py3-none-any.whl (960 kB)\n",
            "\u001b[K     |████████████████████████████████| 960 kB 59.7 MB/s \n",
            "\u001b[?25hRequirement already satisfied: kiwisolver>=1.0.1 in /usr/local/lib/python3.7/dist-packages (from matplotlib) (1.4.4)\n",
            "Requirement already satisfied: pillow>=6.2.0 in /usr/local/lib/python3.7/dist-packages (from matplotlib) (7.1.2)\n",
            "Requirement already satisfied: pyparsing>=2.2.1 in /usr/local/lib/python3.7/dist-packages (from matplotlib) (3.0.9)\n",
            "Requirement already satisfied: typing-extensions in /usr/local/lib/python3.7/dist-packages (from kiwisolver>=1.0.1->matplotlib) (4.1.1)\n",
            "Requirement already satisfied: six>=1.5 in /usr/local/lib/python3.7/dist-packages (from python-dateutil>=2.7->matplotlib) (1.15.0)\n",
            "Installing collected packages: fonttools, matplotlib\n",
            "  Attempting uninstall: matplotlib\n",
            "    Found existing installation: matplotlib 3.2.2\n",
            "    Uninstalling matplotlib-3.2.2:\n",
            "      Successfully uninstalled matplotlib-3.2.2\n",
            "Successfully installed fonttools-4.37.4 matplotlib-3.5.3\n"
          ]
        },
        {
          "output_type": "display_data",
          "data": {
            "application/vnd.colab-display-data+json": {
              "pip_warning": {
                "packages": [
                  "matplotlib",
                  "mpl_toolkits"
                ]
              }
            }
          },
          "metadata": {}
        }
      ],
      "source": [
        "# upgrade basic libraries, these are all pre-installed by colab but often with old versions\n",
        "!pip install --upgrade pandas\n",
        "!pip install --upgrade pandas_datareader\n",
        "!pip install --upgrade matplotlib"
      ]
    },
    {
      "cell_type": "markdown",
      "source": [
        "## Exercise 1:\n",
        "\n",
        "use `pip` command to install package `yfinance`.\n",
        "\n",
        "Note:  `!` needs to be added in front of `pip` to make the notebook recognize it's a terminal command, not a python code\n"
      ],
      "metadata": {
        "id": "HWItUpsU8f3R"
      }
    },
    {
      "cell_type": "code",
      "source": [
        "# !pip install yfinance\n",
        "\n",
        "..."
      ],
      "metadata": {
        "id": "7QYR1imXiNxB",
        "colab": {
          "base_uri": "https://localhost:8080/"
        },
        "outputId": "2aa1f030-cd93-4a55-fe9d-c655da773128"
      },
      "execution_count": null,
      "outputs": [
        {
          "output_type": "execute_result",
          "data": {
            "text/plain": [
              "Ellipsis"
            ]
          },
          "metadata": {},
          "execution_count": 2
        }
      ]
    },
    {
      "cell_type": "markdown",
      "source": [
        "## Exercise 2:\n",
        "Let's import libraries:\n",
        "\n",
        "By following the steps as we imported pandas\n",
        "1. import pandas.datareader.data' as 'web'.\n",
        "2. import 'matplotlob.pyplot' as 'plt'.\n"
      ],
      "metadata": {
        "id": "7OlWk8Q4jEgk"
      }
    },
    {
      "cell_type": "code",
      "source": [
        "# import pandas\n",
        "import pandas as pd\n",
        "# Series and DataFrame are both submodules of pandas\n",
        "from pandas import Series, DataFrame\n",
        "\n",
        "# Task (2)\n",
        "import pandas.datareader.data as web\n",
        "\n",
        "# Task (2)\n",
        "import matplotlib.pyplot as plt\n",
        "\n",
        "# import yfinance\n",
        "import yfinance as yf"
      ],
      "metadata": {
        "id": "S8ULRr6rjCF9",
        "colab": {
          "base_uri": "https://localhost:8080/",
          "height": 374
        },
        "outputId": "8d46ff8e-9b9a-4a56-9f2f-f526ff549fb7"
      },
      "execution_count": null,
      "outputs": [
        {
          "output_type": "error",
          "ename": "ModuleNotFoundError",
          "evalue": "ignored",
          "traceback": [
            "\u001b[0;31m---------------------------------------------------------------------------\u001b[0m",
            "\u001b[0;31mModuleNotFoundError\u001b[0m                       Traceback (most recent call last)",
            "\u001b[0;32m<ipython-input-7-f188350ce465>\u001b[0m in \u001b[0;36m<module>\u001b[0;34m\u001b[0m\n\u001b[1;32m      5\u001b[0m \u001b[0;34m\u001b[0m\u001b[0m\n\u001b[1;32m      6\u001b[0m \u001b[0;31m# Task (2)\u001b[0m\u001b[0;34m\u001b[0m\u001b[0;34m\u001b[0m\u001b[0;34m\u001b[0m\u001b[0m\n\u001b[0;32m----> 7\u001b[0;31m \u001b[0;32mimport\u001b[0m \u001b[0mpandas\u001b[0m\u001b[0;34m.\u001b[0m\u001b[0mdatareader\u001b[0m\u001b[0;34m.\u001b[0m\u001b[0mdata\u001b[0m \u001b[0;32mas\u001b[0m \u001b[0mweb\u001b[0m\u001b[0;34m\u001b[0m\u001b[0;34m\u001b[0m\u001b[0m\n\u001b[0m\u001b[1;32m      8\u001b[0m \u001b[0;34m\u001b[0m\u001b[0m\n\u001b[1;32m      9\u001b[0m \u001b[0;31m# Task (2)\u001b[0m\u001b[0;34m\u001b[0m\u001b[0;34m\u001b[0m\u001b[0;34m\u001b[0m\u001b[0m\n",
            "\u001b[0;31mModuleNotFoundError\u001b[0m: No module named 'pandas.datareader'",
            "",
            "\u001b[0;31m---------------------------------------------------------------------------\u001b[0;32m\nNOTE: If your import is failing due to a missing package, you can\nmanually install dependencies using either !pip or !apt.\n\nTo view examples of installing some common dependencies, click the\n\"Open Examples\" button below.\n\u001b[0;31m---------------------------------------------------------------------------\u001b[0m\n"
          ],
          "errorDetails": {
            "actions": [
              {
                "action": "open_url",
                "actionText": "Open Examples",
                "url": "/notebooks/snippets/importing_libraries.ipynb"
              }
            ]
          }
        }
      ]
    },
    {
      "cell_type": "markdown",
      "source": [
        "# 2. Load your data\n",
        "\n",
        "Remember the starting point of stock market analysis is to specify a `time period`. "
      ],
      "metadata": {
        "id": "JJ2O_z8ju7-x"
      }
    },
    {
      "cell_type": "code",
      "source": [
        "# (4)declare start and end time \n",
        "import datetime\n",
        "start = datetime.datetime(...)\n",
        "start = datetime.datetime(...)"
      ],
      "metadata": {
        "id": "pX9hTI_7vx84"
      },
      "execution_count": null,
      "outputs": []
    },
    {
      "cell_type": "markdown",
      "source": [
        "## Exercise 3:\n",
        "\n",
        "you will then need to be specific with:\n",
        "1. **which company** you are analysing on\n",
        "2. Which **api** you are using\n",
        "3. **Time range** declared before"
      ],
      "metadata": {
        "id": "q_T3-iHY9Pwq"
      }
    },
    {
      "cell_type": "code",
      "source": [
        "df = web.DataReader(...)"
      ],
      "metadata": {
        "id": "NvVUKluBwQK0"
      },
      "execution_count": null,
      "outputs": []
    },
    {
      "cell_type": "markdown",
      "source": [
        "## Exercise 4:\n",
        "\n",
        "Then use `.tail()` function to inspect the last 10 rows of the data."
      ],
      "metadata": {
        "id": "lTDRnvWb9lZw"
      }
    },
    {
      "cell_type": "code",
      "source": [
        "..."
      ],
      "metadata": {
        "id": "PJVCk_1T9t9_"
      },
      "execution_count": null,
      "outputs": []
    },
    {
      "cell_type": "markdown",
      "source": [
        "# 3. Stock analysis: Moving Average and Return Deviation"
      ],
      "metadata": {
        "id": "9ZN6cRUhxXEN"
      }
    },
    {
      "cell_type": "markdown",
      "source": [
        "## Exercise 5:\n",
        "\n",
        "Calculate the `moving average` of the stock market data you selected."
      ],
      "metadata": {
        "id": "XjiDyJCuxbSD"
      }
    },
    {
      "cell_type": "code",
      "source": [
        "# isolate the closing prices, indicate we are using the adjusted closing prices\n",
        "close_px = df['Adj Close']\n",
        "\n",
        "# (7)finish this cell, use the .rolling() function to set it as rolling window calculation with window size 20 and .mean() function to find the moving average\n",
        "mavg = close_px.rolling(...).mean()\n",
        "\n",
        "# inspect the results\n",
        "mavg.tail()"
      ],
      "metadata": {
        "id": "Q3UsvOQJxj_D",
        "colab": {
          "base_uri": "https://localhost:8080/",
          "height": 258
        },
        "outputId": "9e376d6b-f103-4960-dd94-84d72fceacb0"
      },
      "execution_count": null,
      "outputs": [
        {
          "output_type": "error",
          "ename": "NameError",
          "evalue": "ignored",
          "traceback": [
            "\u001b[0;31m---------------------------------------------------------------------------\u001b[0m",
            "\u001b[0;31mNameError\u001b[0m                                 Traceback (most recent call last)",
            "\u001b[0;32m<ipython-input-7-9a4fdb454f58>\u001b[0m in \u001b[0;36m<module>\u001b[0;34m\u001b[0m\n\u001b[1;32m      1\u001b[0m \u001b[0;31m# isolate the closing prices, indicate we are using the adjusted closing prices\u001b[0m\u001b[0;34m\u001b[0m\u001b[0;34m\u001b[0m\u001b[0;34m\u001b[0m\u001b[0m\n\u001b[0;32m----> 2\u001b[0;31m \u001b[0mclose_px\u001b[0m \u001b[0;34m=\u001b[0m \u001b[0mdf\u001b[0m\u001b[0;34m[\u001b[0m\u001b[0;34m'Adj Close'\u001b[0m\u001b[0;34m]\u001b[0m\u001b[0;34m\u001b[0m\u001b[0;34m\u001b[0m\u001b[0m\n\u001b[0m\u001b[1;32m      3\u001b[0m \u001b[0;34m\u001b[0m\u001b[0m\n\u001b[1;32m      4\u001b[0m \u001b[0;31m# (7)finish this cell, use the .rolling() function to set it as rolling window calculation and .mean() function to find the moving average\u001b[0m\u001b[0;34m\u001b[0m\u001b[0;34m\u001b[0m\u001b[0;34m\u001b[0m\u001b[0m\n\u001b[1;32m      5\u001b[0m \u001b[0mmavg\u001b[0m \u001b[0;34m=\u001b[0m \u001b[0mclose_px\u001b[0m\u001b[0;34m\u001b[0m\u001b[0;34m\u001b[0m\u001b[0m\n",
            "\u001b[0;31mNameError\u001b[0m: name 'df' is not defined"
          ]
        }
      ]
    },
    {
      "cell_type": "markdown",
      "source": [
        "## Exercise 6:\n",
        "Visualize the `mean average` by using `matplotlib`.\n"
      ],
      "metadata": {
        "id": "UDgmqQ_E0EZ8"
      }
    },
    {
      "cell_type": "code",
      "source": [
        "%matplotlib inline\n",
        "\n",
        "# change the style and figure size\n",
        "plt.style.use('ggplot')\n",
        "mpl.rc('figure', figsize=(8,7))\n",
        "\n",
        "# (9)plot mavg and label it within the same line \n",
        "close_px.plot(label='AAPL')\n",
        "...\n",
        "\n",
        "# label the y axis\n",
        "plt.ylabel(\"Adj Close\")\n",
        "# .legend() will explicitly list all the labels on the graph\n",
        "plt.legend()"
      ],
      "metadata": {
        "id": "-TxlK92P0Ivj",
        "colab": {
          "base_uri": "https://localhost:8080/",
          "height": 240
        },
        "outputId": "397378f5-a734-487a-e2b0-b8ffeafb184d"
      },
      "execution_count": null,
      "outputs": [
        {
          "output_type": "error",
          "ename": "NameError",
          "evalue": "ignored",
          "traceback": [
            "\u001b[0;31m---------------------------------------------------------------------------\u001b[0m",
            "\u001b[0;31mNameError\u001b[0m                                 Traceback (most recent call last)",
            "\u001b[0;32m<ipython-input-8-6e9b355da189>\u001b[0m in \u001b[0;36m<module>\u001b[0;34m\u001b[0m\n\u001b[1;32m      2\u001b[0m \u001b[0;34m\u001b[0m\u001b[0m\n\u001b[1;32m      3\u001b[0m \u001b[0;31m# change the style and figure size\u001b[0m\u001b[0;34m\u001b[0m\u001b[0;34m\u001b[0m\u001b[0;34m\u001b[0m\u001b[0m\n\u001b[0;32m----> 4\u001b[0;31m \u001b[0mplt\u001b[0m\u001b[0;34m.\u001b[0m\u001b[0mstyle\u001b[0m\u001b[0;34m.\u001b[0m\u001b[0muse\u001b[0m\u001b[0;34m(\u001b[0m\u001b[0;34m'ggplot'\u001b[0m\u001b[0;34m)\u001b[0m\u001b[0;34m\u001b[0m\u001b[0;34m\u001b[0m\u001b[0m\n\u001b[0m\u001b[1;32m      5\u001b[0m \u001b[0mmpl\u001b[0m\u001b[0;34m.\u001b[0m\u001b[0mrc\u001b[0m\u001b[0;34m(\u001b[0m\u001b[0;34m'figure'\u001b[0m\u001b[0;34m,\u001b[0m \u001b[0mfigsize\u001b[0m\u001b[0;34m=\u001b[0m\u001b[0;34m(\u001b[0m\u001b[0;36m8\u001b[0m\u001b[0;34m,\u001b[0m\u001b[0;36m7\u001b[0m\u001b[0;34m)\u001b[0m\u001b[0;34m)\u001b[0m\u001b[0;34m\u001b[0m\u001b[0;34m\u001b[0m\u001b[0m\n\u001b[1;32m      6\u001b[0m \u001b[0;34m\u001b[0m\u001b[0m\n",
            "\u001b[0;31mNameError\u001b[0m: name 'plt' is not defined"
          ]
        }
      ]
    },
    {
      "cell_type": "markdown",
      "source": [
        "## Exercise 7: \n",
        "Calculate `Return Deviation` and plot the graph."
      ],
      "metadata": {
        "id": "7Xon1ox_1MKp"
      }
    },
    {
      "cell_type": "code",
      "source": [
        "# (10) indicate we are using and compare the adjusted closing prices to find returns\n",
        "df['Returns'] = df['...'].pct_change()\n",
        "\n",
        "# (11)similarly, plot the graph and by setting the color to '#660099' in the brackets\n",
        "df['Returns'].plot(color='...')\n",
        "plt.ylabel(\"returns(USD in 100 shares)\")\n",
        "plt.legend()"
      ],
      "metadata": {
        "id": "LJ3ZsQyK1OtA"
      },
      "execution_count": null,
      "outputs": []
    },
    {
      "cell_type": "markdown",
      "source": [
        "# 4. Statistical Moments"
      ],
      "metadata": {
        "id": "I5fI5-Vn2MYw"
      }
    },
    {
      "cell_type": "markdown",
      "source": [
        "## Exercise 8:\n",
        "Calculate the first moment (`mean` of youe annual return)"
      ],
      "metadata": {
        "id": "k1L8D_373fUT"
      }
    },
    {
      "cell_type": "code",
      "source": [
        "import numpy as np\n",
        "\n",
        "# the daily mean returns can be found by numpy without computing any maths\n",
        "daily_mean_returns = np.mean(df['Returns'])\n",
        "# + str will return the final results (a number) to a string (daily mean returns: a number)\n",
        "print(\"Daily Mean Returns: \" + str(daily_mean_returns))\n",
        "\n",
        "# (13)assume there are 252 trading days per year, use the formula introduced to finish this expression and find the annual mean returns\n",
        "annual_mean_returns = (1+ daily_mean_returns)\n",
        "print(\"Annual Mean Returns: \" + str(annual_mean_returns))"
      ],
      "metadata": {
        "id": "OBtW35Bu3jJx",
        "colab": {
          "base_uri": "https://localhost:8080/",
          "height": 258
        },
        "outputId": "9cbc7730-6cf9-45b6-b733-e9fec1b5af58"
      },
      "execution_count": null,
      "outputs": [
        {
          "output_type": "error",
          "ename": "NameError",
          "evalue": "ignored",
          "traceback": [
            "\u001b[0;31m---------------------------------------------------------------------------\u001b[0m",
            "\u001b[0;31mNameError\u001b[0m                                 Traceback (most recent call last)",
            "\u001b[0;32m<ipython-input-11-e397a7fb99d6>\u001b[0m in \u001b[0;36m<module>\u001b[0;34m\u001b[0m\n\u001b[1;32m      2\u001b[0m \u001b[0;34m\u001b[0m\u001b[0m\n\u001b[1;32m      3\u001b[0m \u001b[0;31m# the daily mean returns can be found by numpy without computing any maths\u001b[0m\u001b[0;34m\u001b[0m\u001b[0;34m\u001b[0m\u001b[0;34m\u001b[0m\u001b[0m\n\u001b[0;32m----> 4\u001b[0;31m \u001b[0mdaily_mean_returns\u001b[0m \u001b[0;34m=\u001b[0m \u001b[0mnp\u001b[0m\u001b[0;34m.\u001b[0m\u001b[0mmean\u001b[0m\u001b[0;34m(\u001b[0m\u001b[0mstock_data\u001b[0m\u001b[0;34m[\u001b[0m\u001b[0;34m'Returns'\u001b[0m\u001b[0;34m]\u001b[0m\u001b[0;34m)\u001b[0m\u001b[0;34m\u001b[0m\u001b[0;34m\u001b[0m\u001b[0m\n\u001b[0m\u001b[1;32m      5\u001b[0m \u001b[0;31m# + str will return the final results (a number) to a string (daily mean returns: a number)\u001b[0m\u001b[0;34m\u001b[0m\u001b[0;34m\u001b[0m\u001b[0;34m\u001b[0m\u001b[0m\n\u001b[1;32m      6\u001b[0m \u001b[0mprint\u001b[0m\u001b[0;34m(\u001b[0m\u001b[0;34m\"Daily Mean Returns: \"\u001b[0m \u001b[0;34m+\u001b[0m \u001b[0mstr\u001b[0m\u001b[0;34m(\u001b[0m\u001b[0mdaily_mean_returns\u001b[0m\u001b[0;34m)\u001b[0m\u001b[0;34m)\u001b[0m\u001b[0;34m\u001b[0m\u001b[0;34m\u001b[0m\u001b[0m\n",
            "\u001b[0;31mNameError\u001b[0m: name 'np' is not defined"
          ]
        }
      ]
    },
    {
      "cell_type": "markdown",
      "source": [
        "## Exercise 9:\n",
        "Calculate the second moment (variance)"
      ],
      "metadata": {
        "id": "OjRkoJDG4SoT"
      }
    },
    {
      "cell_type": "code",
      "source": [
        "# daily standard deviation is also found by numpy library\n",
        "daily_std = np.std(df['Returns'])\n",
        "print(\"Daily Standard Deviation \" + str(daily_std))\n",
        "# annual standard deviation is equal to the daily standard deviation multiplied by the square root of the trading days per year (252)\n",
        "annual_std = daily_std*np.sqrt(252)\n",
        "print(\"Annual Standard Deviation \" + str(annual_std ))\n",
        "\n",
        "# using backslash n to separate these two pieces of information\n",
        "print('\\n')\n",
        "\n",
        "# this finds the daily variance\n",
        "daily_var= daily_std**2\n",
        "print(\"Daily Variance \" + str(daily_var))\n",
        "\n",
        "# (14)the calculation for annual variance is exactly in the same format of daily variance\n",
        "annual_var = ...\n",
        "print(\"Annual Variance \" + str(annual_var))"
      ],
      "metadata": {
        "id": "IpjcqcP04W-t",
        "colab": {
          "base_uri": "https://localhost:8080/",
          "height": 133
        },
        "outputId": "14100818-01f9-49a7-de5d-ddf4ebabb6ea"
      },
      "execution_count": null,
      "outputs": [
        {
          "output_type": "error",
          "ename": "SyntaxError",
          "evalue": "ignored",
          "traceback": [
            "\u001b[0;36m  File \u001b[0;32m\"<ipython-input-12-c053c58e703a>\"\u001b[0;36m, line \u001b[0;32m16\u001b[0m\n\u001b[0;31m    annual_var =\u001b[0m\n\u001b[0m                 ^\u001b[0m\n\u001b[0;31mSyntaxError\u001b[0m\u001b[0;31m:\u001b[0m invalid syntax\n"
          ]
        }
      ]
    },
    {
      "cell_type": "markdown",
      "source": [
        "## Exercise 10: \n",
        "Calculate the third moment (skewness)"
      ],
      "metadata": {
        "id": "T9RaBF965NOk"
      }
    },
    {
      "cell_type": "code",
      "source": [
        "import scipy \n",
        "# (15)import skew from scipy (Hint: all of the statistics functions are located in the submodule scipy.stats )\n",
        "...\n",
        "\n",
        "# remove all the missing values by .dropna()\n",
        "returns = df['Returns'].dropna()\n",
        "# skewness is also found by scipy straightforwardly\n",
        "skewness = skew(returns)\n",
        "print(\"Skewness: \" + str(skewness))"
      ],
      "metadata": {
        "id": "xuTR8Q8n5QGL"
      },
      "execution_count": null,
      "outputs": []
    },
    {
      "cell_type": "markdown",
      "source": [
        "# 5. Result Analysis\n",
        "\n",
        "Based on the statistics you have calculated, pick three segments from the stock market data you have chosen: \n",
        "1. One increasing;\n",
        "2. One declining;\n",
        "3. One stable;\n",
        "\n",
        "And analyze their statistics respectively, briefly state how you can use the statistics taught on the Lecture session to identify whether a segment of stock market data is increasing, declining or keep stable in that time period."
      ],
      "metadata": {
        "id": "OPvhRaBV_FCn"
      }
    },
    {
      "cell_type": "code",
      "source": [],
      "metadata": {
        "id": "SL4zOHTU_GHk"
      },
      "execution_count": null,
      "outputs": []
    }
  ]
}