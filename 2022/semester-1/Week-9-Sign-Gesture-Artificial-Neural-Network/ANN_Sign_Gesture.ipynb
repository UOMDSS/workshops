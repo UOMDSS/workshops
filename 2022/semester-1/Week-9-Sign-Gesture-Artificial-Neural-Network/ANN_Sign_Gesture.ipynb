{
  "nbformat": 4,
  "nbformat_minor": 0,
  "metadata": {
    "colab": {
      "provenance": []
    },
    "kernelspec": {
      "name": "python3",
      "display_name": "Python 3"
    },
    "language_info": {
      "name": "python"
    },
    "gpuClass": "standard"
  },
  "cells": [
    {
      "cell_type": "markdown",
      "source": [
        "# Sign Hand Gesture Recognition by Artificial Neural Network\n",
        "\n",
        "<a href=\"https://colab.research.google.com/github/UOMDSS/workshops-2022-2023/blob/main/semester-1/Week-9-Sign-Gesture-Artificial-Neural-Network/ANN_Sign_Gesture.ipynb\" target=\"_parent\"><img src=\"https://colab.research.google.com/assets/colab-badge.svg\" alt=\"Open In Colab\"/></a>"
      ],
      "metadata": {
        "id": "ZMv-jyXnUu9A"
      }
    },
    {
      "cell_type": "markdown",
      "source": [
        "## 0.1 Download sign MNIST datasets"
      ],
      "metadata": {
        "id": "oe5qJvVuVAbk"
      }
    },
    {
      "cell_type": "code",
      "source": [
        "! mkdir -p dataset/\n",
        "! wget -q -O dataset/sign_mnist_train.csv https://github.com/UOMDSS/workshops-2022-2023/raw/main/semester-1/Week-9-Sign-Gesture-Artificial-Neural-Network/dataset/sign_mnist_train.csv\n",
        "! wget -q -O dataset/sign_mnist_test.csv https://github.com/UOMDSS/workshops-2022-2023/raw/main/semester-1/Week-9-Sign-Gesture-Artificial-Neural-Network/dataset/sign_mnist_test.csv"
      ],
      "metadata": {
        "id": "Mw5mOkB1VA6U"
      },
      "execution_count": null,
      "outputs": []
    },
    {
      "cell_type": "markdown",
      "source": [
        "## 0.2 Peek and visualise dataset"
      ],
      "metadata": {
        "id": "jKXMESWx2ejw"
      }
    },
    {
      "cell_type": "code",
      "source": [
        "import numpy as np\n",
        "import matplotlib.pyplot as plt\n",
        "\n",
        "# A-Z but no cases for 9=J and 25=Z\n",
        "label_dict = {0: 'A', 1: 'B', 2: 'C', 3: 'D', 4: 'E', 5: 'F', 6: 'G', 7: 'H', 8: 'I', 10: 'K', 11: 'L', 12: 'M', 13: 'N', 14: 'O', 15: 'P', 16: 'Q', 17: 'R', 18: 'S', 19: 'T', 20: 'U', 21: 'V', 22: 'W', 23: 'X', 24: 'Y'}\n",
        "\n",
        "def show_picture(values):\n",
        "    image_array = np.asfarray(values[1:]).reshape((28, 28))\n",
        "    plt.imshow(image_array, cmap='magma', interpolation='None')\n",
        "    plt.xlabel(label_dict[values[0]], fontsize=20, color='#3B054F')\n",
        "    plt.xticks([])\n",
        "    plt.yticks([])\n",
        "\n",
        "with open('dataset/sign_mnist_train.csv', 'r') as f:\n",
        "    training_data_list = f.readlines()"
      ],
      "metadata": {
        "id": "Jz8AXyrp2l-_"
      },
      "execution_count": null,
      "outputs": []
    },
    {
      "cell_type": "markdown",
      "source": [
        "Each line of the data file contains 1 label value + 784 (28x28) pixel values (0~255)."
      ],
      "metadata": {
        "id": "_ZU_T58uLvkE"
      }
    },
    {
      "cell_type": "code",
      "source": [
        "print(training_data_list[0])"
      ],
      "metadata": {
        "id": "Iwaaq00XLB3_"
      },
      "execution_count": null,
      "outputs": []
    },
    {
      "cell_type": "markdown",
      "source": [
        "Visualisation."
      ],
      "metadata": {
        "id": "vtCSHbLjNQQ8"
      }
    },
    {
      "cell_type": "code",
      "source": [
        "plt.figure(figsize=(7, 7))\n",
        "for i, l in enumerate([31, 14, 0, 10]):\n",
        "    plt.subplot(2, 2, i+1)\n",
        "    data_array = [int(x) for x in training_data_list[l].split(',')]\n",
        "    show_picture(data_array)\n",
        "plt.show()"
      ],
      "metadata": {
        "id": "paueDVQ5LI-4"
      },
      "execution_count": null,
      "outputs": []
    },
    {
      "cell_type": "markdown",
      "source": [
        "## 1.1 Import PyTorch libraries and setup device"
      ],
      "metadata": {
        "id": "O50q1cgeV_-c"
      }
    },
    {
      "cell_type": "code",
      "source": [
        "import torch\n",
        "from torch import nn\n",
        "import torch.nn.functional as F\n",
        "from torch.utils.data import Dataset, DataLoader\n",
        "\n",
        "device = \"cuda\" if torch.cuda.is_available() else \"cpu\"\n",
        "print(f\"Using {device} device\")"
      ],
      "metadata": {
        "id": "JwIOcXOjWE3-"
      },
      "execution_count": null,
      "outputs": []
    },
    {
      "cell_type": "markdown",
      "source": [
        "## 1.2 Define hyperparameters"
      ],
      "metadata": {
        "id": "ViiZqo78Y0tb"
      }
    },
    {
      "cell_type": "code",
      "source": [
        "input_nodes = 784     #@param {type:\"integer\"}\n",
        "hidden_nodes = 50     #@param {type:\"integer\"}\n",
        "output_nodes = 10     #@param {type:\"integer\"}\n",
        "batch_size = 16       #@param {type:\"integer\"}\n",
        "learning_rate = 0.01  #@param {type:\"number\"}\n",
        "epochs = 10           #@param {type:\"integer\"}"
      ],
      "metadata": {
        "id": "KRfunuglY3WR"
      },
      "execution_count": null,
      "outputs": []
    },
    {
      "cell_type": "markdown",
      "source": [
        "## 1.3 Define dataset class"
      ],
      "metadata": {
        "id": "JkigNJD6a3zx"
      }
    },
    {
      "cell_type": "code",
      "source": [
        "class SignMNIST(Dataset):\n",
        "    def __init__(self, filePath):\n",
        "        # read dataset\n",
        "        self.data_array = []\n",
        "        for line in open(filePath, 'r'):\n",
        "            sample = [int(pixel) for pixel in line.split(',')]\n",
        "            # skip class 'J'\n",
        "            if sample[0] > 9:\n",
        "                sample[0] -= 1\n",
        "            # filter out number of classes\n",
        "            if sample[0] < output_nodes:\n",
        "                self.data_array.append(sample)\n",
        "\n",
        "    def __len__(self):\n",
        "        return len(self.data_array)\n",
        "\n",
        "    def __getitem__(self, idx):\n",
        "        sample = self.data_array[idx]\n",
        "        # normalise data\n",
        "        data = torch.tensor(sample[1:], dtype=torch.float32) / 255.0\n",
        "        label = torch.tensor(sample[0], dtype=torch.float32)\n",
        "        return data, label"
      ],
      "metadata": {
        "id": "ULHUIbMoa5yG"
      },
      "execution_count": null,
      "outputs": []
    },
    {
      "cell_type": "markdown",
      "source": [
        "## 1.4 Define model"
      ],
      "metadata": {
        "id": "IPOyPz6AAPOX"
      }
    },
    {
      "cell_type": "code",
      "source": [
        "class NeuralNetwork(nn.Module):\n",
        "    def __init__(self):\n",
        "        super().__init__()\n",
        "\n",
        "        # initialise weights\n",
        "        self.wih = nn.Parameter(torch.normal(torch.zeros(hidden_nodes, input_nodes), hidden_nodes ** -0.5))\n",
        "        self.who = nn.Parameter(torch.normal(torch.zeros(output_nodes, hidden_nodes), output_nodes ** -0.5))\n",
        "\n",
        "        # activation function\n",
        "        self.sigmoid = lambda x: 1 / (1 + torch.exp(-x))\n",
        "\n",
        "    def forward(self, inputs):\n",
        "        # input layer\n",
        "        inputs = inputs.T\n",
        "\n",
        "        # hidden layer\n",
        "        hidden_outputs = ...\n",
        "\n",
        "        # output layer\n",
        "        final_outputs = ...\n",
        "\n",
        "        return final_outputs.T"
      ],
      "metadata": {
        "id": "J3yEUpNiARTT"
      },
      "execution_count": null,
      "outputs": []
    },
    {
      "cell_type": "markdown",
      "source": [
        "## 1.5 Define loss function"
      ],
      "metadata": {
        "id": "1QbD847JpYRn"
      }
    },
    {
      "cell_type": "code",
      "source": [
        "def loss_fn(y_pred, y):\n",
        "    y = F.one_hot(y.to(torch.int64), output_nodes).to(torch.float32)\n",
        "    # sum of squares error\n",
        "    return ..."
      ],
      "metadata": {
        "id": "wssGMGAVpaIP"
      },
      "execution_count": null,
      "outputs": []
    },
    {
      "cell_type": "markdown",
      "source": [
        "## 1.6 Initialise instances"
      ],
      "metadata": {
        "id": "AScll_x_p1el"
      }
    },
    {
      "cell_type": "code",
      "source": [
        "train_dataloader = DataLoader(SignMNIST('dataset/sign_mnist_train.csv'), batch_size=batch_size, shuffle=True)\n",
        "test_dataloader = DataLoader(SignMNIST('dataset/sign_mnist_test.csv'), batch_size=batch_size, shuffle=True)\n",
        "\n",
        "model = NeuralNetwork().to(device)\n",
        "\n",
        "optimizer = torch.optim.SGD(model.parameters(), lr=learning_rate)"
      ],
      "metadata": {
        "id": "ub2XEwqtp9OT"
      },
      "execution_count": null,
      "outputs": []
    },
    {
      "cell_type": "markdown",
      "source": [
        "## 1.7 Define training loop"
      ],
      "metadata": {
        "id": "Qle6TxCWqfb0"
      }
    },
    {
      "cell_type": "code",
      "source": [
        "def train_loop():\n",
        "    size = len(train_dataloader.dataset)\n",
        "    for batch_no, (X, y) in enumerate(train_dataloader):\n",
        "        X, y = X.to(device), y.to(device)\n",
        "\n",
        "        # Compute prediction and loss\n",
        "        pred = model(X)\n",
        "        loss = loss_fn(pred, y)\n",
        "\n",
        "        # Backpropagation\n",
        "        optimizer.zero_grad()\n",
        "        loss.backward()\n",
        "        optimizer.step()\n",
        "\n",
        "        if (batch_no + 1) % (3000 // batch_size) == 0:\n",
        "            loss, current = loss.item(), batch_no * batch_size\n",
        "            print(f\"loss: {loss:>7f}  [{current:>5d}/{size:>5d}]\")"
      ],
      "metadata": {
        "id": "Q01UhbHJqhCd"
      },
      "execution_count": null,
      "outputs": []
    },
    {
      "cell_type": "markdown",
      "source": [
        "## 1.8 Define testing loop"
      ],
      "metadata": {
        "id": "FQnXODwWqh3m"
      }
    },
    {
      "cell_type": "code",
      "source": [
        "def test_loop():\n",
        "    size = len(test_dataloader.dataset)\n",
        "    num_batches = len(test_dataloader)\n",
        "    test_loss, correct = 0, 0\n",
        "\n",
        "    with torch.no_grad():\n",
        "        for X, y in test_dataloader:\n",
        "            X, y = X.to(device), y.to(device)\n",
        "\n",
        "            pred = model(X)\n",
        "            test_loss += loss_fn(pred, y).item()\n",
        "            correct += (pred.argmax(1) == y).type(torch.float).sum().item()\n",
        "\n",
        "    test_loss /= num_batches\n",
        "    correct /= size\n",
        "    print(f\"Test Error: \\n Accuracy: {(100*correct):>0.1f}%, Avg loss: {test_loss:>8f} \\n\")"
      ],
      "metadata": {
        "id": "4nggC20vqjcU"
      },
      "execution_count": null,
      "outputs": []
    },
    {
      "cell_type": "markdown",
      "source": [
        "## 1.9 Start loops"
      ],
      "metadata": {
        "id": "6DtebRk6qnc0"
      }
    },
    {
      "cell_type": "code",
      "source": [
        "for t in range(epochs):\n",
        "    print(f\"Epoch {t+1} / {epochs}\\n-------------------------------\")\n",
        "    train_loop()\n",
        "    test_loop()"
      ],
      "metadata": {
        "id": "XhmOe-esqsNg"
      },
      "execution_count": null,
      "outputs": []
    },
    {
      "cell_type": "markdown",
      "source": [
        "## 2.0 Model prediction"
      ],
      "metadata": {
        "id": "m-ZrR2Jx5hW-"
      }
    },
    {
      "cell_type": "code",
      "source": [
        "idx = 10\n",
        "test_dataset = SignMNIST('dataset/sign_mnist_test.csv')\n",
        "X, y = test_dataset[idx]\n",
        "X, y = X.unsqueeze(0).to(device), y.to(device)\n",
        "pred = model(X)\n",
        "pred = pred.argmax(1)[0]\n",
        "print(f\"Predicted value: {pred.item()}, Real label: {int(y.item())}\")"
      ],
      "metadata": {
        "id": "83oMXbQZ5jIl"
      },
      "execution_count": null,
      "outputs": []
    }
  ]
}