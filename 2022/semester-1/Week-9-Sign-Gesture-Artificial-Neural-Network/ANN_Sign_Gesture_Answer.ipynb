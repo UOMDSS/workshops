{
  "cells": [
    {
      "cell_type": "markdown",
      "metadata": {
        "id": "ZMv-jyXnUu9A"
      },
      "source": [
        "# Sign Hand Gesture Recognition by Artificial Neural Network\n",
        "\n",
        "<a href=\"https://colab.research.google.com/github/UOMDSS/workshops-2022-2023/blob/main/semester-1/Week-9-Sign-Gesture-Artificial-Neural-Network/ANN_Sign_Gesture.ipynb\" target=\"_parent\"><img src=\"https://colab.research.google.com/assets/colab-badge.svg\" alt=\"Open In Colab\"/></a>"
      ]
    },
    {
      "cell_type": "markdown",
      "metadata": {
        "id": "oe5qJvVuVAbk"
      },
      "source": [
        "## 0.1 Download sign MNIST datasets"
      ]
    },
    {
      "cell_type": "code",
      "execution_count": 1,
      "metadata": {
        "id": "Mw5mOkB1VA6U"
      },
      "outputs": [
        {
          "name": "stderr",
          "output_type": "stream",
          "text": [
            "The syntax of the command is incorrect.\n"
          ]
        }
      ],
      "source": [
        "! mkdir -p dataset/\n",
        "! wget -q -O dataset/sign_mnist_train.csv https://github.com/UOMDSS/workshops-2022-2023/raw/main/semester-1/Week-9-Sign-Gesture-Artificial-Neural-Network/dataset/sign_mnist_train.csv\n",
        "! wget -q -O dataset/sign_mnist_test.csv https://github.com/UOMDSS/workshops-2022-2023/raw/main/semester-1/Week-9-Sign-Gesture-Artificial-Neural-Network/dataset/sign_mnist_test.csv"
      ]
    },
    {
      "cell_type": "markdown",
      "metadata": {
        "id": "jKXMESWx2ejw"
      },
      "source": [
        "## 0.2 Peek and visualise dataset"
      ]
    },
    {
      "cell_type": "code",
      "execution_count": 2,
      "metadata": {
        "id": "Jz8AXyrp2l-_"
      },
      "outputs": [],
      "source": [
        "import numpy as np\n",
        "import matplotlib.pyplot as plt\n",
        "\n",
        "# A-Z but no cases for 9=J and 25=Z\n",
        "label_dict = {0: 'A', 1: 'B', 2: 'C', 3: 'D', 4: 'E', 5: 'F', 6: 'G', 7: 'H', 8: 'I', 10: 'K', 11: 'L', 12: 'M', 13: 'N', 14: 'O', 15: 'P', 16: 'Q', 17: 'R', 18: 'S', 19: 'T', 20: 'U', 21: 'V', 22: 'W', 23: 'X', 24: 'Y'}\n",
        "\n",
        "def show_picture(values):\n",
        "    image_array = np.asfarray(values[1:]).reshape((28, 28))\n",
        "    plt.imshow(image_array, cmap='magma', interpolation='None')\n",
        "    plt.xlabel(label_dict[values[0]], fontsize=20, color='#3B054F')\n",
        "    plt.xticks([])\n",
        "    plt.yticks([])\n",
        "\n",
        "with open('dataset/sign_mnist_train.csv', 'r') as f:\n",
        "    training_data_list = f.readlines()"
      ]
    },
    {
      "cell_type": "markdown",
      "metadata": {
        "id": "_ZU_T58uLvkE"
      },
      "source": [
        "Each line of the data file contains 1 label value + 784 (28x28) pixel values (0~255)."
      ]
    },
    {
      "cell_type": "code",
      "execution_count": 3,
      "metadata": {
        "id": "Iwaaq00XLB3_"
      },
      "outputs": [
        {
          "name": "stdout",
          "output_type": "stream",
          "text": [
            "3,107,118,127,134,139,143,146,150,153,156,158,160,163,165,159,166,168,170,170,171,171,171,172,171,171,170,170,169,111,121,129,135,141,144,148,151,154,157,160,163,164,170,119,152,171,171,170,171,172,172,172,172,172,171,171,170,113,123,131,137,142,145,150,152,155,158,161,163,164,172,105,142,170,171,171,171,172,172,173,173,172,171,171,171,116,125,133,139,143,146,151,153,156,159,162,163,167,167,95,144,171,172,172,172,172,172,173,173,173,172,172,171,117,126,134,140,145,149,153,156,158,161,163,164,175,156,87,154,172,173,173,173,173,173,174,174,174,173,172,172,119,128,136,142,146,150,153,156,159,163,165,164,184,148,89,164,172,174,174,174,174,175,175,174,175,174,173,173,122,130,138,143,147,150,154,158,162,165,166,172,181,128,94,170,173,175,174,175,176,177,177,177,177,175,175,174,122,132,139,145,149,152,156,160,163,165,166,181,172,103,113,175,176,178,178,179,179,179,179,178,179,177,175,174,125,134,141,147,150,153,157,161,164,167,168,184,179,116,126,165,176,179,180,180,181,180,180,180,179,178,177,176,128,135,142,148,152,154,158,162,165,168,170,187,180,156,161,124,143,179,178,178,181,182,181,180,181,180,179,179,129,136,144,150,153,155,159,163,166,169,172,187,184,153,102,117,110,175,169,154,182,183,183,182,182,181,181,179,131,138,145,150,155,157,161,165,168,174,190,189,175,146,94,97,113,151,158,129,184,184,184,184,183,183,182,180,131,139,146,151,155,159,163,167,175,182,179,171,159,114,102,89,121,136,136,96,172,186,186,185,185,184,182,181,131,140,147,154,157,160,164,179,186,191,187,180,157,100,88,84,108,111,126,90,120,186,187,187,186,185,184,182,133,141,149,155,158,160,174,201,189,165,151,143,146,120,87,78,87,76,108,98,96,181,188,187,186,186,185,183,133,141,150,156,160,161,179,197,174,135,99,72,95,134,97,72,74,68,116,105,108,187,189,187,187,186,186,185,134,143,151,156,161,163,179,194,156,110,74,42,52,139,94,67,75,75,118,106,129,189,191,190,188,188,187,186,135,144,152,158,163,163,177,193,161,122,84,43,71,134,81,57,71,88,112,98,157,193,193,192,190,190,189,188,136,144,152,158,162,163,176,192,164,128,98,62,60,100,71,76,96,101,105,95,174,195,194,194,194,193,191,190,137,145,152,159,164,165,178,191,164,135,113,82,59,87,98,111,120,108,97,108,190,196,195,195,194,193,193,192,139,146,154,160,164,165,175,186,163,139,112,85,67,102,126,133,126,105,104,176,197,198,197,196,195,195,194,193,138,147,155,161,165,167,172,186,163,137,107,87,76,106,122,125,117,96,156,199,199,200,198,196,196,195,195,194,139,148,156,163,166,168,172,180,158,131,108,99,86,108,118,116,103,107,191,202,201,200,200,200,199,197,198,196,140,149,157,164,168,167,177,178,155,131,118,105,87,100,106,100,96,164,202,202,202,202,202,201,200,199,199,198,140,150,157,165,167,170,181,175,152,130,115,98,82,85,90,99,165,202,203,204,203,203,202,202,201,201,200,200,142,150,159,165,170,191,173,157,144,119,97,84,79,79,91,172,202,203,203,205,204,204,204,203,202,202,201,200,142,151,160,165,188,190,187,150,119,109,85,79,79,78,137,203,205,206,206,207,207,206,206,204,205,204,203,202,142,151,160,172,196,188,188,190,135,96,86,77,77,79,176,205,207,207,207,207,207,207,206,206,206,204,203,202\n",
            "\n"
          ]
        }
      ],
      "source": [
        "print(training_data_list[0])"
      ]
    },
    {
      "cell_type": "markdown",
      "metadata": {
        "id": "vtCSHbLjNQQ8"
      },
      "source": [
        "Visualisation."
      ]
    },
    {
      "cell_type": "code",
      "execution_count": 4,
      "metadata": {
        "id": "paueDVQ5LI-4"
      },
      "outputs": [
        {
          "data": {
            "image/png": "[encoded data removed]",
            "text/plain": [
              "<Figure size 504x504 with 4 Axes>"
            ]
          },
          "metadata": {},
          "output_type": "display_data"
        }
      ],
      "source": [
        "plt.figure(figsize=(7, 7))\n",
        "for i, l in enumerate([31, 14, 0, 10]):\n",
        "    plt.subplot(2, 2, i+1)\n",
        "    data_array = [int(x) for x in training_data_list[l].split(',')]\n",
        "    show_picture(data_array)\n",
        "plt.show()"
      ]
    },
    {
      "cell_type": "markdown",
      "metadata": {
        "id": "O50q1cgeV_-c"
      },
      "source": [
        "## 1.1 Import PyTorch libraries and setup device"
      ]
    },
    {
      "cell_type": "code",
      "execution_count": 5,
      "metadata": {
        "id": "JwIOcXOjWE3-"
      },
      "outputs": [
        {
          "name": "stdout",
          "output_type": "stream",
          "text": [
            "Using cuda device\n"
          ]
        }
      ],
      "source": [
        "import torch\n",
        "from torch import nn\n",
        "import torch.nn.functional as F\n",
        "from torch.utils.data import Dataset, DataLoader\n",
        "\n",
        "device = \"cuda\" if torch.cuda.is_available() else \"cpu\"\n",
        "print(f\"Using {device} device\")"
      ]
    },
    {
      "cell_type": "markdown",
      "metadata": {
        "id": "ViiZqo78Y0tb"
      },
      "source": [
        "## 1.2 Define hyperparameters"
      ]
    },
    {
      "cell_type": "code",
      "execution_count": 6,
      "metadata": {
        "id": "KRfunuglY3WR"
      },
      "outputs": [],
      "source": [
        "input_nodes = 784     #@param {type:\"integer\"}\n",
        "hidden_nodes = 200    #@param {type:\"integer\"}\n",
        "output_nodes = 24     #@param {type:\"integer\"}\n",
        "batch_size = 16       #@param {type:\"integer\"}\n",
        "learning_rate = 0.03  #@param {type:\"number\"}\n",
        "epochs = 10           #@param {type:\"integer\"}"
      ]
    },
    {
      "cell_type": "markdown",
      "metadata": {
        "id": "JkigNJD6a3zx"
      },
      "source": [
        "## 1.3 Define dataset class"
      ]
    },
    {
      "cell_type": "code",
      "execution_count": 7,
      "metadata": {
        "id": "ULHUIbMoa5yG"
      },
      "outputs": [],
      "source": [
        "class SignMNIST(Dataset):\n",
        "    def __init__(self, filePath):\n",
        "        # read dataset\n",
        "        self.data_array = []\n",
        "        for line in open(filePath, 'r'):\n",
        "            sample = [int(pixel) for pixel in line.split(',')]\n",
        "            # skip class 'J'\n",
        "            if sample[0] > 9:\n",
        "                sample[0] -= 1\n",
        "            # filter out number of classes\n",
        "            if sample[0] < output_nodes:\n",
        "                self.data_array.append(sample)\n",
        "\n",
        "    def __len__(self):\n",
        "        return len(self.data_array)\n",
        "\n",
        "    def __getitem__(self, idx):\n",
        "        sample = self.data_array[idx]\n",
        "        # normalise data\n",
        "        data = torch.tensor(sample[1:], dtype=torch.float32) / 255.0\n",
        "        label = torch.tensor(sample[0], dtype=torch.float32)\n",
        "        return data, label"
      ]
    },
    {
      "cell_type": "markdown",
      "metadata": {
        "id": "IPOyPz6AAPOX"
      },
      "source": [
        "## 1.4 Define model"
      ]
    },
    {
      "cell_type": "code",
      "execution_count": 8,
      "metadata": {
        "id": "J3yEUpNiARTT"
      },
      "outputs": [],
      "source": [
        "class NeuralNetwork(nn.Module):\n",
        "    def __init__(self):\n",
        "        super().__init__()\n",
        "\n",
        "        # initialise weights\n",
        "        self.wih = nn.Parameter(torch.normal(torch.zeros(hidden_nodes, input_nodes), hidden_nodes ** -0.5))\n",
        "        self.who = nn.Parameter(torch.normal(torch.zeros(output_nodes, hidden_nodes), output_nodes ** -0.5))\n",
        "\n",
        "        # activation function\n",
        "        self.sigmoid = lambda x: 1 / (1 + torch.exp(-x))\n",
        "\n",
        "    def forward(self, inputs):\n",
        "        # input layer\n",
        "        inputs = inputs.T\n",
        "\n",
        "        # hidden layer\n",
        "        hidden_outputs = self.sigmoid(self.wih @ inputs)\n",
        "\n",
        "        # output layer\n",
        "        final_outputs = self.sigmoid(self.who @ hidden_outputs)\n",
        "\n",
        "        return final_outputs.T"
      ]
    },
    {
      "cell_type": "markdown",
      "metadata": {
        "id": "1QbD847JpYRn"
      },
      "source": [
        "## 1.5 Define loss function"
      ]
    },
    {
      "cell_type": "code",
      "execution_count": 9,
      "metadata": {
        "id": "wssGMGAVpaIP"
      },
      "outputs": [],
      "source": [
        "def loss_fn(y_pred, y):\n",
        "    y = F.one_hot(y.to(torch.int64), output_nodes).to(torch.float32)\n",
        "    # sum of squares error\n",
        "    return torch.sum(torch.square(y_pred - y))"
      ]
    },
    {
      "cell_type": "markdown",
      "metadata": {
        "id": "AScll_x_p1el"
      },
      "source": [
        "## 1.6 Initialise instances"
      ]
    },
    {
      "cell_type": "code",
      "execution_count": 10,
      "metadata": {
        "id": "ub2XEwqtp9OT"
      },
      "outputs": [],
      "source": [
        "train_dataloader = DataLoader(SignMNIST('dataset/sign_mnist_train.csv'), batch_size=batch_size, shuffle=True)\n",
        "test_dataloader = DataLoader(SignMNIST('dataset/sign_mnist_test.csv'), batch_size=batch_size, shuffle=True)\n",
        "\n",
        "model = NeuralNetwork().to(device)\n",
        "\n",
        "optimizer = torch.optim.SGD(model.parameters(), lr=learning_rate)"
      ]
    },
    {
      "cell_type": "markdown",
      "metadata": {
        "id": "Qle6TxCWqfb0"
      },
      "source": [
        "## 1.7 Define training loop"
      ]
    },
    {
      "cell_type": "code",
      "execution_count": 11,
      "metadata": {
        "id": "Q01UhbHJqhCd"
      },
      "outputs": [],
      "source": [
        "def train_loop():\n",
        "    size = len(train_dataloader.dataset)\n",
        "    for batch_no, (X, y) in enumerate(train_dataloader):\n",
        "        X, y = X.to(device), y.to(device)\n",
        "\n",
        "        # Compute prediction and loss\n",
        "        pred = model(X)\n",
        "        loss = loss_fn(pred, y)\n",
        "\n",
        "        # Backpropagation\n",
        "        optimizer.zero_grad()\n",
        "        loss.backward()\n",
        "        optimizer.step()\n",
        "\n",
        "        if (batch_no + 1) % (3000 // batch_size) == 0:\n",
        "            loss, current = loss.item(), batch_no * batch_size\n",
        "            print(f\"loss: {loss:>7f}  [{current:>5d}/{size:>5d}]\")"
      ]
    },
    {
      "cell_type": "markdown",
      "metadata": {
        "id": "FQnXODwWqh3m"
      },
      "source": [
        "## 1.8 Define testing loop"
      ]
    },
    {
      "cell_type": "code",
      "execution_count": 12,
      "metadata": {
        "id": "4nggC20vqjcU"
      },
      "outputs": [],
      "source": [
        "def test_loop():\n",
        "    size = len(test_dataloader.dataset)\n",
        "    num_batches = len(test_dataloader)\n",
        "    test_loss, correct = 0, 0\n",
        "\n",
        "    with torch.no_grad():\n",
        "        for X, y in test_dataloader:\n",
        "            X, y = X.to(device), y.to(device)\n",
        "\n",
        "            pred = model(X)\n",
        "            test_loss += loss_fn(pred, y).item()\n",
        "            correct += (pred.argmax(1) == y).type(torch.float).sum().item()\n",
        "\n",
        "    test_loss /= num_batches\n",
        "    correct /= size\n",
        "    print(f\"Test Error: \\n Accuracy: {(100*correct):>0.1f}%, Avg loss: {test_loss:>8f} \\n\")"
      ]
    },
    {
      "cell_type": "markdown",
      "metadata": {
        "id": "6DtebRk6qnc0"
      },
      "source": [
        "## 1.9 Start loops"
      ]
    },
    {
      "cell_type": "code",
      "execution_count": 13,
      "metadata": {
        "id": "XhmOe-esqsNg"
      },
      "outputs": [
        {
          "name": "stdout",
          "output_type": "stream",
          "text": [
            "Epoch 1 / 10\n",
            "-------------------------------\n",
            "loss: 15.498077  [ 2976/27455]\n",
            "loss: 15.983711  [ 5968/27455]\n",
            "loss: 15.530413  [ 8960/27455]\n",
            "loss: 15.551739  [11952/27455]\n",
            "loss: 15.116749  [14944/27455]\n",
            "loss: 15.243013  [17936/27455]\n",
            "loss: 15.570773  [20928/27455]\n",
            "loss: 15.311512  [23920/27455]\n",
            "loss: 15.076534  [26912/27455]\n",
            "Test Error: \n",
            " Accuracy: 22.3%, Avg loss: 14.424494 \n",
            "\n",
            "Epoch 2 / 10\n",
            "-------------------------------\n",
            "loss: 14.935139  [ 2976/27455]\n",
            "loss: 13.670328  [ 5968/27455]\n",
            "loss: 13.815334  [ 8960/27455]\n",
            "loss: 12.993930  [11952/27455]\n",
            "loss: 12.081172  [14944/27455]\n",
            "loss: 13.012850  [17936/27455]\n",
            "loss: 13.746199  [20928/27455]\n",
            "loss: 9.554167  [23920/27455]\n",
            "loss: 10.155169  [26912/27455]\n",
            "Test Error: \n",
            " Accuracy: 42.8%, Avg loss: 11.808395 \n",
            "\n",
            "Epoch 3 / 10\n",
            "-------------------------------\n",
            "loss: 11.084530  [ 2976/27455]\n",
            "loss: 11.644082  [ 5968/27455]\n",
            "loss: 11.571758  [ 8960/27455]\n",
            "loss: 8.826068  [11952/27455]\n",
            "loss: 8.941390  [14944/27455]\n",
            "loss: 9.457027  [17936/27455]\n",
            "loss: 9.260800  [20928/27455]\n",
            "loss: 7.904803  [23920/27455]\n",
            "loss: 6.003861  [26912/27455]\n",
            "Test Error: \n",
            " Accuracy: 47.4%, Avg loss: 10.519644 \n",
            "\n",
            "Epoch 4 / 10\n",
            "-------------------------------\n",
            "loss: 8.679811  [ 2976/27455]\n",
            "loss: 9.658829  [ 5968/27455]\n",
            "loss: 5.973380  [ 8960/27455]\n",
            "loss: 6.335052  [11952/27455]\n",
            "loss: 9.274572  [14944/27455]\n",
            "loss: 9.615998  [17936/27455]\n",
            "loss: 9.401784  [20928/27455]\n",
            "loss: 5.603038  [23920/27455]\n",
            "loss: 7.296263  [26912/27455]\n",
            "Test Error: \n",
            " Accuracy: 59.1%, Avg loss: 9.155482 \n",
            "\n",
            "Epoch 5 / 10\n",
            "-------------------------------\n",
            "loss: 4.051688  [ 2976/27455]\n",
            "loss: 4.865383  [ 5968/27455]\n",
            "loss: 9.312791  [ 8960/27455]\n",
            "loss: 9.123777  [11952/27455]\n",
            "loss: 5.027924  [14944/27455]\n",
            "loss: 5.449140  [17936/27455]\n",
            "loss: 4.345377  [20928/27455]\n",
            "loss: 6.129057  [23920/27455]\n",
            "loss: 7.810033  [26912/27455]\n",
            "Test Error: \n",
            " Accuracy: 56.7%, Avg loss: 9.844662 \n",
            "\n",
            "Epoch 6 / 10\n",
            "-------------------------------\n",
            "loss: 3.850435  [ 2976/27455]\n",
            "loss: 7.636354  [ 5968/27455]\n",
            "loss: 5.714558  [ 8960/27455]\n",
            "loss: 6.575608  [11952/27455]\n",
            "loss: 7.769578  [14944/27455]\n",
            "loss: 3.485016  [17936/27455]\n",
            "loss: 4.347413  [20928/27455]\n",
            "loss: 3.349992  [23920/27455]\n",
            "loss: 4.841993  [26912/27455]\n",
            "Test Error: \n",
            " Accuracy: 67.4%, Avg loss: 7.290875 \n",
            "\n",
            "Epoch 7 / 10\n",
            "-------------------------------\n",
            "loss: 3.345176  [ 2976/27455]\n",
            "loss: 4.922215  [ 5968/27455]\n",
            "loss: 2.475135  [ 8960/27455]\n",
            "loss: 3.479940  [11952/27455]\n",
            "loss: 5.542003  [14944/27455]\n",
            "loss: 4.335790  [17936/27455]\n",
            "loss: 1.744677  [20928/27455]\n",
            "loss: 2.389503  [23920/27455]\n",
            "loss: 1.506029  [26912/27455]\n",
            "Test Error: \n",
            " Accuracy: 72.4%, Avg loss: 6.678299 \n",
            "\n",
            "Epoch 8 / 10\n",
            "-------------------------------\n",
            "loss: 2.732255  [ 2976/27455]\n",
            "loss: 1.623577  [ 5968/27455]\n",
            "loss: 4.903623  [ 8960/27455]\n",
            "loss: 4.005160  [11952/27455]\n",
            "loss: 3.402066  [14944/27455]\n",
            "loss: 2.359311  [17936/27455]\n",
            "loss: 2.477665  [20928/27455]\n",
            "loss: 1.030376  [23920/27455]\n",
            "loss: 3.716823  [26912/27455]\n",
            "Test Error: \n",
            " Accuracy: 71.5%, Avg loss: 6.873248 \n",
            "\n",
            "Epoch 9 / 10\n",
            "-------------------------------\n",
            "loss: 4.848832  [ 2976/27455]\n",
            "loss: 2.527613  [ 5968/27455]\n",
            "loss: 3.020174  [ 8960/27455]\n",
            "loss: 2.779939  [11952/27455]\n",
            "loss: 1.560439  [14944/27455]\n",
            "loss: 4.149106  [17936/27455]\n",
            "loss: 3.826278  [20928/27455]\n",
            "loss: 2.463422  [23920/27455]\n",
            "loss: 4.332545  [26912/27455]\n",
            "Test Error: \n",
            " Accuracy: 66.3%, Avg loss: 8.052299 \n",
            "\n",
            "Epoch 10 / 10\n",
            "-------------------------------\n",
            "loss: 4.080788  [ 2976/27455]\n",
            "loss: 1.762931  [ 5968/27455]\n",
            "loss: 1.772192  [ 8960/27455]\n",
            "loss: 2.564509  [11952/27455]\n",
            "loss: 3.916443  [14944/27455]\n",
            "loss: 2.269568  [17936/27455]\n",
            "loss: 2.854862  [20928/27455]\n",
            "loss: 2.331247  [23920/27455]\n",
            "loss: 4.086322  [26912/27455]\n",
            "Test Error: \n",
            " Accuracy: 72.4%, Avg loss: 6.404962 \n",
            "\n"
          ]
        }
      ],
      "source": [
        "for t in range(epochs):\n",
        "    print(f\"Epoch {t+1} / {epochs}\\n-------------------------------\")\n",
        "    train_loop()\n",
        "    test_loop()"
      ]
    },
    {
      "cell_type": "markdown",
      "metadata": {
        "id": "m-ZrR2Jx5hW-"
      },
      "source": [
        "## 2.0 Model prediction"
      ]
    },
    {
      "cell_type": "code",
      "execution_count": 14,
      "metadata": {
        "id": "83oMXbQZ5jIl"
      },
      "outputs": [
        {
          "name": "stdout",
          "output_type": "stream",
          "text": [
            "Predicted value: 8, Real label: 8\n"
          ]
        }
      ],
      "source": [
        "idx = 10\n",
        "test_dataset = SignMNIST('dataset/sign_mnist_test.csv')\n",
        "X, y = test_dataset[idx]\n",
        "X, y = X.unsqueeze(0).to(device), y.to(device)\n",
        "pred = model(X)\n",
        "pred = pred.argmax(1)[0]\n",
        "print(f\"Predicted value: {pred.item()}, Real label: {int(y.item())}\")"
      ]
    }
  ],
  "metadata": {
    "colab": {
      "provenance": []
    },
    "gpuClass": "standard",
    "kernelspec": {
      "display_name": "Python 3.10.6 64-bit",
      "language": "python",
      "name": "python3"
    },
    "language_info": {
      "codemirror_mode": {
        "name": "ipython",
        "version": 3
      },
      "file_extension": ".py",
      "mimetype": "text/x-python",
      "name": "python",
      "nbconvert_exporter": "python",
      "pygments_lexer": "ipython3",
      "version": "3.10.6"
    },
    "vscode": {
      "interpreter": {
        "hash": "a5b2b728a40a5191408cdff168e8edec36722944563443368b7d7c1256047137"
      }
    }
  },
  "nbformat": 4,
  "nbformat_minor": 0
}
