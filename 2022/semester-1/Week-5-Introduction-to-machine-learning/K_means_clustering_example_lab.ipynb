{
  "nbformat": 4,
  "nbformat_minor": 0,
  "metadata": {
    "colab": {
      "provenance": [],
      "collapsed_sections": []
    },
    "kernelspec": {
      "name": "python3",
      "display_name": "Python 3"
    },
    "language_info": {
      "name": "python"
    }
  },
  "cells": [
    {
      "cell_type": "code",
      "execution_count": null,
      "metadata": {
        "id": "PD2jrjX72Kl7"
      },
      "outputs": [],
      "source": []
    },
    {
      "cell_type": "markdown",
      "source": [
        "# Import Necessary libaries\n"
      ],
      "metadata": {
        "id": "00T7Pesm2Sju"
      }
    },
    {
      "cell_type": "code",
      "source": [
        "import pandas as pd\n",
        "import numpy as np"
      ],
      "metadata": {
        "id": "78rEvGId2sUa"
      },
      "execution_count": 47,
      "outputs": []
    },
    {
      "cell_type": "code",
      "source": [
        "players = pd.read_csv(\"players_22.csv\")"
      ],
      "metadata": {
        "colab": {
          "base_uri": "https://localhost:8080/"
        },
        "id": "tQkCtR813BLJ",
        "outputId": "41982c4e-287c-4e22-9617-e0d177454d82"
      },
      "execution_count": 48,
      "outputs": [
        {
          "output_type": "stream",
          "name": "stderr",
          "text": [
            "/usr/local/lib/python3.7/dist-packages/IPython/core/interactiveshell.py:3326: DtypeWarning: Columns (25,108) have mixed types.Specify dtype option on import or set low_memory=False.\n",
            "  exec(code_obj, self.user_global_ns, self.user_ns)\n"
          ]
        }
      ]
    },
    {
      "cell_type": "code",
      "source": [
        "features = [\"overall\" , \"potential\" , \"wage_eur\" , \"value_eur\" , \"age\"]\n"
      ],
      "metadata": {
        "id": "G-9wBl2c3Qb8"
      },
      "execution_count": 50,
      "outputs": []
    },
    {
      "cell_type": "code",
      "source": [
        "players = players.dropna(subset=features)\n"
      ],
      "metadata": {
        "id": "F9oJAb7S3d6C"
      },
      "execution_count": 51,
      "outputs": []
    },
    {
      "cell_type": "code",
      "source": [
        "data = players[features].copy()"
      ],
      "metadata": {
        "id": "-fJ-_E3Q3kVU"
      },
      "execution_count": 52,
      "outputs": []
    },
    {
      "cell_type": "code",
      "source": [
        "data = (data - data.min()) / (data.max() - data.min()) *9 + 1"
      ],
      "metadata": {
        "id": "mKENTco33t7D"
      },
      "execution_count": 53,
      "outputs": []
    },
    {
      "cell_type": "code",
      "source": [
        "def random_centroides(data , k):\n",
        "  centroids = []\n",
        "  for i in range(k):\n",
        "    centroid = data.apply(lambda x : float(x.sample()))\n",
        "    centroids.append(centroid)\n",
        "  return pd.concat(centroids , axis = 1)\n"
      ],
      "metadata": {
        "id": "vgmPUIeG44m-"
      },
      "execution_count": 60,
      "outputs": []
    },
    {
      "cell_type": "code",
      "source": [
        "def get_labels(data , centroids):\n",
        "  distances = centroids.apply(lambda x : np.sqrt(((data - x) ** 2).sum(axis = 1)))\n",
        "  return distances.idxmin(axis = 1)"
      ],
      "metadata": {
        "id": "wQHmj6P47IfL"
      },
      "execution_count": 61,
      "outputs": []
    },
    {
      "cell_type": "code",
      "source": [
        "def new_centroids(data , labesl, k):\n",
        "  return data.groupby(labels).apply(lambda x: np.exp(np.log(x).mean())).T"
      ],
      "metadata": {
        "id": "GsqY0joD71-w"
      },
      "execution_count": 62,
      "outputs": []
    },
    {
      "cell_type": "code",
      "source": [
        "from sklearn.decomposition import PCA\n",
        "import matplotlib.pyplot as plt\n",
        "from IPython.display import clear_output"
      ],
      "metadata": {
        "id": "N8pz3sIq8sgG"
      },
      "execution_count": 63,
      "outputs": []
    },
    {
      "cell_type": "code",
      "source": [
        "def plot_clusters(data , labels , centroids , iteration):\n",
        "  pca = PCA(n_components = 2)\n",
        "  data_2d = pca.fit_transform(data)\n",
        "  centroids_2d = pca.transform(centroids.T)\n",
        "  clear_output(wait=True)\n",
        "  plt.title(f'Iteration {iteration}')\n",
        "  plt.scatter(x=data_2d[:,0], y=data_2d[:,1], c=labels)\n",
        "  plt.scatter(x=centroids_2d[:,0], y=centroids_2d[:,1])\n",
        "  plt.show()\n"
      ],
      "metadata": {
        "id": "hiLuAW2z9LyR"
      },
      "execution_count": 64,
      "outputs": []
    },
    {
      "cell_type": "code",
      "source": [
        "max_iterations = 100\n",
        "centroid_count = 3\n",
        "\n",
        "centroids = random_centroides(data, centroid_count)\n",
        "old_centroids = pd.DataFrame()\n",
        "iteration = 1\n",
        "\n",
        "while iteration < max_iterations and not centroids.equals(old_centroids):\n",
        "    old_centroids = centroids\n",
        "    \n",
        "    labels = get_labels(data, centroids)\n",
        "    centroids = new_centroids(data, labels, centroid_count)\n",
        "    \n",
        "    plot_clusters(data, labels, centroids, iteration)\n",
        "    iteration += 1"
      ],
      "metadata": {
        "colab": {
          "base_uri": "https://localhost:8080/",
          "height": 281
        },
        "id": "1vZKMi66-LVM",
        "outputId": "0f4bcfd6-0e12-40e4-e55e-be562cbba8a9"
      },
      "execution_count": 65,
      "outputs": [
        {
          "output_type": "display_data",
          "data": {
            "text/plain": [
              "<Figure size 432x288 with 1 Axes>"
            ],
            "image/png": "[encoded data removed]"
          },
          "metadata": {
            "needs_background": "light"
          }
        }
      ]
    }
  ]
}