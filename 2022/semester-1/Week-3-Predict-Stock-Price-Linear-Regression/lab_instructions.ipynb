{
  "nbformat": 4,
  "nbformat_minor": 0,
  "metadata": {
    "colab": {
      "provenance": [],
      "collapsed_sections": []
    },
    "kernelspec": {
      "name": "python3",
      "display_name": "Python 3"
    },
    "language_info": {
      "name": "python"
    }
  },
  "cells": [
    {
      "cell_type": "markdown",
      "source": [
        "# Intro to Stock Market Analysis\n",
        "\n",
        "In this session we will utitlize `Linear Regression` to predict stock market data.\n",
        "\n",
        "First we would want to complete the colab environment configuration:"
      ],
      "metadata": {
        "id": "JjpvoZDpooYl"
      }
    },
    {
      "cell_type": "code",
      "source": [
        "# We import this library to clear the cell output after it's being executed\n",
        "# Because imstallation will generate lots of logs, clear them will make the\n",
        "# ...notebook more visible\n",
        "from IPython.display import clear_output\n",
        "\n",
        "!pip install --upgrade pandas\n",
        "!pip install --upgrade pandas_datareader\n",
        "\n",
        "# We need to install this specific version otherwise graphs won't be displayed\n",
        "!pip install matplotlib==3.1.3\n",
        "\n",
        "clear_output(wait=False)"
      ],
      "metadata": {
        "id": "v0ZN6fjGpipD"
      },
      "execution_count": null,
      "outputs": []
    },
    {
      "cell_type": "code",
      "execution_count": null,
      "metadata": {
        "id": "nhvbhU0XonZq"
      },
      "outputs": [],
      "source": [
        "# Import essential Libraries\n",
        "# You don't really need to know what these libraries do\n",
        "\n",
        "import pandas as pd\n",
        "import datetime\n",
        "import matplotlib.pyplot as plt\n",
        "from pylab import rcParams\n",
        "import numpy as np\n",
        "import seaborn as sns\n",
        "import os\n",
        "import pandas_datareader.data as web\n",
        "from sklearn.ensemble import RandomForestRegressor\n",
        "from sklearn.model_selection import cross_val_score, train_test_split, GridSearchCV\n",
        "from sklearn.feature_selection import RFECV, SelectFromModel, SelectKBest\n",
        "from sklearn.preprocessing import StandardScaler\n",
        "from sklearn import metrics\n",
        "%matplotlib inline"
      ]
    },
    {
      "cell_type": "markdown",
      "source": [
        "Then we would like to fetch **a fraction of** the `Apple Stock Market Data` from the web using `yahoo` API.\n",
        "\n",
        "Remember, we need to specify:\n",
        "\n",
        "1. Begin time of the fraction\n",
        "2. End time of the fraction\n",
        "3. Which company's data we want to get\n",
        "4. Which API we want to use"
      ],
      "metadata": {
        "id": "ZcjbWvA-qIPm"
      }
    },
    {
      "cell_type": "code",
      "source": [
        "# Specify the Start and End time\n",
        "start_time = datetime.datetime(2018,1,1)\n",
        "end_time = datetime.datetime(2022,1,1) \n",
        "\n",
        "# Specify Company name: Apple (AAPL), API: Yahoo (yahoo)\n",
        "stock_market_data = web.DataReader(\"AAPL\", 'yahoo', start_time, end_time)"
      ],
      "metadata": {
        "id": "j44IECK5pK60"
      },
      "execution_count": null,
      "outputs": []
    },
    {
      "cell_type": "markdown",
      "source": [
        "Now we have our data. What about taka a look at it to see what it contains?\n",
        "\n",
        "Thankfully `Pandas` has provided useful methods for us to peek at the data:\n",
        "\n",
        "1. using `.head(5)`, we can take a look at **first 5 rows of our data**.\n",
        "2. using `.tail(5)`, we can take a look at **last 5 rows of our data**."
      ],
      "metadata": {
        "id": "08lmSn32q5RS"
      }
    },
    {
      "cell_type": "code",
      "source": [
        "# Take a look at the first 5 rows\n",
        "stock_market_data.head(5)"
      ],
      "metadata": {
        "colab": {
          "base_uri": "https://localhost:8080/",
          "height": 282
        },
        "id": "bNK1ErOdqEiS",
        "outputId": "a93236d9-79f9-4199-dcf7-60d1fe8375ff"
      },
      "execution_count": null,
      "outputs": [
        {
          "output_type": "execute_result",
          "data": {
            "text/plain": [
              "                 High        Low       Open      Close       Volume  Adj Close\n",
              "Date                                                                          \n",
              "2018-01-02  43.075001  42.314999  42.540001  43.064999  102223600.0  41.018429\n",
              "2018-01-03  43.637501  42.990002  43.132500  43.057499  118071600.0  41.011284\n",
              "2018-01-04  43.367500  43.020000  43.134998  43.257500   89738400.0  41.201786\n",
              "2018-01-05  43.842499  43.262501  43.360001  43.750000   94640000.0  41.670872\n",
              "2018-01-08  43.902500  43.482498  43.587502  43.587502   82271200.0  41.516098"
            ],
            "text/html": [
              "\n",
              "  <div id=\"df-33c03980-4ab8-45e4-ae2b-d1688b2c13cb\">\n",
              "    <div class=\"colab-df-container\">\n",
              "      <div>\n",
              "<style scoped>\n",
              "    .dataframe tbody tr th:only-of-type {\n",
              "        vertical-align: middle;\n",
              "    }\n",
              "\n",
              "    .dataframe tbody tr th {\n",
              "        vertical-align: top;\n",
              "    }\n",
              "\n",
              "    .dataframe thead th {\n",
              "        text-align: right;\n",
              "    }\n",
              "</style>\n",
              "<table border=\"1\" class=\"dataframe\">\n",
              "  <thead>\n",
              "    <tr style=\"text-align: right;\">\n",
              "      <th></th>\n",
              "      <th>High</th>\n",
              "      <th>Low</th>\n",
              "      <th>Open</th>\n",
              "      <th>Close</th>\n",
              "      <th>Volume</th>\n",
              "      <th>Adj Close</th>\n",
              "    </tr>\n",
              "    <tr>\n",
              "      <th>Date</th>\n",
              "      <th></th>\n",
              "      <th></th>\n",
              "      <th></th>\n",
              "      <th></th>\n",
              "      <th></th>\n",
              "      <th></th>\n",
              "    </tr>\n",
              "  </thead>\n",
              "  <tbody>\n",
              "    <tr>\n",
              "      <th>2018-01-02</th>\n",
              "      <td>43.075001</td>\n",
              "      <td>42.314999</td>\n",
              "      <td>42.540001</td>\n",
              "      <td>43.064999</td>\n",
              "      <td>102223600.0</td>\n",
              "      <td>41.018429</td>\n",
              "    </tr>\n",
              "    <tr>\n",
              "      <th>2018-01-03</th>\n",
              "      <td>43.637501</td>\n",
              "      <td>42.990002</td>\n",
              "      <td>43.132500</td>\n",
              "      <td>43.057499</td>\n",
              "      <td>118071600.0</td>\n",
              "      <td>41.011284</td>\n",
              "    </tr>\n",
              "    <tr>\n",
              "      <th>2018-01-04</th>\n",
              "      <td>43.367500</td>\n",
              "      <td>43.020000</td>\n",
              "      <td>43.134998</td>\n",
              "      <td>43.257500</td>\n",
              "      <td>89738400.0</td>\n",
              "      <td>41.201786</td>\n",
              "    </tr>\n",
              "    <tr>\n",
              "      <th>2018-01-05</th>\n",
              "      <td>43.842499</td>\n",
              "      <td>43.262501</td>\n",
              "      <td>43.360001</td>\n",
              "      <td>43.750000</td>\n",
              "      <td>94640000.0</td>\n",
              "      <td>41.670872</td>\n",
              "    </tr>\n",
              "    <tr>\n",
              "      <th>2018-01-08</th>\n",
              "      <td>43.902500</td>\n",
              "      <td>43.482498</td>\n",
              "      <td>43.587502</td>\n",
              "      <td>43.587502</td>\n",
              "      <td>82271200.0</td>\n",
              "      <td>41.516098</td>\n",
              "    </tr>\n",
              "  </tbody>\n",
              "</table>\n",
              "</div>\n",
              "      <button class=\"colab-df-convert\" onclick=\"convertToInteractive('df-33c03980-4ab8-45e4-ae2b-d1688b2c13cb')\"\n",
              "              title=\"Convert this dataframe to an interactive table.\"\n",
              "              style=\"display:none;\">\n",
              "        \n",
              "  <svg xmlns=\"http://www.w3.org/2000/svg\" height=\"24px\"viewBox=\"0 0 24 24\"\n",
              "       width=\"24px\">\n",
              "    <path d=\"M0 0h24v24H0V0z\" fill=\"none\"/>\n",
              "    <path d=\"M18.56 5.44l.94 2.06.94-2.06 2.06-.94-2.06-.94-.94-2.06-.94 2.06-2.06.94zm-11 1L8.5 8.5l.94-2.06 2.06-.94-2.06-.94L8.5 2.5l-.94 2.06-2.06.94zm10 10l.94 2.06.94-2.06 2.06-.94-2.06-.94-.94-2.06-.94 2.06-2.06.94z\"/><path d=\"M17.41 7.96l-1.37-1.37c-.4-.4-.92-.59-1.43-.59-.52 0-1.04.2-1.43.59L10.3 9.45l-7.72 7.72c-.78.78-.78 2.05 0 2.83L4 21.41c.39.39.9.59 1.41.59.51 0 1.02-.2 1.41-.59l7.78-7.78 2.81-2.81c.8-.78.8-2.07 0-2.86zM5.41 20L4 18.59l7.72-7.72 1.47 1.35L5.41 20z\"/>\n",
              "  </svg>\n",
              "      </button>\n",
              "      \n",
              "  <style>\n",
              "    .colab-df-container {\n",
              "      display:flex;\n",
              "      flex-wrap:wrap;\n",
              "      gap: 12px;\n",
              "    }\n",
              "\n",
              "    .colab-df-convert {\n",
              "      background-color: #E8F0FE;\n",
              "      border: none;\n",
              "      border-radius: 50%;\n",
              "      cursor: pointer;\n",
              "      display: none;\n",
              "      fill: #1967D2;\n",
              "      height: 32px;\n",
              "      padding: 0 0 0 0;\n",
              "      width: 32px;\n",
              "    }\n",
              "\n",
              "    .colab-df-convert:hover {\n",
              "      background-color: #E2EBFA;\n",
              "      box-shadow: 0px 1px 2px rgba(60, 64, 67, 0.3), 0px 1px 3px 1px rgba(60, 64, 67, 0.15);\n",
              "      fill: #174EA6;\n",
              "    }\n",
              "\n",
              "    [theme=dark] .colab-df-convert {\n",
              "      background-color: #3B4455;\n",
              "      fill: #D2E3FC;\n",
              "    }\n",
              "\n",
              "    [theme=dark] .colab-df-convert:hover {\n",
              "      background-color: #434B5C;\n",
              "      box-shadow: 0px 1px 3px 1px rgba(0, 0, 0, 0.15);\n",
              "      filter: drop-shadow(0px 1px 2px rgba(0, 0, 0, 0.3));\n",
              "      fill: #FFFFFF;\n",
              "    }\n",
              "  </style>\n",
              "\n",
              "      <script>\n",
              "        const buttonEl =\n",
              "          document.querySelector('#df-33c03980-4ab8-45e4-ae2b-d1688b2c13cb button.colab-df-convert');\n",
              "        buttonEl.style.display =\n",
              "          google.colab.kernel.accessAllowed ? 'block' : 'none';\n",
              "\n",
              "        async function convertToInteractive(key) {\n",
              "          const element = document.querySelector('#df-33c03980-4ab8-45e4-ae2b-d1688b2c13cb');\n",
              "          const dataTable =\n",
              "            await google.colab.kernel.invokeFunction('convertToInteractive',\n",
              "                                                     [key], {});\n",
              "          if (!dataTable) return;\n",
              "\n",
              "          const docLinkHtml = 'Like what you see? Visit the ' +\n",
              "            '<a target=\"_blank\" href=https://colab.research.google.com/notebooks/data_table.ipynb>data table notebook</a>'\n",
              "            + ' to learn more about interactive tables.';\n",
              "          element.innerHTML = '';\n",
              "          dataTable['output_type'] = 'display_data';\n",
              "          await google.colab.output.renderOutput(dataTable, element);\n",
              "          const docLink = document.createElement('div');\n",
              "          docLink.innerHTML = docLinkHtml;\n",
              "          element.appendChild(docLink);\n",
              "        }\n",
              "      </script>\n",
              "    </div>\n",
              "  </div>\n",
              "  "
            ]
          },
          "metadata": {},
          "execution_count": 74
        }
      ]
    },
    {
      "cell_type": "code",
      "source": [
        "# Take a look at the last 5 rows\n",
        "stock_market_data.tail(5)"
      ],
      "metadata": {
        "colab": {
          "base_uri": "https://localhost:8080/",
          "height": 282
        },
        "id": "VQP7yrvVrZm7",
        "outputId": "f2726c66-cc85-4a44-b336-b96b02edc0f2"
      },
      "execution_count": null,
      "outputs": [
        {
          "output_type": "execute_result",
          "data": {
            "text/plain": [
              "                  High         Low        Open       Close      Volume  \\\n",
              "Date                                                                     \n",
              "2021-12-27  180.419998  177.070007  177.089996  180.330002  74919600.0   \n",
              "2021-12-28  181.330002  178.529999  180.160004  179.289993  79144300.0   \n",
              "2021-12-29  180.630005  178.139999  179.330002  179.380005  62348900.0   \n",
              "2021-12-30  180.570007  178.089996  179.470001  178.199997  59773000.0   \n",
              "2021-12-31  179.229996  177.259995  178.089996  177.570007  64062300.0   \n",
              "\n",
              "             Adj Close  \n",
              "Date                    \n",
              "2021-12-27  179.586868  \n",
              "2021-12-28  178.551132  \n",
              "2021-12-29  178.640778  \n",
              "2021-12-30  177.465637  \n",
              "2021-12-31  176.838242  "
            ],
            "text/html": [
              "\n",
              "  <div id=\"df-16428f7e-48cc-475e-a91f-e4c3c57f69af\">\n",
              "    <div class=\"colab-df-container\">\n",
              "      <div>\n",
              "<style scoped>\n",
              "    .dataframe tbody tr th:only-of-type {\n",
              "        vertical-align: middle;\n",
              "    }\n",
              "\n",
              "    .dataframe tbody tr th {\n",
              "        vertical-align: top;\n",
              "    }\n",
              "\n",
              "    .dataframe thead th {\n",
              "        text-align: right;\n",
              "    }\n",
              "</style>\n",
              "<table border=\"1\" class=\"dataframe\">\n",
              "  <thead>\n",
              "    <tr style=\"text-align: right;\">\n",
              "      <th></th>\n",
              "      <th>High</th>\n",
              "      <th>Low</th>\n",
              "      <th>Open</th>\n",
              "      <th>Close</th>\n",
              "      <th>Volume</th>\n",
              "      <th>Adj Close</th>\n",
              "    </tr>\n",
              "    <tr>\n",
              "      <th>Date</th>\n",
              "      <th></th>\n",
              "      <th></th>\n",
              "      <th></th>\n",
              "      <th></th>\n",
              "      <th></th>\n",
              "      <th></th>\n",
              "    </tr>\n",
              "  </thead>\n",
              "  <tbody>\n",
              "    <tr>\n",
              "      <th>2021-12-27</th>\n",
              "      <td>180.419998</td>\n",
              "      <td>177.070007</td>\n",
              "      <td>177.089996</td>\n",
              "      <td>180.330002</td>\n",
              "      <td>74919600.0</td>\n",
              "      <td>179.586868</td>\n",
              "    </tr>\n",
              "    <tr>\n",
              "      <th>2021-12-28</th>\n",
              "      <td>181.330002</td>\n",
              "      <td>178.529999</td>\n",
              "      <td>180.160004</td>\n",
              "      <td>179.289993</td>\n",
              "      <td>79144300.0</td>\n",
              "      <td>178.551132</td>\n",
              "    </tr>\n",
              "    <tr>\n",
              "      <th>2021-12-29</th>\n",
              "      <td>180.630005</td>\n",
              "      <td>178.139999</td>\n",
              "      <td>179.330002</td>\n",
              "      <td>179.380005</td>\n",
              "      <td>62348900.0</td>\n",
              "      <td>178.640778</td>\n",
              "    </tr>\n",
              "    <tr>\n",
              "      <th>2021-12-30</th>\n",
              "      <td>180.570007</td>\n",
              "      <td>178.089996</td>\n",
              "      <td>179.470001</td>\n",
              "      <td>178.199997</td>\n",
              "      <td>59773000.0</td>\n",
              "      <td>177.465637</td>\n",
              "    </tr>\n",
              "    <tr>\n",
              "      <th>2021-12-31</th>\n",
              "      <td>179.229996</td>\n",
              "      <td>177.259995</td>\n",
              "      <td>178.089996</td>\n",
              "      <td>177.570007</td>\n",
              "      <td>64062300.0</td>\n",
              "      <td>176.838242</td>\n",
              "    </tr>\n",
              "  </tbody>\n",
              "</table>\n",
              "</div>\n",
              "      <button class=\"colab-df-convert\" onclick=\"convertToInteractive('df-16428f7e-48cc-475e-a91f-e4c3c57f69af')\"\n",
              "              title=\"Convert this dataframe to an interactive table.\"\n",
              "              style=\"display:none;\">\n",
              "        \n",
              "  <svg xmlns=\"http://www.w3.org/2000/svg\" height=\"24px\"viewBox=\"0 0 24 24\"\n",
              "       width=\"24px\">\n",
              "    <path d=\"M0 0h24v24H0V0z\" fill=\"none\"/>\n",
              "    <path d=\"M18.56 5.44l.94 2.06.94-2.06 2.06-.94-2.06-.94-.94-2.06-.94 2.06-2.06.94zm-11 1L8.5 8.5l.94-2.06 2.06-.94-2.06-.94L8.5 2.5l-.94 2.06-2.06.94zm10 10l.94 2.06.94-2.06 2.06-.94-2.06-.94-.94-2.06-.94 2.06-2.06.94z\"/><path d=\"M17.41 7.96l-1.37-1.37c-.4-.4-.92-.59-1.43-.59-.52 0-1.04.2-1.43.59L10.3 9.45l-7.72 7.72c-.78.78-.78 2.05 0 2.83L4 21.41c.39.39.9.59 1.41.59.51 0 1.02-.2 1.41-.59l7.78-7.78 2.81-2.81c.8-.78.8-2.07 0-2.86zM5.41 20L4 18.59l7.72-7.72 1.47 1.35L5.41 20z\"/>\n",
              "  </svg>\n",
              "      </button>\n",
              "      \n",
              "  <style>\n",
              "    .colab-df-container {\n",
              "      display:flex;\n",
              "      flex-wrap:wrap;\n",
              "      gap: 12px;\n",
              "    }\n",
              "\n",
              "    .colab-df-convert {\n",
              "      background-color: #E8F0FE;\n",
              "      border: none;\n",
              "      border-radius: 50%;\n",
              "      cursor: pointer;\n",
              "      display: none;\n",
              "      fill: #1967D2;\n",
              "      height: 32px;\n",
              "      padding: 0 0 0 0;\n",
              "      width: 32px;\n",
              "    }\n",
              "\n",
              "    .colab-df-convert:hover {\n",
              "      background-color: #E2EBFA;\n",
              "      box-shadow: 0px 1px 2px rgba(60, 64, 67, 0.3), 0px 1px 3px 1px rgba(60, 64, 67, 0.15);\n",
              "      fill: #174EA6;\n",
              "    }\n",
              "\n",
              "    [theme=dark] .colab-df-convert {\n",
              "      background-color: #3B4455;\n",
              "      fill: #D2E3FC;\n",
              "    }\n",
              "\n",
              "    [theme=dark] .colab-df-convert:hover {\n",
              "      background-color: #434B5C;\n",
              "      box-shadow: 0px 1px 3px 1px rgba(0, 0, 0, 0.15);\n",
              "      filter: drop-shadow(0px 1px 2px rgba(0, 0, 0, 0.3));\n",
              "      fill: #FFFFFF;\n",
              "    }\n",
              "  </style>\n",
              "\n",
              "      <script>\n",
              "        const buttonEl =\n",
              "          document.querySelector('#df-16428f7e-48cc-475e-a91f-e4c3c57f69af button.colab-df-convert');\n",
              "        buttonEl.style.display =\n",
              "          google.colab.kernel.accessAllowed ? 'block' : 'none';\n",
              "\n",
              "        async function convertToInteractive(key) {\n",
              "          const element = document.querySelector('#df-16428f7e-48cc-475e-a91f-e4c3c57f69af');\n",
              "          const dataTable =\n",
              "            await google.colab.kernel.invokeFunction('convertToInteractive',\n",
              "                                                     [key], {});\n",
              "          if (!dataTable) return;\n",
              "\n",
              "          const docLinkHtml = 'Like what you see? Visit the ' +\n",
              "            '<a target=\"_blank\" href=https://colab.research.google.com/notebooks/data_table.ipynb>data table notebook</a>'\n",
              "            + ' to learn more about interactive tables.';\n",
              "          element.innerHTML = '';\n",
              "          dataTable['output_type'] = 'display_data';\n",
              "          await google.colab.output.renderOutput(dataTable, element);\n",
              "          const docLink = document.createElement('div');\n",
              "          docLink.innerHTML = docLinkHtml;\n",
              "          element.appendChild(docLink);\n",
              "        }\n",
              "      </script>\n",
              "    </div>\n",
              "  </div>\n",
              "  "
            ]
          },
          "metadata": {},
          "execution_count": 75
        }
      ]
    },
    {
      "cell_type": "markdown",
      "source": [
        "Now we know what kind of entries our data contains, what about **visualize** it? \n",
        "\n",
        "Remember, we can use `Matplotlib` to draw `line charts`, which is exactly what we want.\n",
        "\n",
        "We only care about daily `close` stock price:"
      ],
      "metadata": {
        "id": "NTVLPpNfroeX"
      }
    },
    {
      "cell_type": "code",
      "source": [
        "# Utitlize Matplotlib to draw the line chart of our stock market data\n",
        "\n",
        "# use the following command to select \"Close\" column from the entire dataframe:\n",
        "stock_market_data['Close'].plot(figsize=(10, 6))\n",
        "\n",
        "# To make the graph clearer we would also want to specify title and the labels of its x and y axes\n",
        "plt.title(\"Apple Stock Price\", fontsize=17)\n",
        "plt.ylabel('Price', fontsize=14)\n",
        "plt.xlabel('Time', fontsize=14)\n",
        "\n",
        "# Then we will draw the dotted lines to make the graph preetier\n",
        "plt.grid(which=\"major\", color='k', linestyle='-.', linewidth=0.5)\n",
        "\n",
        "# Finally we plot the graph to make it visible\n",
        "plt.show()\n"
      ],
      "metadata": {
        "colab": {
          "base_uri": "https://localhost:8080/",
          "height": 400
        },
        "id": "dWjrz68KrlI_",
        "outputId": "c6d537d2-4cba-4c97-d8b5-f01f974a7b59"
      },
      "execution_count": null,
      "outputs": [
        {
          "output_type": "display_data",
          "data": {
            "text/plain": [
              "<Figure size 720x432 with 1 Axes>"
            ],
            "image/png": "[encoded data removed]"
          },
          "metadata": {
            "needs_background": "light"
          }
        }
      ]
    },
    {
      "cell_type": "markdown",
      "source": [
        "`Adj_close` is the column that we want to predict here."
      ],
      "metadata": {
        "id": "NDLFk5Uzt_uD"
      }
    },
    {
      "cell_type": "code",
      "source": [
        "def create_train_test_set(dataframe_stock_market_data):\n",
        "\n",
        "  features = dataframe_stock_market_data.drop(columns=['Adj Close'], axis=1)\n",
        "  target = dataframe_stock_market_data['Adj Close']\n",
        "\n",
        "  data_length = dataframe_stock_market_data.shape[0]\n",
        "\n",
        "  print(\"The historical stock market data's length is: \", str(data_length))\n",
        "\n",
        "  # Then we want to separate the data into three parts: training set, validation set and testing set.\n",
        "  # We use the conventional train-split ratio: 88% for training, 10% for validation and 2% for testing\n",
        "  # There's no golden standard for train-test splitting, you can use whatever ratio you want but the performance may not be optimal\n",
        "  train_split = int(data_length * 0.88)\n",
        "  print(\"The training dataset's length is: \", str(train_split))\n",
        "\n",
        "  val_split = train_split + int(data_length * 0.1)\n",
        "  print(\"The validation set's length is: \", str(int(data_length * 0.1)))\n",
        "\n",
        "  print(\"The test set's length: \", str(int(data_length * 0.02)))\n",
        "\n",
        "  # Splitting features and target into train, validation and test samples \n",
        "  X_train, X_val, X_test = features[:train_split], features[train_split:val_split], features[val_split:]\n",
        "  Y_train, Y_val, Y_test = target[:train_split], target[train_split:val_split], target[val_split:]\n",
        "\n",
        "  #print shape of samples\n",
        "  print(\"\\nThe shape of samples on x axis (time):\")\n",
        "  print(X_train.shape, X_val.shape, X_test.shape)\n",
        "  \n",
        "  print(\"\\nThe shape of samples on y axis (stock price):\")\n",
        "  print(Y_train.shape, Y_val.shape, Y_test.shape)\n",
        "    \n",
        "  return X_train, X_val, X_test, Y_train, Y_val, Y_test\n",
        "\n"
      ],
      "metadata": {
        "id": "6W4W2aAlsVPu"
      },
      "execution_count": null,
      "outputs": []
    },
    {
      "cell_type": "code",
      "source": [
        "# Generate datasets\n",
        "X_train, X_validate, X_test, Y_train, Y_validate, Y_test = create_train_test_set(stock_market_data)"
      ],
      "metadata": {
        "colab": {
          "base_uri": "https://localhost:8080/"
        },
        "id": "UTZwVvoCu_jP",
        "outputId": "6b86ff77-0dd8-4cfb-c16d-082ecafb5454"
      },
      "execution_count": null,
      "outputs": [
        {
          "output_type": "stream",
          "name": "stdout",
          "text": [
            "The historical stock market data's length is:  1008\n",
            "The training dataset's length is:  887\n",
            "The validation set's length is:  100\n",
            "The test set's length:  20\n",
            "\n",
            "The shape of samples on x axis (time):\n",
            "(887, 5) (100, 5) (21, 5)\n",
            "\n",
            "The shape of samples on y axis (stock price):\n",
            "(887,) (100,) (21,)\n"
          ]
        }
      ]
    },
    {
      "cell_type": "markdown",
      "source": [
        "Now we have three small datasets:\n",
        "1. `Training set`, used to provide information (knowledge) to our model.\n",
        "2. `Validation set`, used to validate the performance of our model.\n",
        "3. `Test set`, used to do the actual prediction."
      ],
      "metadata": {
        "id": "uX_R6H7GwHPv"
      }
    },
    {
      "cell_type": "code",
      "source": [
        "from sklearn.linear_model import LinearRegression\n",
        "\n",
        "# Initialize the linear regression model\n",
        "linear_regression_model = LinearRegression()\n",
        "\n",
        "# train the model using training set\n",
        "linear_regression_model.fit(X_train, Y_train)"
      ],
      "metadata": {
        "colab": {
          "base_uri": "https://localhost:8080/"
        },
        "id": "MNCcpOfEwHAb",
        "outputId": "a44e4dbf-4acd-4fd1-9dee-15a4edb075d1"
      },
      "execution_count": null,
      "outputs": [
        {
          "output_type": "execute_result",
          "data": {
            "text/plain": [
              "LinearRegression()"
            ]
          },
          "metadata": {},
          "execution_count": 86
        }
      ]
    },
    {
      "cell_type": "markdown",
      "source": [
        "Then we can take a look at the parameters trained from our training set:"
      ],
      "metadata": {
        "id": "XTFaokoZwkjI"
      }
    },
    {
      "cell_type": "code",
      "source": [
        "print(\"Linear Regression Model's Coefficients: \\n\", linear_regression_model.coef_)\n",
        "print(\"Linear Regression Model's Intercept: \\n\", linear_regression_model.intercept_)"
      ],
      "metadata": {
        "colab": {
          "base_uri": "https://localhost:8080/"
        },
        "id": "l1J8OCvovkyB",
        "outputId": "93886eab-b739-4c00-eafe-ac12e91f1187"
      },
      "execution_count": null,
      "outputs": [
        {
          "output_type": "stream",
          "name": "stdout",
          "text": [
            "Linear Regression Model's Coefficients: \n",
            " [ 2.57922094e-02  2.45793778e-02 -2.75878327e-02  9.82220424e-01\n",
            "  9.95220781e-11]\n",
            "Linear Regression Model's Intercept: \n",
            " -1.8051148449967656\n"
          ]
        }
      ]
    },
    {
      "cell_type": "markdown",
      "source": [
        "Then we want to perform the model evaluation on our validation set:"
      ],
      "metadata": {
        "id": "AKBXHELXw4eD"
      }
    },
    {
      "cell_type": "code",
      "source": [
        "print(\"The Performance of our model (R^2): \", linear_regression_model.score(X_train, Y_train))"
      ],
      "metadata": {
        "colab": {
          "base_uri": "https://localhost:8080/"
        },
        "id": "jgcGm9qSw0Ke",
        "outputId": "5b222c15-740f-4479-f495-70efe0990714"
      },
      "execution_count": null,
      "outputs": [
        {
          "output_type": "stream",
          "name": "stdout",
          "text": [
            "The Performance of our model (R^2):  0.9999254833001847\n"
          ]
        }
      ]
    },
    {
      "cell_type": "code",
      "source": [
        "def get_mape(y_truth, y_predicted): \n",
        "    \"\"\"\n",
        "    Compute mean absolute percentage error (MAPE)\n",
        "    \"\"\"\n",
        "    y_truth, y_predicted = np.array(y_truth), np.array(y_predicted)\n",
        "    return np.mean(np.abs((y_truth - y_predicted) / y_truth)) * 100"
      ],
      "metadata": {
        "id": "5E_m0AsOxAs4"
      },
      "execution_count": null,
      "outputs": []
    },
    {
      "cell_type": "markdown",
      "source": [
        "Finally we will perform the prediction for the test dataset:"
      ],
      "metadata": {
        "id": "LwBSwfQ2xP0R"
      }
    },
    {
      "cell_type": "code",
      "source": [
        "# Get predicted data for training set, validation set and test set.\n",
        "Y_train_predicted = linear_regression_model.predict(X_train)\n",
        "Y_validate_predicted = linear_regression_model.predict(X_validate)\n",
        "Y_test_predicted = linear_regression_model.predict(X_test)\n",
        "\n",
        "# print out prediction result of these three datasets respectively\n",
        "print(\"Training R-squared: \",round(metrics.r2_score(Y_train,Y_train_predicted),2))\n",
        "print(\"Training Explained Variation: \",round(metrics.explained_variance_score(Y_train,Y_train_predicted),2))\n",
        "print('Training MAPE:', round(get_mape(Y_train,Y_train_predicted), 2)) \n",
        "print('Training Mean Squared Error:', round(metrics.mean_squared_error(Y_train,Y_train_predicted), 2)) \n",
        "print(\"Training RMSE: \",round(np.sqrt(metrics.mean_squared_error(Y_train,Y_train_predicted)),2))\n",
        "print(\"Training MAE: \",round(metrics.mean_absolute_error(Y_train,Y_train_predicted),2))\n",
        "\n",
        "print(' ')\n",
        "\n",
        "print(\"Validation R-squared: \",round(metrics.r2_score(Y_validate,Y_validate_predicted),2))\n",
        "print(\"Validation Explained Variation: \",round(metrics.explained_variance_score(Y_validate,Y_validate_predicted),2))\n",
        "print('Validation MAPE:', round(get_mape(Y_validate,Y_validate_predicted), 2)) \n",
        "print('Validation Mean Squared Error:', round(metrics.mean_squared_error(Y_train,Y_train_predicted), 2)) \n",
        "print(\"Validation RMSE: \",round(np.sqrt(metrics.mean_squared_error(Y_validate,Y_validate_predicted)),2))\n",
        "print(\"Validation MAE: \",round(metrics.mean_absolute_error(Y_validate,Y_validate_predicted),2))\n",
        "\n",
        "print(' ')\n",
        "\n",
        "print(\"Test R-squared: \",round(metrics.r2_score(Y_test,Y_test_predicted),2))\n",
        "print(\"Test Explained Variation: \",round(metrics.explained_variance_score(Y_test,Y_test_predicted),2))\n",
        "print('Test MAPE:', round(get_mape(Y_test,Y_test_predicted), 2)) \n",
        "print('Test Mean Squared Error:', round(metrics.mean_squared_error(Y_test,Y_test_predicted), 2)) \n",
        "print(\"Test RMSE: \",round(np.sqrt(metrics.mean_squared_error(Y_test,Y_test_predicted)),2))\n",
        "print(\"Test MAE: \",round(metrics.mean_absolute_error(Y_test,Y_test_predicted),2))"
      ],
      "metadata": {
        "colab": {
          "base_uri": "https://localhost:8080/"
        },
        "id": "fB-EaoRVxOwM",
        "outputId": "1966c298-6144-4cbc-bc6a-9bead98a238c"
      },
      "execution_count": null,
      "outputs": [
        {
          "output_type": "stream",
          "name": "stdout",
          "text": [
            "Training R-squared:  1.0\n",
            "Training Explained Variation:  1.0\n",
            "Training MAPE: 0.45\n",
            "Training Mean Squared Error: 0.08\n",
            "Training RMSE:  0.29\n",
            "Training MAE:  0.25\n",
            " \n",
            "Validation R-squared:  1.0\n",
            "Validation Explained Variation:  1.0\n",
            "Validation MAPE: 0.15\n",
            "Validation Mean Squared Error: 0.08\n",
            "Validation RMSE:  0.25\n",
            "Validation MAE:  0.22\n",
            " \n",
            "Test R-squared:  1.0\n",
            "Test Explained Variation:  1.0\n",
            "Test MAPE: 0.12\n",
            "Test Mean Squared Error: 0.04\n",
            "Test RMSE:  0.21\n",
            "Test MAE:  0.2\n"
          ]
        }
      ]
    },
    {
      "cell_type": "markdown",
      "source": [
        "Then we will wrap up our prediction data as several `pandas dataframes`:"
      ],
      "metadata": {
        "id": "5B9Opuh7x-MV"
      }
    },
    {
      "cell_type": "code",
      "source": [
        "dataframe_predicted = pd.DataFrame(Y_validate.values, columns=['Actual'], index = Y_validate.index)\n",
        "dataframe_predicted['Predicted'] = Y_validate_predicted\n",
        "\n",
        "dataframe_predicted = dataframe_predicted.reset_index()\n",
        "dataframe_predicted.loc[:, 'Date'] = pd.to_datetime(dataframe_predicted['Date'], format='%Y-%m-%d')\n",
        "dataframe_predicted.head(5)\n"
      ],
      "metadata": {
        "colab": {
          "base_uri": "https://localhost:8080/",
          "height": 206
        },
        "id": "esh2kLrpx5gp",
        "outputId": "afa16ef6-37e3-4da2-9f6e-6889ebdb7029"
      },
      "execution_count": null,
      "outputs": [
        {
          "output_type": "execute_result",
          "data": {
            "text/plain": [
              "        Date      Actual   Predicted\n",
              "0 2021-07-13  144.611801  144.615682\n",
              "1 2021-07-14  148.096985  148.107565\n",
              "2 2021-07-15  147.431732  147.412604\n",
              "3 2021-07-16  145.356491  145.344004\n",
              "4 2021-07-19  141.444305  141.356560"
            ],
            "text/html": [
              "\n",
              "  <div id=\"df-949bdeca-49e3-4011-8b19-bc938204f2a1\">\n",
              "    <div class=\"colab-df-container\">\n",
              "      <div>\n",
              "<style scoped>\n",
              "    .dataframe tbody tr th:only-of-type {\n",
              "        vertical-align: middle;\n",
              "    }\n",
              "\n",
              "    .dataframe tbody tr th {\n",
              "        vertical-align: top;\n",
              "    }\n",
              "\n",
              "    .dataframe thead th {\n",
              "        text-align: right;\n",
              "    }\n",
              "</style>\n",
              "<table border=\"1\" class=\"dataframe\">\n",
              "  <thead>\n",
              "    <tr style=\"text-align: right;\">\n",
              "      <th></th>\n",
              "      <th>Date</th>\n",
              "      <th>Actual</th>\n",
              "      <th>Predicted</th>\n",
              "    </tr>\n",
              "  </thead>\n",
              "  <tbody>\n",
              "    <tr>\n",
              "      <th>0</th>\n",
              "      <td>2021-07-13</td>\n",
              "      <td>144.611801</td>\n",
              "      <td>144.615682</td>\n",
              "    </tr>\n",
              "    <tr>\n",
              "      <th>1</th>\n",
              "      <td>2021-07-14</td>\n",
              "      <td>148.096985</td>\n",
              "      <td>148.107565</td>\n",
              "    </tr>\n",
              "    <tr>\n",
              "      <th>2</th>\n",
              "      <td>2021-07-15</td>\n",
              "      <td>147.431732</td>\n",
              "      <td>147.412604</td>\n",
              "    </tr>\n",
              "    <tr>\n",
              "      <th>3</th>\n",
              "      <td>2021-07-16</td>\n",
              "      <td>145.356491</td>\n",
              "      <td>145.344004</td>\n",
              "    </tr>\n",
              "    <tr>\n",
              "      <th>4</th>\n",
              "      <td>2021-07-19</td>\n",
              "      <td>141.444305</td>\n",
              "      <td>141.356560</td>\n",
              "    </tr>\n",
              "  </tbody>\n",
              "</table>\n",
              "</div>\n",
              "      <button class=\"colab-df-convert\" onclick=\"convertToInteractive('df-949bdeca-49e3-4011-8b19-bc938204f2a1')\"\n",
              "              title=\"Convert this dataframe to an interactive table.\"\n",
              "              style=\"display:none;\">\n",
              "        \n",
              "  <svg xmlns=\"http://www.w3.org/2000/svg\" height=\"24px\"viewBox=\"0 0 24 24\"\n",
              "       width=\"24px\">\n",
              "    <path d=\"M0 0h24v24H0V0z\" fill=\"none\"/>\n",
              "    <path d=\"M18.56 5.44l.94 2.06.94-2.06 2.06-.94-2.06-.94-.94-2.06-.94 2.06-2.06.94zm-11 1L8.5 8.5l.94-2.06 2.06-.94-2.06-.94L8.5 2.5l-.94 2.06-2.06.94zm10 10l.94 2.06.94-2.06 2.06-.94-2.06-.94-.94-2.06-.94 2.06-2.06.94z\"/><path d=\"M17.41 7.96l-1.37-1.37c-.4-.4-.92-.59-1.43-.59-.52 0-1.04.2-1.43.59L10.3 9.45l-7.72 7.72c-.78.78-.78 2.05 0 2.83L4 21.41c.39.39.9.59 1.41.59.51 0 1.02-.2 1.41-.59l7.78-7.78 2.81-2.81c.8-.78.8-2.07 0-2.86zM5.41 20L4 18.59l7.72-7.72 1.47 1.35L5.41 20z\"/>\n",
              "  </svg>\n",
              "      </button>\n",
              "      \n",
              "  <style>\n",
              "    .colab-df-container {\n",
              "      display:flex;\n",
              "      flex-wrap:wrap;\n",
              "      gap: 12px;\n",
              "    }\n",
              "\n",
              "    .colab-df-convert {\n",
              "      background-color: #E8F0FE;\n",
              "      border: none;\n",
              "      border-radius: 50%;\n",
              "      cursor: pointer;\n",
              "      display: none;\n",
              "      fill: #1967D2;\n",
              "      height: 32px;\n",
              "      padding: 0 0 0 0;\n",
              "      width: 32px;\n",
              "    }\n",
              "\n",
              "    .colab-df-convert:hover {\n",
              "      background-color: #E2EBFA;\n",
              "      box-shadow: 0px 1px 2px rgba(60, 64, 67, 0.3), 0px 1px 3px 1px rgba(60, 64, 67, 0.15);\n",
              "      fill: #174EA6;\n",
              "    }\n",
              "\n",
              "    [theme=dark] .colab-df-convert {\n",
              "      background-color: #3B4455;\n",
              "      fill: #D2E3FC;\n",
              "    }\n",
              "\n",
              "    [theme=dark] .colab-df-convert:hover {\n",
              "      background-color: #434B5C;\n",
              "      box-shadow: 0px 1px 3px 1px rgba(0, 0, 0, 0.15);\n",
              "      filter: drop-shadow(0px 1px 2px rgba(0, 0, 0, 0.3));\n",
              "      fill: #FFFFFF;\n",
              "    }\n",
              "  </style>\n",
              "\n",
              "      <script>\n",
              "        const buttonEl =\n",
              "          document.querySelector('#df-949bdeca-49e3-4011-8b19-bc938204f2a1 button.colab-df-convert');\n",
              "        buttonEl.style.display =\n",
              "          google.colab.kernel.accessAllowed ? 'block' : 'none';\n",
              "\n",
              "        async function convertToInteractive(key) {\n",
              "          const element = document.querySelector('#df-949bdeca-49e3-4011-8b19-bc938204f2a1');\n",
              "          const dataTable =\n",
              "            await google.colab.kernel.invokeFunction('convertToInteractive',\n",
              "                                                     [key], {});\n",
              "          if (!dataTable) return;\n",
              "\n",
              "          const docLinkHtml = 'Like what you see? Visit the ' +\n",
              "            '<a target=\"_blank\" href=https://colab.research.google.com/notebooks/data_table.ipynb>data table notebook</a>'\n",
              "            + ' to learn more about interactive tables.';\n",
              "          element.innerHTML = '';\n",
              "          dataTable['output_type'] = 'display_data';\n",
              "          await google.colab.output.renderOutput(dataTable, element);\n",
              "          const docLink = document.createElement('div');\n",
              "          docLink.innerHTML = docLinkHtml;\n",
              "          element.appendChild(docLink);\n",
              "        }\n",
              "      </script>\n",
              "    </div>\n",
              "  </div>\n",
              "  "
            ]
          },
          "metadata": {},
          "execution_count": 84
        }
      ]
    },
    {
      "cell_type": "markdown",
      "source": [
        "Last but not least, we will plot the price we predicted together with the actual price on the same plot."
      ],
      "metadata": {
        "id": "To7vwlviyicm"
      }
    },
    {
      "cell_type": "code",
      "source": [
        "dataframe_predicted[['Actual', 'Predicted']].plot()"
      ],
      "metadata": {
        "colab": {
          "base_uri": "https://localhost:8080/",
          "height": 283
        },
        "id": "itcx50S5ye0f",
        "outputId": "9c143d99-c0ac-4d18-fd07-af9a17b7a4ed"
      },
      "execution_count": null,
      "outputs": [
        {
          "output_type": "execute_result",
          "data": {
            "text/plain": [
              "<matplotlib.axes._subplots.AxesSubplot at 0x7f1750bfcc90>"
            ]
          },
          "metadata": {},
          "execution_count": 85
        },
        {
          "output_type": "display_data",
          "data": {
            "text/plain": [
              "<Figure size 432x288 with 1 Axes>"
            ],
            "image/png": "[encoded data removed]"
          },
          "metadata": {
            "needs_background": "light"
          }
        }
      ]
    },
    {
      "cell_type": "markdown",
      "source": [
        "We can see that overall the prediction looks very good comparing to the actual data!"
      ],
      "metadata": {
        "id": "iUs2DiX2yvj3"
      }
    }
  ]
}