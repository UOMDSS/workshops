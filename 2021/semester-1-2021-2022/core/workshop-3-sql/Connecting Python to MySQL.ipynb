{
 "cells": [
  {
   "cell_type": "markdown",
   "id": "c44d7815",
   "metadata": {},
   "source": [
    "# 0) Install the modules we need"
   ]
  },
  {
   "cell_type": "markdown",
   "id": "d6aee4f4",
   "metadata": {},
   "source": [
    "Using additional modules in Python generally requires two steps:\n",
    "- Install the modules onto your device\n",
    "- Import the installed modules into your Python script\n",
    "    \n",
    "To install modules we use pip - a built-in packages manager for Python. If you don't know what pip is: https://realpython.com/what-is-pip/\n",
    "    \n",
    "Run the following commands in your command prompt to install the modules for this demo:\n",
    "\n",
    "- pip install mysql-connector-python\n",
    "- pip install pandas"
   ]
  },
  {
   "cell_type": "markdown",
   "id": "b2bbf564",
   "metadata": {},
   "source": [
    "# 1) Import the modules and methods that we need"
   ]
  },
  {
   "cell_type": "code",
   "execution_count": 1,
   "id": "e79a1c40",
   "metadata": {},
   "outputs": [],
   "source": [
    "import sys\n",
    "sys.path.append(r\"\\file_path_to_your_package_library\")\n",
    "\n",
    "import pandas as pd\n",
    "import mysql.connector\n",
    "from mysql.connector import Error\n",
    "from functools import partial\n",
    "from IPython.display import display"
   ]
  },
  {
   "cell_type": "markdown",
   "id": "0995fdcf",
   "metadata": {},
   "source": [
    "# 2) Create a custom print() function\n",
    "\n",
    "This spaces out the print() outputs of our script for better read-ability in the Console.\n",
    "\n",
    "A nice print() function is not essential for connecting to SQL databases!"
   ]
  },
  {
   "cell_type": "code",
   "execution_count": 2,
   "id": "a7462ae5",
   "metadata": {},
   "outputs": [],
   "source": [
    "custom_print = partial(print, end='\\n\\n')"
   ]
  },
  {
   "cell_type": "markdown",
   "id": "6af27c8e",
   "metadata": {},
   "source": [
    "# 3) Write our SQL Query"
   ]
  },
  {
   "cell_type": "markdown",
   "id": "a9e863dd",
   "metadata": {},
   "source": [
    "We save our SQL query as a Python string, which we will call upon shortly..."
   ]
  },
  {
   "cell_type": "code",
   "execution_count": 3,
   "id": "01056e92",
   "metadata": {},
   "outputs": [],
   "source": [
    "query = \"\"\"\n",
    "SELECT *\n",
    "FROM students_details\n",
    ";\n",
    "\"\"\""
   ]
  },
  {
   "cell_type": "markdown",
   "id": "51cc13b9",
   "metadata": {},
   "source": [
    "# 4) Connect to our database"
   ]
  },
  {
   "cell_type": "markdown",
   "id": "6563dc94",
   "metadata": {},
   "source": [
    "When you set up MySQL Workbench on your computer, the host is usually 'localhost', the user is usually 'root' and you will define your own password. "
   ]
  },
  {
   "cell_type": "code",
   "execution_count": 4,
   "id": "3e84692e",
   "metadata": {},
   "outputs": [],
   "source": [
    "try:\n",
    "    # credentials to connect to database\n",
    "    connection = mysql.connector.connect(host='localhost',\n",
    "                                         database='mudss',\n",
    "                                         user='root',\n",
    "                                         password='/*2C1P1a1L*/')\n",
    "except Error as e:\n",
    "    # in case we have difficulties connecting\n",
    "    custom_print('Connection error: \\n', e)"
   ]
  },
  {
   "cell_type": "markdown",
   "id": "c1b7e773",
   "metadata": {},
   "source": [
    "# 5) Execute the query from (3)\n",
    "\n",
    "Save the results to a Pandas dataframe for further analysis."
   ]
  },
  {
   "cell_type": "code",
   "execution_count": 5,
   "id": "a3d69ffb",
   "metadata": {},
   "outputs": [
    {
     "name": "stdout",
     "output_type": "stream",
     "text": [
      "Connected server version: 8.0.26\n",
      "\n"
     ]
    }
   ],
   "source": [
    "if connection.is_connected():\n",
    "    custom_print('Connected server version:', connection.get_server_info())\n",
    "\n",
    "    cursor = connection.cursor()\n",
    "    cursor.execute(query)\n",
    "\n",
    "    # fetchall() retrieves all rows from a results set as a list of tuples\n",
    "    record = cursor.fetchall()\n",
    "    df = pd.DataFrame(record, columns=cursor.column_names)"
   ]
  },
  {
   "cell_type": "markdown",
   "id": "af39407a",
   "metadata": {},
   "source": [
    "# 6) Peek at the data"
   ]
  },
  {
   "cell_type": "code",
   "execution_count": 6,
   "id": "849d1caa",
   "metadata": {},
   "outputs": [
    {
     "name": "stdout",
     "output_type": "stream",
     "text": [
      "Query sent: \n",
      " SELECT *\n",
      "FROM students_details\n",
      ";\n",
      "\n",
      "DataFrame retrieved:\n",
      "\n"
     ]
    },
    {
     "data": {
      "text/html": [
       "<div>\n",
       "<style scoped>\n",
       "    .dataframe tbody tr th:only-of-type {\n",
       "        vertical-align: middle;\n",
       "    }\n",
       "\n",
       "    .dataframe tbody tr th {\n",
       "        vertical-align: top;\n",
       "    }\n",
       "\n",
       "    .dataframe thead th {\n",
       "        text-align: right;\n",
       "    }\n",
       "</style>\n",
       "<table border=\"1\" class=\"dataframe\">\n",
       "  <thead>\n",
       "    <tr style=\"text-align: right;\">\n",
       "      <th></th>\n",
       "      <th>student_id</th>\n",
       "      <th>first_name</th>\n",
       "      <th>date_of_birth</th>\n",
       "      <th>favourite_cheese</th>\n",
       "    </tr>\n",
       "  </thead>\n",
       "  <tbody>\n",
       "    <tr>\n",
       "      <th>0</th>\n",
       "      <td>11111111</td>\n",
       "      <td>Jordan</td>\n",
       "      <td>2000-01-01</td>\n",
       "      <td>Cheddar</td>\n",
       "    </tr>\n",
       "    <tr>\n",
       "      <th>1</th>\n",
       "      <td>22222222</td>\n",
       "      <td>Julia</td>\n",
       "      <td>2000-01-02</td>\n",
       "      <td>Mozzarella</td>\n",
       "    </tr>\n",
       "    <tr>\n",
       "      <th>2</th>\n",
       "      <td>33333333</td>\n",
       "      <td>Paul</td>\n",
       "      <td>2000-01-03</td>\n",
       "      <td>Cheddar</td>\n",
       "    </tr>\n",
       "    <tr>\n",
       "      <th>3</th>\n",
       "      <td>44444444</td>\n",
       "      <td>Lake</td>\n",
       "      <td>2000-01-04</td>\n",
       "      <td>Wensleydale</td>\n",
       "    </tr>\n",
       "    <tr>\n",
       "      <th>4</th>\n",
       "      <td>55555555</td>\n",
       "      <td>Nial</td>\n",
       "      <td>2000-01-05</td>\n",
       "      <td>Blue Cheese</td>\n",
       "    </tr>\n",
       "  </tbody>\n",
       "</table>\n",
       "</div>"
      ],
      "text/plain": [
       "   student_id first_name date_of_birth favourite_cheese\n",
       "0    11111111     Jordan    2000-01-01          Cheddar\n",
       "1    22222222      Julia    2000-01-02       Mozzarella\n",
       "2    33333333       Paul    2000-01-03          Cheddar\n",
       "3    44444444       Lake    2000-01-04      Wensleydale\n",
       "4    55555555       Nial    2000-01-05      Blue Cheese"
      ]
     },
     "metadata": {},
     "output_type": "display_data"
    }
   ],
   "source": [
    "# cursor.statement retrieves the query last sent to the MySQL database\n",
    "custom_print('Query sent: \\n', cursor.statement)\n",
    "custom_print('DataFrame retrieved:')\n",
    "display(df)"
   ]
  },
  {
   "cell_type": "markdown",
   "id": "ff5f6c5a",
   "metadata": {},
   "source": [
    "# 7) Close the connection"
   ]
  },
  {
   "cell_type": "code",
   "execution_count": 7,
   "id": "6f6a9482",
   "metadata": {},
   "outputs": [
    {
     "name": "stdout",
     "output_type": "stream",
     "text": [
      "Connection is closed\n",
      "\n"
     ]
    }
   ],
   "source": [
    "cursor.close()\n",
    "connection.close()\n",
    "custom_print('Connection is closed')"
   ]
  }
 ],
 "metadata": {
  "kernelspec": {
   "display_name": "Python 3",
   "language": "python",
   "name": "python3"
  },
  "language_info": {
   "codemirror_mode": {
    "name": "ipython",
    "version": 3
   },
   "file_extension": ".py",
   "mimetype": "text/x-python",
   "name": "python",
   "nbconvert_exporter": "python",
   "pygments_lexer": "ipython3",
   "version": "3.8.8"
  }
 },
 "nbformat": 4,
 "nbformat_minor": 5
}
