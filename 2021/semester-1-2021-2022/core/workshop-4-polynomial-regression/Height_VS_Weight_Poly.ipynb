{
 "cells": [
  {
   "cell_type": "markdown",
   "metadata": {},
   "source": [
    "# Height vs Weight\n",
    "\n",
    "Welcome to Core Workshop 4: Polynomial Regression's live code session\n",
    "\n",
    "Today we are dealing with a csv toy dataset taken from Kaggle: [https://www.kaggle.com/sakshamjn/heightvsweight-for-linear-polynomial-regression](https://www.kaggle.com/sakshamjn/heightvsweight-for-linear-polynomial-regression), which records the **weight** and **height** of people (they are made up). The data is already cleaned.\n",
    "\n",
    "---"
   ]
  },
  {
   "cell_type": "markdown",
   "metadata": {},
   "source": [
    "#### In this session we are using this data to build a `linear regression` model, trying to predict the **height** by a given **weight**"
   ]
  },
  {
   "cell_type": "markdown",
   "metadata": {},
   "source": [
    "# Explore + Split"
   ]
  },
  {
   "cell_type": "code",
   "execution_count": null,
   "metadata": {},
   "outputs": [],
   "source": [
    "# Repeat previous processing\n",
    "import pandas as pd\n",
    "import matplotlib.pyplot as plt\n",
    "from sklearn.model_selection import train_test_split\n",
    "\n",
    "df = pd.read_csv(\"./data/HeightVsWeight.csv\")\n",
    "\n",
    "x = df.iloc[:, :1]\n",
    "y = df.iloc[:, 1:]\n",
    "\n",
    "plt.figure(figsize=(15, 6))\n",
    "plt.scatter(x, y, color=\"purple\")\n",
    "plt.xlabel(\"Weight\")\n",
    "plt.ylabel(\"Height\")\n",
    "plt.title(\"Height VS Weight\")\n",
    "\n",
    "x_train, x_test, y_train, y_test = train_test_split(x, y, train_size=0.8, random_state=1)\n",
    "print(\"Train data size: {}\".format(len(x_train)))\n",
    "print(\"Test data size: {}\".format(len(x_test)))"
   ]
  },
  {
   "cell_type": "markdown",
   "metadata": {},
   "source": [
    "# Training"
   ]
  },
  {
   "cell_type": "code",
   "execution_count": null,
   "metadata": {},
   "outputs": [],
   "source": [
    "# This time, we will try using polynomial feature to build our model\n",
    "from sklearn.preprocessing import PolynomialFeatures\n",
    "\n",
    "poly_feat = PolynomialFeatures(degree=2)\n",
    "x_train_poly = poly_feat.fit_transform(x_train)\n",
    "\n",
    "# We can have look how the x variable is extended to degree 2, in the form [1, x^1, x^2]\n",
    "x_train_poly[:5]\n"
   ]
  },
  {
   "cell_type": "code",
   "execution_count": null,
   "metadata": {},
   "outputs": [],
   "source": [
    "# Fitting the data, which means training the model to find optimal coeficients to define the polynomial equation\n",
    "\n",
    "from sklearn.linear_model import LinearRegression\n",
    "import random\n",
    "import numpy as np\n",
    "\n",
    "model = LinearRegression()\n",
    "model.fit(x_train_poly, y_train)\n",
    "\n",
    "print(\"Model training completed\")\n",
    "rand = np.array([[random.randint(10, 80)]])\n",
    "rand_poly = poly_feat.fit_transform(rand)\n",
    "print(\"Trying to predict a person with a weight of {} kg will have a height of {} cm\".format(rand[0][0], round(model.predict(rand_poly)[0][0], 2)))\n"
   ]
  },
  {
   "cell_type": "code",
   "execution_count": null,
   "metadata": {},
   "outputs": [],
   "source": [
    "# How does it look like?\n",
    "x_test = x_test.sort_values(\"Weight\")\n",
    "y_test = y_test.reindex(x_test.index)\n",
    "x_test_poly = poly_feat.fit_transform(x_test)\n",
    "\n",
    "plt.figure(figsize=(15, 6))\n",
    "plt.scatter(x, y, color=\"purple\")\n",
    "plt.plot(x_test, model.predict(x_test_poly), color=\"black\", linewidth=5)\n",
    "plt.xlabel(\"Weight\")\n",
    "plt.ylabel(\"Height\")\n",
    "plt.title(\"Height VS Weight\")"
   ]
  },
  {
   "cell_type": "code",
   "execution_count": null,
   "metadata": {},
   "outputs": [],
   "source": [
    "# If we want a quicker polynomial transformation, we can just use pipeline, which is a collection of processing that is run each time we call it. Then we don't have to build the polynomial feature manually each time we need it\n",
    "# To show the result is the same\n",
    "\n",
    "from sklearn.pipeline import make_pipeline\n",
    "\n",
    "pipeline = make_pipeline(PolynomialFeatures(degree=2), LinearRegression())\n",
    "pipeline.fit(x_train, y_train)\n",
    "\n",
    "plt.figure(figsize=(15, 6))\n",
    "plt.scatter(x, y, color=\"purple\")\n",
    "plt.plot(x_test, pipeline.predict(x_test), color=\"black\", linewidth=5)\n",
    "plt.xlabel(\"Weight\")\n",
    "plt.ylabel(\"Height\")\n",
    "plt.title(\"Height VS Weight\")"
   ]
  },
  {
   "cell_type": "markdown",
   "metadata": {},
   "source": [
    "# Score"
   ]
  },
  {
   "cell_type": "code",
   "execution_count": null,
   "metadata": {},
   "outputs": [],
   "source": [
    "accuracy_score = pipeline.score(x_test, y_test)\n",
    "print(\"Model Accuracy: {}\".format(round(accuracy_score, 4)))"
   ]
  },
  {
   "cell_type": "markdown",
   "metadata": {},
   "source": [
    "# Much better! The prediction is nearly correct for almost 98% of the time"
   ]
  }
 ],
 "metadata": {
  "interpreter": {
   "hash": "63fd5069d213b44bf678585dea6b12cceca9941eaf7f819626cde1f2670de90d"
  },
  "kernelspec": {
   "display_name": "Python 3.9.1 64-bit",
   "name": "python3"
  },
  "language_info": {
   "codemirror_mode": {
    "name": "ipython",
    "version": 3
   },
   "file_extension": ".py",
   "mimetype": "text/x-python",
   "name": "python",
   "nbconvert_exporter": "python",
   "pygments_lexer": "ipython3",
   "version": "3.10.1"
  },
  "orig_nbformat": 4
 },
 "nbformat": 4,
 "nbformat_minor": 2
}
