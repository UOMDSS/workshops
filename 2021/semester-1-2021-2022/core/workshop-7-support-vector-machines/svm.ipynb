{
 "cells": [
  {
   "cell_type": "code",
   "execution_count": null,
   "source": [
    "from sklearn.datasets import load_iris, make_circles, make_moons\n",
    "import seaborn as sns\n",
    "import matplotlib.pyplot as plt\n",
    "import numpy as np\n",
    "import tensorflow as tf\n",
    "import pandas as pd\n",
    "from sklearn import svm\n",
    "from sklearn.gaussian_process.kernels import RBF\n",
    "from utils import plot_iris, get_idx_from_features, make_meshgrid, plot_contours, plot_dataset, plot_nonlinear"
   ],
   "outputs": [],
   "metadata": {}
  },
  {
   "cell_type": "code",
   "execution_count": null,
   "source": [
    "data = load_iris()\n",
    "data.keys()"
   ],
   "outputs": [],
   "metadata": {}
  },
  {
   "cell_type": "code",
   "execution_count": null,
   "source": [
    "data.get('target_names'), data.get('feature_names')"
   ],
   "outputs": [],
   "metadata": {}
  },
  {
   "cell_type": "markdown",
   "source": [
    "#### Split data within classes based on features"
   ],
   "metadata": {}
  },
  {
   "cell_type": "code",
   "execution_count": null,
   "source": [
    "feature_id1, feature_id2 = get_idx_from_features('sepal width (cm)', 'petal width (cm)')\n",
    "\n",
    "setosa = data.get('data')[:50][:, [feature_id1, feature_id2]]\n",
    "versicolor = data.get('data')[50:100][:, [feature_id1, feature_id2]]\n",
    "virginica = data.get('data')[100:150][:, [feature_id1, feature_id2]]\n",
    "\n",
    "x = np.append(setosa, virginica, axis=0)\n",
    "y = np.append(data.get('target')[:50], data.get('target')[100:150])"
   ],
   "outputs": [],
   "metadata": {}
  },
  {
   "cell_type": "markdown",
   "source": [
    "### Linear Hyperplane"
   ],
   "metadata": {}
  },
  {
   "cell_type": "code",
   "execution_count": null,
   "source": [
    "model = svm.SVC(kernel='linear')"
   ],
   "outputs": [],
   "metadata": {}
  },
  {
   "cell_type": "code",
   "execution_count": null,
   "source": [
    "model.fit(x,y)"
   ],
   "outputs": [],
   "metadata": {}
  },
  {
   "cell_type": "code",
   "execution_count": null,
   "source": [
    "# coefficients in our linear equation\n",
    "model.coef_"
   ],
   "outputs": [],
   "metadata": {}
  },
  {
   "cell_type": "markdown",
   "source": [
    "### Hyperplane linear graph"
   ],
   "metadata": {}
  },
  {
   "cell_type": "code",
   "execution_count": null,
   "source": [
    "w = -model.coef_[0][0]/model.coef_[0][1]\n",
    "b = model.intercept_[0]\n",
    "line_x = np.arange(2,4,0.01)\n",
    "line_y = line_x * w - b/model.coef_[0][1]"
   ],
   "outputs": [],
   "metadata": {}
  },
  {
   "cell_type": "code",
   "execution_count": null,
   "source": [
    "plot_iris(setosa, 'setosa', virginica, 'virginica', 'sepal width (cm)', 'petal width (cm)')\n",
    "plt.scatter(model.support_vectors_[:, 0], model.support_vectors_[:, 1], color='red', label='support vectors')\n",
    "plt.plot(line_x, line_y, linewidth=1, label='hyperplane')\n",
    "plt.legend()\n",
    "plt.show()"
   ],
   "outputs": [],
   "metadata": {}
  },
  {
   "cell_type": "markdown",
   "source": [
    "### Multiple Kernels with contour map"
   ],
   "metadata": {}
  },
  {
   "cell_type": "code",
   "execution_count": null,
   "source": [
    "linear = svm.SVC(kernel='linear')\n",
    "poly = svm.SVC(kernel='poly', C=2)\n",
    "rbf = svm.SVC(kernel='rbf')"
   ],
   "outputs": [],
   "metadata": {}
  },
  {
   "cell_type": "code",
   "execution_count": null,
   "source": [
    "y = data.get('target')\n",
    "x = data.get('data')[:][:, [feature_id1, feature_id2]]"
   ],
   "outputs": [],
   "metadata": {}
  },
  {
   "cell_type": "code",
   "execution_count": null,
   "source": [
    "fig, ax = plt.subplots(3,1, figsize=(8,15))\n",
    "kernels = [linear, poly, rbf]\n",
    "kernel_names = ['linear', 'poly', 'rbf']\n",
    "for i, model in enumerate(kernels):\n",
    "    model.fit(x,y)\n",
    "    xx, yy = make_meshgrid(x, y)\n",
    "    plot_dataset(ax[i], setosa, 'setosa', versicolor, 'versicolor', virginica, 'virginica', 'sepal width (cm)', 'petal width (cm)')\n",
    "    plot_contours(ax[i], model, xx, yy, cmap=plt.cm.coolwarm, alpha=0.2)\n",
    "    ax[i].scatter(model.support_vectors_[:, 0], model.support_vectors_[:, 1], color='red', label='support vectors')\n",
    "    ax[i].set_title(f'SVM with {kernel_names[i]} kernel')\n",
    "plt.show()"
   ],
   "outputs": [],
   "metadata": {}
  },
  {
   "cell_type": "markdown",
   "source": [
    "### Circular data"
   ],
   "metadata": {}
  },
  {
   "cell_type": "code",
   "execution_count": null,
   "source": [
    "# gamma -  `how far the influence of a single training example reaches, with low values meaning ‘far’ and high values meaning ‘close’.`\n",
    "# C - regularization parameter that controls tolerance to misclassification (the higher C, the less tolerance)\n",
    "rbf1 = svm.SVC(kernel='rbf', gamma=0.5, C=0.1)\n",
    "rbf2 = svm.SVC(kernel='rbf', gamma=0.5, C=0.5)\n",
    "rbf3 = svm.SVC(kernel='rbf', gamma=0.5, C=1)"
   ],
   "outputs": [],
   "metadata": {}
  },
  {
   "cell_type": "code",
   "execution_count": null,
   "source": [
    "# Choose for either of the two\n",
    "# X, y = make_circles(n_samples=100, noise=0.1)\n",
    "X, y = make_moons(n_samples=100, noise=0.05)"
   ],
   "outputs": [],
   "metadata": {}
  },
  {
   "cell_type": "code",
   "execution_count": null,
   "source": [
    "fig, ax = plt.subplots(3,1, figsize=(8,15))\n",
    "kernels = [rbf1, rbf2, rbf3]\n",
    "kernel_names = ['rbf1', 'rbf2', 'rbf3']\n",
    "for i, model in enumerate(kernels):\n",
    "    model.fit(X,y)\n",
    "    xx, yy = make_meshgrid(X, y)\n",
    "    plot_nonlinear(X,y)\n",
    "    plot_contours(ax[i], model, xx, yy, cmap=plt.cm.coolwarm, alpha=0.2)\n",
    "    ax[i].scatter(model.support_vectors_[:, 0], model.support_vectors_[:, 1], color='red', label='support vectors')\n",
    "    ax[i].set_title(f'SVM with {kernel_names[i]} kernel')\n",
    "plt.show()"
   ],
   "outputs": [],
   "metadata": {}
  },
  {
   "cell_type": "code",
   "execution_count": null,
   "source": [
    "fig, ax = plt.subplots(figsize=(4,4))\n",
    "# X, y = make_circles(n_samples=100, noise=0.1)\n",
    "# plot_nonlinear(X,y)\n",
    "X, y = make_moons(n_samples=100, noise=0.05)\n",
    "plot_nonlinear(X,y)"
   ],
   "outputs": [],
   "metadata": {}
  },
  {
   "cell_type": "code",
   "execution_count": null,
   "source": [],
   "outputs": [],
   "metadata": {}
  }
 ],
 "metadata": {
  "interpreter": {
   "hash": "64689e8cfaf3b1a6014f0d7f2f290c1849c0d60709909de228356e490e4bb3ce"
  },
  "kernelspec": {
   "name": "python3",
   "display_name": "Python 3.8.5 64-bit ('base': conda)"
  },
  "language_info": {
   "codemirror_mode": {
    "name": "ipython",
    "version": 3
   },
   "file_extension": ".py",
   "mimetype": "text/x-python",
   "name": "python",
   "nbconvert_exporter": "python",
   "pygments_lexer": "ipython3",
   "version": "3.8.5"
  }
 },
 "nbformat": 4,
 "nbformat_minor": 2
}